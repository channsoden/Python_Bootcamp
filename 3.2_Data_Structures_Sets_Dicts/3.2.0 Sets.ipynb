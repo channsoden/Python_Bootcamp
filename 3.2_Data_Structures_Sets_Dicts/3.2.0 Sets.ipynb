{
 "cells": [
  {
   "cell_type": "markdown",
   "metadata": {},
   "source": [
    "# Sets\n",
    "\n",
    "## topics\n",
    "1. What is a set?\n",
    "2. Set operations\n",
    "3. Set examples\n",
    "4. Set psets"
   ]
  },
  {
   "cell_type": "markdown",
   "metadata": {},
   "source": [
    "# What is a set?"
   ]
  },
  {
   "cell_type": "markdown",
   "metadata": {},
   "source": [
    "Sets are data structures that look similar to lists. Unlike a list, it only contains a unique elements and has its own set of operations"
   ]
  },
  {
   "cell_type": "code",
   "execution_count": 1,
   "metadata": {},
   "outputs": [
    {
     "name": "stdout",
     "output_type": "stream",
     "text": [
      "This is what the list looks like: [1, 2, 3, 2, 1, 4, 4, 5]\n",
      "The list has 8 elements\n",
      "<type 'list'>\n",
      "This is what the set looks like: set([1, 2, 3, 4, 5])\n",
      "The set has 5 elements\n",
      "<type 'set'>\n"
     ]
    }
   ],
   "source": [
    "'''\n",
    "What a list looks like vs a set\n",
    "'''\n",
    "myList = [1,2,3,2,1,4,4,5]\n",
    "mySet  = set(myList) # use the set() function to convert a list or value to a set\n",
    "\n",
    "print('This is what the list looks like: {}' .format(myList))\n",
    "print('The list has {} elements' .format(len(myList)))\n",
    "print(type(myList))\n",
    "print('This is what the set looks like: {}' .format(mySet))\n",
    "print('The set has {} elements' .format(len(mySet)))\n",
    "print(type(mySet))"
   ]
  },
  {
   "cell_type": "markdown",
   "metadata": {},
   "source": [
    "# Set operations"
   ]
  },
  {
   "cell_type": "markdown",
   "metadata": {},
   "source": [
    "Sets are very useful when it comes to checking for the existence of elements in a group of values. They're actually much faster than lists in that respect! However, it takes longer to loop through a set than it does for lists. Let's focus on checking for elements in sets and between sets.\n",
    "\n",
    "Before we continue, check here for a list of set operations: https://docs.python.org/2/library/sets.html"
   ]
  },
  {
   "cell_type": "markdown",
   "metadata": {},
   "source": [
    "# Set examples"
   ]
  },
  {
   "cell_type": "markdown",
   "metadata": {},
   "source": [
    "## Fibonacci digits vs Pi digits"
   ]
  },
  {
   "cell_type": "code",
   "execution_count": 3,
   "metadata": {
    "collapsed": true
   },
   "outputs": [],
   "source": [
    "'''\n",
    "Let us do some example operations.\n",
    "First, let's generate some data.\n",
    "We should have 2 sets of numbers:\n",
    "1. first 10 fibonacci numbers, all double digits is split into single digits\n",
    "2. first 10 digits of pi\n",
    "'''\n",
    "fibSeq = set([0,1,1,2,3,5,8,1,3,2])\n",
    "piSeq  = set([3,1,4,1,5,9,2,6,5,3])"
   ]
  },
  {
   "cell_type": "markdown",
   "metadata": {},
   "source": [
    "Let us compare these sets and answer the following questions:\n",
    "1. Are the sets equal? Most likely not, but let's check anyway\n",
    "2. What elements do they have in common?\n",
    "3. Can we modify both sets so that they no longer have elements in common?\n"
   ]
  },
  {
   "cell_type": "code",
   "execution_count": 4,
   "metadata": {},
   "outputs": [
    {
     "name": "stdout",
     "output_type": "stream",
     "text": [
      "Looking at the subsets...\n",
      "Through direct comparison...\n",
      "The sets are not identical\n"
     ]
    }
   ],
   "source": [
    "'''\n",
    "Are the sets equal?\n",
    "If both are subsets of each other, they should be identical\n",
    "1. Check to see if they're both subsets of each other\n",
    "2. Use the \"==\" boolean to see if they're identical\n",
    "'''\n",
    "## Subset? ##\n",
    "def compare_sets_subset(setA, setB):\n",
    "    print('Looking at the subsets...')\n",
    "    if setA <= setB:\n",
    "        print('{} is a subset of {}' .format(setA, setB))\n",
    "    \n",
    "    if setA >= setB:\n",
    "        print('{} is a subset of {}' .format(setB, setA))\n",
    "\n",
    "## Direct comparison ##\n",
    "def compare_sets_direct(setA, setB):\n",
    "    print('Through direct comparison...')\n",
    "    if setA == setB:\n",
    "        print('The sets are identical')\n",
    "    else:\n",
    "        print('The sets are not identical')\n",
    "        \n",
    "compare_sets_subset(fibSeq, piSeq)\n",
    "compare_sets_direct(fibSeq, piSeq)"
   ]
  },
  {
   "cell_type": "code",
   "execution_count": 13,
   "metadata": {},
   "outputs": [
    {
     "name": "stdout",
     "output_type": "stream",
     "text": [
      "set([1, 2, 3, 5])\n"
     ]
    }
   ],
   "source": [
    "'''\n",
    "Let's look at elements they have in common.\n",
    "We'll use the & operator to get a set of shared elements\n",
    "'''\n",
    "## Get a set of common elements ##\n",
    "sharedSeq = fibSeq & piSeq\n",
    "print(sharedSeq)"
   ]
  },
  {
   "cell_type": "code",
   "execution_count": 14,
   "metadata": {},
   "outputs": [
    {
     "name": "stdout",
     "output_type": "stream",
     "text": [
      "The unique elements in fibSeq are set([0, 8])\n",
      "The unique elements in piSeq are set([4, 6, 9])\n"
     ]
    }
   ],
   "source": [
    "'''\n",
    "Let's now remove sharedSeq from each sequence\n",
    "'''\n",
    "## Remove elements from setB from setA ##\n",
    "fibSeq -= sharedSeq\n",
    "piSeq  -= sharedSeq\n",
    "\n",
    "print('The unique elements in fibSeq are {}' .format(fibSeq))\n",
    "print('The unique elements in piSeq are {}' .format(piSeq))"
   ]
  },
  {
   "cell_type": "markdown",
   "metadata": {},
   "source": [
    "# Set Psets"
   ]
  },
  {
   "cell_type": "raw",
   "metadata": {},
   "source": [
    "1. Working with fibSeq and piSeq, find the set of elements that are found in either fibSeq or piSeq, but not both. Here are the 2 sets once more:\n",
    "\n",
    "fibSeq = set([0,1,1,2,3,5,8,1,3,2])\n",
    "piSeq  = set([3,1,4,1,5,9,2,6,5,3])"
   ]
  },
  {
   "cell_type": "raw",
   "metadata": {},
   "source": [
    "2. Write a function that takes in 2 lists as an argument and returns the following:\n",
    "a. If there are overlapping elements, return 'These lists share some elements. they are <list of elements>.' \n",
    "b. Otherwise, the function should return 'There are no overlaps. Here's their union: <union of lists>'\n",
    "\n",
    "This excercise can be done without sets. However, as the list sizes increase, the time it takes to do this using alternative methods increases faster relative to using sets.\n",
    "\n",
    "Fun fact: The Fitch algorithm is one in which one tries to infer the ancestral states of a phylogeny given a phylogenetic tree and the state of its leaves. Part of the algorithm requires looking at overlaps and unions of lists."
   ]
  },
  {
   "cell_type": "raw",
   "metadata": {},
   "source": [
    "3. Write a function that takes in a list of lists as an argument and spits out the overlap of all sublists. For example, given [[1,2,3],[3,4,5],[3,8,9]], write a function that will return a 3. If there are no overlaps, it should return a statement stating as such.\n",
    "\n",
    "Check to see if it works on the following lists:\n",
    "[[1,2,3],[3,4,5],[3,8,9]]\n",
    "[[1,1,2],[2,4,5,7,1,8,9],[7,4,5,2,4,0,9],[3,1,5,3,2,3,6]]\n",
    "[['a',3,5,'c','z'],['s','b','z',1,6,3],[1,2,3,'z','a',5,6,8]]\n",
    "[[1,2],[3,4],[5,6,7],[1,3]]"
   ]
  }
 ],
 "metadata": {
  "kernelspec": {
   "display_name": "Python 2",
   "language": "python",
   "name": "python2"
  },
  "language_info": {
   "codemirror_mode": {
    "name": "ipython",
    "version": 2
   },
   "file_extension": ".py",
   "mimetype": "text/x-python",
   "name": "python",
   "nbconvert_exporter": "python",
   "pygments_lexer": "ipython2",
   "version": "2.7.13"
  }
 },
 "nbformat": 4,
 "nbformat_minor": 1
}
