{
 "cells": [
  {
   "cell_type": "markdown",
   "metadata": {},
   "source": [
    "# 3.2: Fancy Data Structures: Nested Loops\n",
    "\n",
    "\n",
    "## Topics\n",
    "1. list of lists\n",
    "2. dictionary of dictionaries\n",
    "3. list of dictionaries and vice versa\n",
    "4. tuples and dictionaries\n",
    "5. nested loops\n",
    "\n",
    "### Introduction\n",
    "So far, you've learned to play around with some aspects of python: *functions, loops, and data structures*. We're now going to combine them to explore **nested data structures** and **nested loops**. The term, **nested**, indicates that there are data structures within data structures and loops within loops. These are generally used when we're looking at combinatorial data, e.g. SNPs in each chromosome or gene expression in different tissues."
   ]
  },
  {
   "cell_type": "markdown",
   "metadata": {},
   "source": [
    "## List of Lists\n",
    "\n",
    "Let's first start by making a couple of lists."
   ]
  },
  {
   "cell_type": "code",
   "execution_count": 1,
   "metadata": {},
   "outputs": [
    {
     "name": "stdout",
     "output_type": "stream",
     "text": [
      "time_wasters: ['facebook', 'xanga', '9gag', 'reddit']\n",
      "lab_space: ['wet lab', 'cold room', 'shared space']\n"
     ]
    }
   ],
   "source": [
    "# Things related to research\n",
    "time_wasters = ['facebook', 'xanga', '9gag', 'reddit'] # instead of working, this is what we do\n",
    "lab_space = ['wet lab', 'cold room', 'shared space'] # potentially where we waste time\n",
    "\n",
    "print 'time_wasters:', time_wasters\n",
    "print 'lab_space:', lab_space"
   ]
  },
  {
   "cell_type": "markdown",
   "metadata": {},
   "source": [
    "Incidentally, making a list of lists is fairly simple -- we can just create a new list variable and fill it with lists that we've already defined. Another way would be to manually input everything ourselves."
   ]
  },
  {
   "cell_type": "code",
   "execution_count": 2,
   "metadata": {
    "scrolled": true
   },
   "outputs": [
    {
     "name": "stdout",
     "output_type": "stream",
     "text": [
      "research: [['facebook', 'xanga', '9gag', 'reddit'], ['wet lab', 'cold room', 'shared space']]\n"
     ]
    }
   ],
   "source": [
    "# method 1 for list of lists\n",
    "research = [time_wasters, lab_space]\n",
    "\n",
    "#### OR ####\n",
    "\n",
    "# method 2 for list of lists (manually)\n",
    "research = [['facebook', 'xanga', '9gag', 'reddit'],['wet lab', 'cold room', 'shared space']]\n",
    "# each list within the main list is contained in its own square brackets\n",
    "\n",
    "print 'research:', research"
   ]
  },
  {
   "cell_type": "markdown",
   "metadata": {},
   "source": [
    "## Retrieving Elements in List of Lists\n",
    "Getting elements in a list of lists is similar to getting elements in a list. The difference is that we add another index. Let's first see what happens when we try to retrieve the first and second elements of \"research\"."
   ]
  },
  {
   "cell_type": "code",
   "execution_count": 3,
   "metadata": {},
   "outputs": [
    {
     "name": "stdout",
     "output_type": "stream",
     "text": [
      "List_a has  ['facebook', 'xanga', '9gag', 'reddit']\n",
      "List_b has  ['wet lab', 'cold room', 'shared space']\n"
     ]
    }
   ],
   "source": [
    "# Let's get the first list in research\n",
    "List_a = research[0]\n",
    "List_b = research[1]\n",
    "\n",
    "print 'List_a has ', List_a\n",
    "print 'List_b has ', List_b"
   ]
  },
  {
   "cell_type": "markdown",
   "metadata": {},
   "source": [
    "Let's now try to retrieve '9gag' and 'cold room' from each list. The natural way, now that we have 2 different lists is simply to index them, but it can be a pain if you have a lot of lists nested within a list. We can use to sets of indexing instead."
   ]
  },
  {
   "cell_type": "code",
   "execution_count": 4,
   "metadata": {},
   "outputs": [
    {
     "name": "stdout",
     "output_type": "stream",
     "text": [
      "9gag\n",
      "cold room\n"
     ]
    }
   ],
   "source": [
    "# Long way\n",
    "print List_a[2]\n",
    "print List_b[1]\n"
   ]
  },
  {
   "cell_type": "code",
   "execution_count": 5,
   "metadata": {},
   "outputs": [
    {
     "name": "stdout",
     "output_type": "stream",
     "text": [
      "9gag\n",
      "cold room\n"
     ]
    }
   ],
   "source": [
    "# Faster way without creating new variables for each nested list\n",
    "a = research[0][2]\n",
    "b = research[1][1]\n",
    "\n",
    "print a\n",
    "print b"
   ]
  },
  {
   "cell_type": "markdown",
   "metadata": {},
   "source": [
    "This works for as many nested lists you have; just keep using as many indices until you get what you want"
   ]
  },
  {
   "cell_type": "code",
   "execution_count": 6,
   "metadata": {},
   "outputs": [
    {
     "name": "stdout",
     "output_type": "stream",
     "text": [
      "83\n"
     ]
    }
   ],
   "source": [
    "# E.g.\n",
    "big_List = [[[1,2,3],[6,5,4],[7,8,2]],[[11,12,13],[15,15,15],[83,94,19]]]\n",
    "\n",
    "print big_List[1][2][0]"
   ]
  },
  {
   "cell_type": "markdown",
   "metadata": {},
   "source": [
    "## List operations\n",
    "Like regular lists, all other list operations still work. Let's add a list of hangout places to *research*."
   ]
  },
  {
   "cell_type": "code",
   "execution_count": 7,
   "metadata": {},
   "outputs": [
    {
     "name": "stdout",
     "output_type": "stream",
     "text": [
      "[['facebook', 'xanga', '9gag', 'reddit'], ['wet lab', 'cold room', 'shared space'], ['Jupiter', 'Gardens', 'SF']]\n"
     ]
    }
   ],
   "source": [
    "# Make a list of hangouts\n",
    "hangout = ['Jupiter','Gardens','SF']\n",
    "research.append(hangout) # research should now have a sublist of hangouts\n",
    "\n",
    "print research"
   ]
  },
  {
   "cell_type": "markdown",
   "metadata": {},
   "source": [
    "What happens if you modify the *hangout* sublist under *research*?"
   ]
  },
  {
   "cell_type": "code",
   "execution_count": 8,
   "metadata": {},
   "outputs": [
    {
     "name": "stdout",
     "output_type": "stream",
     "text": [
      "['Jupiter', 'Gardens', 'SF', 'Starbucks']\n",
      "['Jupiter', 'Gardens', 'SF', 'Starbucks']\n"
     ]
    }
   ],
   "source": [
    "# Add Starbucks to the hangout sublist under research\n",
    "research[2].append('Starbucks')\n",
    "\n",
    "print research[2]\n",
    "print hangout"
   ]
  },
  {
   "cell_type": "markdown",
   "metadata": {},
   "source": [
    "Notice how there's a change in hangout as well? That's because the 2 lists are the same exact one, just in 2 different locations. If this is a problem, simply copy of the elements of the *hangout* list to add to *research*."
   ]
  },
  {
   "cell_type": "code",
   "execution_count": 9,
   "metadata": {},
   "outputs": [
    {
     "name": "stdout",
     "output_type": "stream",
     "text": [
      "['Jupiter', 'Gardens', 'SF', 'Starbucks']\n",
      "['Jupiter', 'Gardens', 'SF', 'Peets']\n",
      "['Jupiter', 'Gardens', 'SF', 'Starbucks']\n",
      "['Jupiter', 'Gardens', 'SF', 'Peets']\n"
     ]
    }
   ],
   "source": [
    "# Reinitialize the original research list\n",
    "research = [time_wasters, lab_space]\n",
    "\n",
    "# Method 1\n",
    "research.append([]) # add a new empty list ot be filled\n",
    "research[2].append(hangout[0]) # start adding stuff from hangout list\n",
    "research[2].append(hangout[1])\n",
    "research[2].append(hangout[2])\n",
    "research[2].append('Peets')\n",
    "print hangout\n",
    "print research[2]\n",
    "\n",
    "research=[time_wasters,lab_space]\n",
    "# Method 2\n",
    "research.append(hangout[:])\n",
    "research[2][3] = 'Peets'\n",
    "print hangout\n",
    "print research[2]"
   ]
  },
  {
   "cell_type": "markdown",
   "metadata": {},
   "source": [
    "In this case, we modified *research* without altering *hangout*."
   ]
  },
  {
   "cell_type": "markdown",
   "metadata": {},
   "source": [
    "## Dictionary of Dictionaries\n",
    "The gist of it will be very similar to how nested lists work, except in the context of dictionaries"
   ]
  },
  {
   "cell_type": "code",
   "execution_count": 10,
   "metadata": {},
   "outputs": [
    {
     "name": "stdout",
     "output_type": "stream",
     "text": [
      "{'chromosome5': {'male': 0, 'female': 11}, 'chromosome1': {'male': 2, 'female': 10}, 'chromosome8': {'male': 0, 'female': 0}}\n"
     ]
    }
   ],
   "source": [
    "# Let's make a nested dictionary right off the bat:\n",
    "# Imagine we are looking at number of males and females with SNPs related to a specific disease in 3 chromosomes\n",
    "Experiment_A = {'chromosome1': {'male':2, 'female':10},\n",
    "                'chromosome5': {'male':0, 'female':11},\n",
    "                'chromosome8': {'male':0, 'female':0}}\n",
    "print Experiment_A"
   ]
  },
  {
   "cell_type": "markdown",
   "metadata": {},
   "source": [
    "Like using multiple indices for nested loops, you can call inner levels of dictionaries using multiple keys corresponding to each level."
   ]
  },
  {
   "cell_type": "code",
   "execution_count": 11,
   "metadata": {},
   "outputs": [
    {
     "name": "stdout",
     "output_type": "stream",
     "text": [
      "2\n",
      "0\n"
     ]
    }
   ],
   "source": [
    "print Experiment_A['chromosome1']['male']\n",
    "print Experiment_A['chromosome8']['female']"
   ]
  },
  {
   "cell_type": "markdown",
   "metadata": {},
   "source": [
    "## Lists of Dictionaries and Vice Versa\n",
    "They work exactly the same as nested loops and dictionaries. The main thing to keep in mind is to make sure to use list operations when working on the list level and dictionary operations when working on the dictionary level."
   ]
  },
  {
   "cell_type": "code",
   "execution_count": 12,
   "metadata": {},
   "outputs": [
    {
     "name": "stdout",
     "output_type": "stream",
     "text": [
      "[{'dict1': 'stuff'}, {'dict2': 'things'}]\n",
      "stuff\n"
     ]
    }
   ],
   "source": [
    "# List of dictionaries\n",
    "LoD = [{'dict1':'stuff'}, {'dict2':'things'}]\n",
    "print LoD\n",
    "print LoD[0]['dict1']"
   ]
  },
  {
   "cell_type": "code",
   "execution_count": 13,
   "metadata": {},
   "outputs": [
    {
     "name": "stdout",
     "output_type": "stream",
     "text": [
      "{'fun': ['Jupiter', 'Gardens', 'SF', 'Starbucks'], 'procrastinate': ['facebook', 'xanga', '9gag', 'reddit'], 'work': ['wet lab', 'cold room', 'shared space']}\n",
      "SF\n"
     ]
    }
   ],
   "source": [
    "# Dictionary of lists\n",
    "DoL = {'fun':hangout,\n",
    "       'work': lab_space,\n",
    "       'procrastinate': time_wasters}\n",
    "print DoL\n",
    "print DoL['fun'][2]"
   ]
  },
  {
   "cell_type": "markdown",
   "metadata": {},
   "source": [
    "Make sure to close all brackets and curly braces before starting a new one -- otherwise, this will happen!"
   ]
  },
  {
   "cell_type": "code",
   "execution_count": 2,
   "metadata": {},
   "outputs": [],
   "source": [
    "a = {'hello':['friend', 'world', 'kitty']}"
   ]
  },
  {
   "cell_type": "markdown",
   "metadata": {},
   "source": [
    "## Tuples and Dictionaries\n",
    "It's worth mentioning the use of tuples and dictionaries. Let's say we want a dictionary key to have multiple values, how do we do this?\n",
    "\n",
    "Let's say you're playing battleships with someone and you want to record the moves you make in terms of x,y values and whether or not you hit or miss."
   ]
  },
  {
   "cell_type": "code",
   "execution_count": 15,
   "metadata": {
    "collapsed": true
   },
   "outputs": [],
   "source": [
    "MOVES = {}\n",
    "\n",
    "m1L = ['a',7] # this is a list\n",
    "m1T = ('a',7) # this is a tuple"
   ]
  },
  {
   "cell_type": "code",
   "execution_count": 16,
   "metadata": {},
   "outputs": [
    {
     "ename": "TypeError",
     "evalue": "unhashable type: 'list'",
     "output_type": "error",
     "traceback": [
      "\u001b[1;31m---------------------------------------------------------------------------\u001b[0m",
      "\u001b[1;31mTypeError\u001b[0m                                 Traceback (most recent call last)",
      "\u001b[1;32m<ipython-input-16-24922e4618a5>\u001b[0m in \u001b[0;36m<module>\u001b[1;34m()\u001b[0m\n\u001b[1;32m----> 1\u001b[1;33m \u001b[0mMOVES\u001b[0m\u001b[1;33m[\u001b[0m\u001b[0mm1L\u001b[0m\u001b[1;33m]\u001b[0m \u001b[1;33m=\u001b[0m \u001b[1;34m'hit'\u001b[0m\u001b[1;33m\u001b[0m\u001b[0m\n\u001b[0m",
      "\u001b[1;31mTypeError\u001b[0m: unhashable type: 'list'"
     ]
    }
   ],
   "source": [
    "MOVES[m1L] = 'hit'"
   ]
  },
  {
   "cell_type": "markdown",
   "metadata": {},
   "source": [
    "We see that using a list as a dictionary key doesn't work. This is because lists are mutable while dictionary keys must be immutable! Since tuples are immutable, we should be able to use them as dictionary keys, right?"
   ]
  },
  {
   "cell_type": "code",
   "execution_count": 17,
   "metadata": {},
   "outputs": [
    {
     "name": "stdout",
     "output_type": "stream",
     "text": [
      "{('a', 7): 'hit'}\n"
     ]
    }
   ],
   "source": [
    "MOVES[m1T] = 'hit'\n",
    "print MOVES"
   ]
  },
  {
   "cell_type": "markdown",
   "metadata": {},
   "source": [
    "## Nested Loops\n",
    "These are very useful for generating nested data structures or pulling out data from nested data structures. As implied, these are simply loops within loops. First, let's make 2 lists that we want to work with."
   ]
  },
  {
   "cell_type": "code",
   "execution_count": 18,
   "metadata": {
    "collapsed": true
   },
   "outputs": [],
   "source": [
    "# Create two lists of letters and numbers\n",
    "letters = ['a','b','c','d']\n",
    "numbers = [1,2,3,4]"
   ]
  },
  {
   "cell_type": "markdown",
   "metadata": {},
   "source": [
    "Then we make a function that will create each pairwise combination of letters and numbers"
   ]
  },
  {
   "cell_type": "code",
   "execution_count": 19,
   "metadata": {},
   "outputs": [
    {
     "name": "stdout",
     "output_type": "stream",
     "text": [
      "a 1\n",
      "a 2\n",
      "a 3\n",
      "a 4\n",
      "b 1\n",
      "b 2\n",
      "b 3\n",
      "b 4\n",
      "c 1\n",
      "c 2\n",
      "c 3\n",
      "c 4\n",
      "d 1\n",
      "d 2\n",
      "d 3\n",
      "d 4\n"
     ]
    }
   ],
   "source": [
    "def combo(list_a, list_b):\n",
    "    for i in list_a:\n",
    "        for j in list_b:\n",
    "            print i, j\n",
    "            \n",
    "combo(letters, numbers)"
   ]
  },
  {
   "cell_type": "markdown",
   "metadata": {},
   "source": [
    "In this case, changing the order of the lists simply changes the order in which it prints. It's up to you how you want your data to look."
   ]
  },
  {
   "cell_type": "code",
   "execution_count": 20,
   "metadata": {},
   "outputs": [
    {
     "name": "stdout",
     "output_type": "stream",
     "text": [
      "1 a\n",
      "1 b\n",
      "1 c\n",
      "1 d\n",
      "2 a\n",
      "2 b\n",
      "2 c\n",
      "2 d\n",
      "3 a\n",
      "3 b\n",
      "3 c\n",
      "3 d\n",
      "4 a\n",
      "4 b\n",
      "4 c\n",
      "4 d\n"
     ]
    }
   ],
   "source": [
    "combo(numbers, letters)"
   ]
  },
  {
   "cell_type": "markdown",
   "metadata": {},
   "source": [
    "## Use With Nested Loops\n",
    "How does this work with nested data structures? Let's use the original *research* list and find all the lab spaces and ways we can procrastinate."
   ]
  },
  {
   "cell_type": "code",
   "execution_count": 21,
   "metadata": {},
   "outputs": [
    {
     "name": "stdout",
     "output_type": "stream",
     "text": [
      "procrastinate with facebook in the wet lab\n",
      "procrastinate with facebook in the cold room\n",
      "procrastinate with facebook in the shared space\n",
      "procrastinate with xanga in the wet lab\n",
      "procrastinate with xanga in the cold room\n",
      "procrastinate with xanga in the shared space\n",
      "procrastinate with 9gag in the wet lab\n",
      "procrastinate with 9gag in the cold room\n",
      "procrastinate with 9gag in the shared space\n",
      "procrastinate with reddit in the wet lab\n",
      "procrastinate with reddit in the cold room\n",
      "procrastinate with reddit in the shared space\n"
     ]
    }
   ],
   "source": [
    "# reinitialize research\n",
    "research = [time_wasters,lab_space]\n",
    "\n",
    "# write a function to get each pairwise combination\n",
    "def daily_lab(nested_list):\n",
    "    for i in nested_list[0]:\n",
    "        for j in nested_list[1]:\n",
    "            print 'procrastinate with {} in the {}' .format(i, j)\n",
    "            \n",
    "# run function\n",
    "daily_lab(research)"
   ]
  },
  {
   "cell_type": "markdown",
   "metadata": {},
   "source": [
    "We can even try making a dictionary to show all these combinations."
   ]
  },
  {
   "cell_type": "code",
   "execution_count": 23,
   "metadata": {},
   "outputs": [
    {
     "name": "stdout",
     "output_type": "stream",
     "text": [
      "{'cold room': ['facebook', 'xanga', '9gag', 'reddit'], 'wet lab': ['facebook', 'xanga', '9gag', 'reddit'], 'shared space': ['facebook', 'xanga', '9gag', 'reddit']}\n"
     ]
    }
   ],
   "source": [
    "def daily_lab_dict(nested_list):\n",
    "    combo_dict = {}\n",
    "    for i in nested_list[1]:\n",
    "        combo_dict[i] = []\n",
    "        for j in nested_list[0]:\n",
    "            combo_dict[i].append(j)\n",
    "    return combo_dict\n",
    "\n",
    "test = daily_lab_dict(research)\n",
    "print test"
   ]
  },
  {
   "cell_type": "markdown",
   "metadata": {},
   "source": [
    "## Use With Nested Dictionaries\n",
    "Let's use *Experiment_A* as an example for this. Let's print out each pairwise information for easier viewing."
   ]
  },
  {
   "cell_type": "code",
   "execution_count": 24,
   "metadata": {},
   "outputs": [
    {
     "name": "stdout",
     "output_type": "stream",
     "text": [
      "{'chromosome5': {'male': 0, 'female': 11}, 'chromosome1': {'male': 2, 'female': 10}, 'chromosome8': {'male': 0, 'female': 0}}\n"
     ]
    }
   ],
   "source": [
    "# Reprint Experiment_A, just to take a look\n",
    "print Experiment_A"
   ]
  },
  {
   "cell_type": "code",
   "execution_count": 25,
   "metadata": {},
   "outputs": [
    {
     "name": "stdout",
     "output_type": "stream",
     "text": [
      "chromosome5 male has 0 SNPs\n",
      "chromosome5 female has 11 SNPs\n",
      "chromosome1 male has 2 SNPs\n",
      "chromosome1 female has 10 SNPs\n",
      "chromosome8 male has 0 SNPs\n",
      "chromosome8 female has 0 SNPs\n"
     ]
    }
   ],
   "source": [
    "# Write a function to loop through each chromosome and sex and look at differences in counts\n",
    "def reprint(dictionary):\n",
    "    for i in dictionary:\n",
    "        for j in dictionary[i]:\n",
    "            print '{} {} has {} SNPs' .format(i, j, dictionary[i][j])\n",
    "            \n",
    "reprint(Experiment_A)"
   ]
  },
  {
   "cell_type": "markdown",
   "metadata": {},
   "source": [
    "We can also do math using nested loops to look at differences between two or more variables in nested dictionaries. Let's subtract female SNP numbers from males. We say it's male biased if the value is positive, female biased if negative, unbiased if 0."
   ]
  },
  {
   "cell_type": "code",
   "execution_count": 26,
   "metadata": {},
   "outputs": [
    {
     "name": "stdout",
     "output_type": "stream",
     "text": [
      "chromosome5 -11\n",
      "chromosome1 -8\n",
      "chromosome8 0\n"
     ]
    }
   ],
   "source": [
    "# Write a different function to do the math\n",
    "def bias(dictionary):\n",
    "    for i in dictionary:\n",
    "        print i, dictionary[i]['male'] - dictionary[i]['female']\n",
    "        \n",
    "bias(Experiment_A)"
   ]
  },
  {
   "cell_type": "markdown",
   "metadata": {},
   "source": [
    "## Exercises"
   ]
  },
  {
   "cell_type": "raw",
   "metadata": {},
   "source": [
    "1. A dictionary of dictionaries.\n",
    "You want to store sequence information from human, mouse, and rat. Each species has a set of gene names corresponding to a set of sequences-- make a dictionary that has keys 'human', 'mouse', and 'rat', with each key having as a value a dictionary with gene names as keys and sequences as values. The data are: \n",
    "    Human genes: 'TallnessGene' has sequence 'AATAGCAG' 'SmartnessGene' has sequence 'TGACGGA'\n",
    "    Mouse genes: 'FuzzynessGene' has sequence 'CCCCCCA' 'BeadyLittleEyesGene' has sequence 'ATAGCGC'\n",
    "    Rat genes: 'FuzzynessGene' has sequence 'CCCTCCA' 'BiggerThanMouseGene' has sequence 'GGACAATT'\n",
    "\n",
    "a) Create a dictionary of dictionaries and write a function that prints out a tab delimited file in the following format:\n",
    "<species>   <gene name>   <sequence>\n",
    "\n",
    "\n",
    "2. A list of lists & dictionary of lists\n",
    "You want to store the results of three different time series experiments, each with four data points. You should do this by creating a list with three elements.\n",
    "    run1: 2,3,5,5\n",
    "    run2: 2,2,4,5\n",
    "    run3: 3,3,4,6\n",
    "\n",
    "a) Create an empty list and create a list for each of the 3 runs. Use the append function 3 times to generate the list of lists. Finally, print out the list of lists\n",
    "\n",
    "b) Create the list by using the runs list as elements in a list. \n",
    "\n",
    "c) Create your list of lists, complete with data, all in one line.\n",
    "\n",
    "\n",
    "3. A dictionary of lists.\n",
    "Here, you have the number of pseudogenes derived from a particular family of genes in 4 homologous regions of humans, mice, and rats. You want to store this information in a dictionary of lists.\n",
    "    Human: 5,4,6,7\n",
    "    Mouse: 8,12,11,14\n",
    "    Rat: 10,11,13,15\n",
    "\n",
    "a) Create such a data structure at least 2 different ways. \n",
    "\n",
    "b) Write a function that will print out the sum of all pseudogenes per species.\n",
    "\n",
    "4. Run Lola Run\n",
    "Return to the time point data from problem two. Make three lists called 'run1', 'run2', and 'run3', and from them make a list of lists:\n",
    "    run1 = 2,3,5,5\n",
    "    run2 = 2,2,4,5\n",
    "    run3 = 3,3,4,6\n",
    "\n",
    "a) Write a function that will loop through these lists and give us the min, mean, and max. The output should be tab delimited and look like:\n",
    "<run number>   <min>   <mean>   <max>\n",
    "\n",
    "\n",
    "\n",
    "5. Nested Loops\n",
    "You've discovered 3 new very closely related species of dragons and wish to study their potential for hybridization and decide to set up bi-directional crosses -- this means every combination of dragon and sex. Make a dictionary (use a nested loop on the provided list) of all combinations of dragons with the keys being male,female pairs. There should be 9 in total.\n",
    "\n",
    "dragons = ['Drogon', 'Rhaegal', 'Viserion']\n",
    "\n",
    "You find that the offspring will have a wingspan dictated by the equation:\n",
    "\n",
    "wingspan = 30% of father's wingspan + 70% mother's wingspan\n",
    "\n",
    "You also note that Drogons have a wingspan of 13 inches, Rhaegals have a wingspan of 17 inches, and Viserions have a wingspan of 10 inches.\n",
    "\n",
    "You also find that the average number of spines on the offspring dragon's back is calculated by taking the wingspan and dividing by 5 and adding 1.\n",
    "\n",
    "a) Fill in the dictionary with wingspan and spine data for the offspring of the crosses. Feel free to take teh long way and do it by hand, or create a loop to fill in the data. Also, like in number 4, spit out the data in tab delimited form with the following format:\n",
    "<male species>    <female species>    <offspring wingspan>   <# of offspring spines>"
   ]
  }
 ],
 "metadata": {
  "anaconda-cloud": {},
  "kernelspec": {
   "display_name": "Python 2",
   "language": "python",
   "name": "python2"
  },
  "language_info": {
   "codemirror_mode": {
    "name": "ipython",
    "version": 2
   },
   "file_extension": ".py",
   "mimetype": "text/x-python",
   "name": "python",
   "nbconvert_exporter": "python",
   "pygments_lexer": "ipython2",
   "version": "2.7.13"
  }
 },
 "nbformat": 4,
 "nbformat_minor": 1
}
