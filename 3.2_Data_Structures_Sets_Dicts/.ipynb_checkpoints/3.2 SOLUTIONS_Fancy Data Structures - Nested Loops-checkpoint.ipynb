{
 "cells": [
  {
   "cell_type": "markdown",
   "metadata": {},
   "source": [
    "## Question 1"
   ]
  },
  {
   "cell_type": "raw",
   "metadata": {},
   "source": [
    "You want to store sequence information from human, mouse, and rat. Each species has a set of gene names corresponding to a set of sequences-- make a dictionary that has keys 'human', 'mouse', and 'rat', with each key having as a value a dictionary with gene names as keys and sequences as values. The data are: \n",
    "    Human genes: 'TallnessGene' has sequence 'AATAGCAG' 'SmartnessGene' has sequence 'TGACGGA'\n",
    "    Mouse genes: 'FuzzynessGene' has sequence 'CCCCCCA' 'BeadyLittleEyesGene' has sequence 'ATAGCGC'\n",
    "    Rat genes: 'FuzzynessGene' has sequence 'CCCTCCA' 'BiggerThanMouseGene' has sequence 'GGACAATT'"
   ]
  },
  {
   "cell_type": "raw",
   "metadata": {},
   "source": [
    "## Question 1A\n",
    "a) Create a dictionary of dictionaries and write a function that prints out a tab delimited file in the following format:\n",
    "\n",
    "species    gene name     sequence"
   ]
  },
  {
   "cell_type": "code",
   "execution_count": 1,
   "metadata": {
    "collapsed": true
   },
   "outputs": [],
   "source": [
    "# Make the dictionary\n",
    "geneDict = {'Human':{'TallnessGene':'AATAGCAG', \n",
    "                     'SmartnessGene':'TGACGGA'},\n",
    "            'Mouse':{'FuzzynessGene':'CCCCCCA',\n",
    "                      'BeadyLittleEyesGene':'ATAGCGC'},\n",
    "            'Rat':{'FuzzynessGene':'CCCTCCA',\n",
    "                    'BiggerThanMouseGene':'GGACAATT'}}"
   ]
  },
  {
   "cell_type": "code",
   "execution_count": 5,
   "metadata": {
    "collapsed": false
   },
   "outputs": [
    {
     "name": "stdout",
     "output_type": "stream",
     "text": [
      "Rat\tBiggerThanMouseGene\tGGACAATT\n",
      "Rat\tFuzzynessGene\tCCCTCCA\n",
      "Mouse\tBeadyLittleEyesGene\tATAGCGC\n",
      "Mouse\tFuzzynessGene\tCCCCCCA\n",
      "Human\tTallnessGene\tAATAGCAG\n",
      "Human\tSmartnessGene\tTGACGGA\n"
     ]
    }
   ],
   "source": [
    "def species_list(inDict):\n",
    "    for species in inDict:\n",
    "        for gene in inDict[species]:\n",
    "            print '{}\\t{}\\t{}' .format(species, gene, inDict[species][gene])\n",
    "            \n",
    "species_list(geneDict)"
   ]
  },
  {
   "cell_type": "markdown",
   "metadata": {},
   "source": [
    "## Question 2"
   ]
  },
  {
   "cell_type": "raw",
   "metadata": {},
   "source": [
    "2. A list of lists & dictionary of lists\n",
    "You want to store the results of three different time series experiments, each with four data points. You should do this by creating a list with three elements.\n",
    "    run1: 2,3,5,5\n",
    "    run2: 2,2,4,5\n",
    "    run3: 3,3,4,6\n",
    "\n",
    "a) Create an empty list and create a list for each of the 3 runs. Use the append function 3 times to generate the list of lists. Finally, print out the list of lists\n",
    "\n",
    "b) Create the list by using the runs list as elements in a list. \n",
    "\n",
    "c) Create your list of lists, complete with data, all in one line."
   ]
  },
  {
   "cell_type": "markdown",
   "metadata": {},
   "source": [
    "## Question 2A"
   ]
  },
  {
   "cell_type": "code",
   "execution_count": 5,
   "metadata": {
    "collapsed": false
   },
   "outputs": [
    {
     "name": "stdout",
     "output_type": "stream",
     "text": [
      "[[2, 3, 5, 5], [2, 2, 4, 5], [3, 3, 4, 6]]\n"
     ]
    }
   ],
   "source": [
    "experiment = []\n",
    "run1 = [2,3,5,5]\n",
    "run2 = [2,2,4,5]\n",
    "run3 = [3,3,4,6]\n",
    "\n",
    "experiment.append(run1)\n",
    "experiment.append(run2)\n",
    "experiment.append(run3)\n",
    "\n",
    "print experiment"
   ]
  },
  {
   "cell_type": "markdown",
   "metadata": {},
   "source": [
    "## Question 2B"
   ]
  },
  {
   "cell_type": "code",
   "execution_count": 6,
   "metadata": {
    "collapsed": false
   },
   "outputs": [
    {
     "name": "stdout",
     "output_type": "stream",
     "text": [
      "[[2, 3, 5, 5], [2, 2, 4, 5], [3, 3, 4, 6]]\n"
     ]
    }
   ],
   "source": [
    "experiment = [run1,run2,run3]\n",
    "\n",
    "print experiment"
   ]
  },
  {
   "cell_type": "markdown",
   "metadata": {},
   "source": [
    "## Question 2C"
   ]
  },
  {
   "cell_type": "code",
   "execution_count": 7,
   "metadata": {
    "collapsed": false
   },
   "outputs": [
    {
     "name": "stdout",
     "output_type": "stream",
     "text": [
      "[[2, 3, 5, 5], [2, 2, 4, 5], [3, 3, 4, 6]]\n"
     ]
    }
   ],
   "source": [
    "experiment = [[2,3,5,5],[2,2,4,5],[3,3,4,6]]\n",
    "\n",
    "print experiment"
   ]
  },
  {
   "cell_type": "markdown",
   "metadata": {},
   "source": [
    "## Question 3"
   ]
  },
  {
   "cell_type": "raw",
   "metadata": {},
   "source": [
    "3. A dictionary of lists.\n",
    "Here, you have the number of pseudogenes derived from a particular family of genes in 4 homologous regions of humans, mice, and rats. You want to store this information in a dictionary of lists.\n",
    "    Human: 5,4,6,7\n",
    "    Mouse: 8,12,11,14\n",
    "    Rat: 10,11,13,15\n",
    "\n",
    "a) Create such a data structure at least 2 different ways. \n",
    "\n",
    "b) Write a function that will print out the sum of all pseudogenes per species as well as the species the sum pertains to."
   ]
  },
  {
   "cell_type": "markdown",
   "metadata": {},
   "source": [
    "## Question 3A"
   ]
  },
  {
   "cell_type": "code",
   "execution_count": 8,
   "metadata": {
    "collapsed": false
   },
   "outputs": [
    {
     "name": "stdout",
     "output_type": "stream",
     "text": [
      "{'Rat': [10, 11, 13, 15], 'Mouse': [8, 12, 11, 14], 'Human': [5, 4, 6, 7]}\n"
     ]
    }
   ],
   "source": [
    "# Method 1, write it all out\n",
    "gene_dict = {'Human':[5,4,6,7],\n",
    "             'Mouse':[8,12,11,14],\n",
    "             'Rat':[10,11,13,15]}\n",
    "\n",
    "print gene_dict"
   ]
  },
  {
   "cell_type": "code",
   "execution_count": 9,
   "metadata": {
    "collapsed": false
   },
   "outputs": [
    {
     "name": "stdout",
     "output_type": "stream",
     "text": [
      "{'Rat': [10, 11, 13, 15], 'Mouse': [8, 12, 11, 14], 'Human': [5, 4, 6, 7]}\n"
     ]
    }
   ],
   "source": [
    "# Method 2, make lists and add to dictionary\n",
    "Human = [5,4,6,7]\n",
    "Mouse = [8,12,11,14]\n",
    "Rat  = [10,11,13,15]\n",
    "\n",
    "gene_dict = {'Human': Human,\n",
    "             'Mouse': Mouse,\n",
    "             'Rat': Rat}\n",
    "\n",
    "print gene_dict"
   ]
  },
  {
   "cell_type": "markdown",
   "metadata": {},
   "source": [
    "## Question 3B"
   ]
  },
  {
   "cell_type": "code",
   "execution_count": 10,
   "metadata": {
    "collapsed": false
   },
   "outputs": [
    {
     "name": "stdout",
     "output_type": "stream",
     "text": [
      "Rat: 49\n",
      "Mouse: 45\n",
      "Human: 22\n"
     ]
    }
   ],
   "source": [
    "# b) Write a function that will print out the sum of all pseudogenes per species.\n",
    "def pseudo_sum(dictionary):\n",
    "    for i in dictionary:\n",
    "        print '{}: {}' .format(i, sum(dictionary[i]))\n",
    "\n",
    "pseudo_sum(gene_dict)"
   ]
  },
  {
   "cell_type": "markdown",
   "metadata": {},
   "source": [
    "## Question 4A"
   ]
  },
  {
   "cell_type": "code",
   "execution_count": 2,
   "metadata": {
    "collapsed": false
   },
   "outputs": [
    {
     "name": "stdout",
     "output_type": "stream",
     "text": [
      "[[2, 3, 5, 5], [2, 2, 4, 5], [3, 3, 4, 6]]\n",
      "1\t2\t3.75\t5\n",
      "2\t2\t3.25\t5\n",
      "3\t3\t4.0\t6\n"
     ]
    }
   ],
   "source": [
    "run1 = [2,3,5,5]\n",
    "run2 = [2,2,4,5]\n",
    "run3 = [3,3,4,6]\n",
    "listOfRuns = [run1,run2,run3]\n",
    "\n",
    "# This function assumes that the list of runs is in order\n",
    "def get_mean(runList):\n",
    "    runNumber = 0\n",
    "    for runs in runList:\n",
    "        runNumber += 1\n",
    "        minimum = min(runs)\n",
    "        avg     = float(sum(runs))/float(len(runs))\n",
    "        maximum = max(runs)\n",
    "        \n",
    "        print '{}\\t{}\\t{}\\t{}' .format(runNumber, minimum, avg, maximum)\n",
    "get_mean(listOfRuns)"
   ]
  },
  {
   "cell_type": "markdown",
   "metadata": {},
   "source": [
    "## Question 5"
   ]
  },
  {
   "cell_type": "raw",
   "metadata": {},
   "source": [
    "5. Nested Loops\n",
    "You've discovered 3 new very closely related species of dragons and wish to study their potential for hybridization and decide to set up bi-directional crosses -- this means every combination of dragon and sex. Make a dictionary (use a nested loop on the provided list) of all combinations of dragons with the keys being male,female pairs. There should be 9 in total.\n",
    "\n",
    "dragons = ['Drogon', 'Rhaegal', 'Viserion']\n",
    "\n",
    "You find that the offspring will have a wingspan dictated by the equation:\n",
    "\n",
    "wingspan = 30% of father's wingspan + 70% mother's wingspan\n",
    "\n",
    "You also note that Drogons have a wingspan of 13 inches, Rhaegals have a wingspan of 17 inches, and Viserions have a wingspan of 10 inches.\n",
    "\n",
    "You also find that the average number of spines on the offspring dragon's back is calculated by taking the wingspan and dividing by 5 and adding 1.\n",
    "\n",
    "a) Fill in the dictionary with wingspan and spine data for the offspring of the crosses. Feel free to take teh long way and do it by hand, or create a loop to fill in the data. Also, like in number 4, spit out the data in tab delimited form with the following format:\n",
    "<male species>    <female species>   <offspring wingspan>   <# of offspring spines>"
   ]
  },
  {
   "cell_type": "code",
   "execution_count": 14,
   "metadata": {
    "collapsed": false
   },
   "outputs": [
    {
     "name": "stdout",
     "output_type": "stream",
     "text": [
      "{('Drogon', 'Drogon'): {'offspringWing': 13.0, 'offspringSpine': 3.6}, ('Viserion', 'Drogon'): {'offspringWing': 12.1, 'offspringSpine': 3.42}, ('Viserion', 'Viserion'): {'offspringWing': 10.0, 'offspringSpine': 3.0}, ('Viserion', 'Rhaegal'): {'offspringWing': 14.899999999999999, 'offspringSpine': 3.9799999999999995}, ('Rhaegal', 'Rhaegal'): {'offspringWing': 17.0, 'offspringSpine': 4.4}, ('Drogon', 'Viserion'): {'offspringWing': 10.9, 'offspringSpine': 3.18}, ('Drogon', 'Rhaegal'): {'offspringWing': 15.799999999999999, 'offspringSpine': 4.16}, ('Rhaegal', 'Viserion'): {'offspringWing': 12.1, 'offspringSpine': 3.42}, ('Rhaegal', 'Drogon'): {'offspringWing': 14.2, 'offspringSpine': 3.84}}\n",
      "Drogon\tDrogon\t13.0\t3.6\n",
      "Viserion\tDrogon\t12.1\t3.42\n",
      "Viserion\tViserion\t10.0\t3.0\n",
      "Viserion\tRhaegal\t14.9\t3.98\n",
      "Rhaegal\tRhaegal\t17.0\t4.4\n",
      "Drogon\tViserion\t10.9\t3.18\n",
      "Drogon\tRhaegal\t15.8\t4.16\n",
      "Rhaegal\tViserion\t12.1\t3.42\n",
      "Rhaegal\tDrogon\t14.2\t3.84\n"
     ]
    }
   ],
   "source": [
    "##############################################################\n",
    "### Make the initial data structures that contain our data ###\n",
    "##############################################################\n",
    "dragons = ['Drogon', 'Rhaegal', 'Viserion']\n",
    "\n",
    "dragonWingspan = {'Drogon'   : 13,\n",
    "                  'Rhaegal'  : 17,\n",
    "                  'Viserion' : 10}\n",
    "\n",
    "#####################################################\n",
    "### Function to create dictionary of data we want ###\n",
    "#####################################################\n",
    "def dragon_dict(draco, wings): \n",
    "    # draco is the list of dragons\n",
    "    # wings is the wingspan dictionary\n",
    "    dragonDict = {}\n",
    "    for i in draco:\n",
    "        for j in draco:\n",
    "            wingspan = 0.3*wings[i] + 0.7*wings[j]\n",
    "            spines   = wingspan/5 + 1\n",
    "            \n",
    "            dragonDict[(i,j)] = {'offspringWing'  : wingspan,\n",
    "                                 'offspringSpine' : spines}\n",
    "    return dragonDict\n",
    "\n",
    "print dragon_dict(dragons, dragonWingspan)\n",
    "\n",
    "\n",
    "#################################################\n",
    "### Print out data in dictionary to look nice ###\n",
    "#################################################\n",
    "def loop_thru_dict(dd):\n",
    "    # dd is the dragon dictionary\n",
    "    for dragon in dd:\n",
    "        print '{}\\t{}\\t{}\\t{}' .format(dragon[0], dragon[1], dd[dragon]['offspringWing'], dd[dragon]['offspringSpine'])\n",
    "        \n",
    "loop_thru_dict(dragon_dict(dragons, dragonWingspan))"
   ]
  }
 ],
 "metadata": {
  "anaconda-cloud": {},
  "kernelspec": {
   "display_name": "Python [conda env:python2]",
   "language": "python",
   "name": "conda-env-python2-py"
  },
  "language_info": {
   "codemirror_mode": {
    "name": "ipython",
    "version": 2
   },
   "file_extension": ".py",
   "mimetype": "text/x-python",
   "name": "python",
   "nbconvert_exporter": "python",
   "pygments_lexer": "ipython2",
   "version": "2.7.12"
  }
 },
 "nbformat": 4,
 "nbformat_minor": 0
}
