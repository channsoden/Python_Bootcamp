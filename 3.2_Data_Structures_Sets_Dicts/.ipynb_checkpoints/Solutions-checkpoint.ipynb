{
 "cells": [
  {
   "cell_type": "markdown",
   "metadata": {},
   "source": [
    "# Sets"
   ]
  },
  {
   "cell_type": "code",
   "execution_count": 2,
   "metadata": {},
   "outputs": [
    {
     "data": {
      "text/plain": [
       "{0, 4, 6, 8, 9}"
      ]
     },
     "execution_count": 2,
     "metadata": {},
     "output_type": "execute_result"
    }
   ],
   "source": [
    "# Question 1\n",
    "\n",
    "# Data I'm working with\n",
    "fibSeq = set([0,1,1,2,3,5,8,1,3,2])\n",
    "piSeq  = set([3,1,4,1,5,9,2,6,5,3])\n",
    "\n",
    "# Unshared elements\n",
    "fibSeq^piSeq"
   ]
  },
  {
   "cell_type": "code",
   "execution_count": 2,
   "metadata": {},
   "outputs": [
    {
     "data": {
      "text/plain": [
       "{0, 1, 2, 3, 5, 8}"
      ]
     },
     "execution_count": 2,
     "metadata": {},
     "output_type": "execute_result"
    }
   ],
   "source": [
    "fibSeq = set([0,1,1,2,3,5,8,1,3,2])\n",
    "fibSeq"
   ]
  },
  {
   "cell_type": "code",
   "execution_count": 1,
   "metadata": {},
   "outputs": [
    {
     "name": "stdout",
     "output_type": "stream",
     "text": [
      "These lists share some elements. They are [3].\n",
      "There are no overlaps. Here is their union: [1, 2, 3, 4, 5, 6]\n"
     ]
    }
   ],
   "source": [
    "# Question 2\n",
    "\n",
    "def elementer(listA, listB):\n",
    "    intersect = set(listA) & set(listB)\n",
    "    if len(intersect) > 0: # if intersect greater than zero\n",
    "        return 'These lists share some elements. They are {}.' .format(list(intersect))\n",
    "    else: # if the intersect is not greater than zero (aka empty)\n",
    "        return 'There are no overlaps. Here is their union: {}' .format(list(set(listA) | set(listB)))\n",
    "\n",
    "print(elementer([1,2,3], [3,4,5])) # test if it works with an overlap\n",
    "print(elementer([1,2,3], [4,5,6])) # test if it works without overlap"
   ]
  },
  {
   "cell_type": "code",
   "execution_count": 2,
   "metadata": {},
   "outputs": [
    {
     "name": "stdout",
     "output_type": "stream",
     "text": [
      "[3]\n",
      "there are no shared elements between all lists\n"
     ]
    }
   ],
   "source": [
    "# Question 3\n",
    "\n",
    "def overlapper(listA):\n",
    "    overlaps = set(listA[0]) # initialize the set of all overlaps with first sublist\n",
    "    for i in range(1,len(listA)): # loop through the rest of listA\n",
    "        overlaps &= set(listA[i])\n",
    "    \n",
    "    if len(overlaps) > 0: # if there are any overlaps\n",
    "        return list(overlaps)\n",
    "    else: # if no overlaps\n",
    "        return 'there are no shared elements between all lists'\n",
    "\n",
    "testA = [[1,2,3],[3,4,5],[3,8,9]]\n",
    "print(overlapper(testA))\n",
    "\n",
    "testB = [[1,2],[3,4],[5,6,7],[1,3]]\n",
    "print(overlapper(testB))"
   ]
  },
  {
   "cell_type": "markdown",
   "metadata": {},
   "source": [
    "# Dictionaries"
   ]
  },
  {
   "cell_type": "markdown",
   "metadata": {},
   "source": [
    "1. We would use a dictionary for keeping track of assocations between two things (keys: values). An example outside of what is in the lecture could be if we wanted to store the genetic sequence of a gene between different strains of flies. We'd have something like\n",
    "\n",
    "flyGenes = {flyA: sequenceA, flyB: sequenceB, etc.}"
   ]
  },
  {
   "cell_type": "code",
   "execution_count": 20,
   "metadata": {},
   "outputs": [
    {
     "name": "stdout",
     "output_type": "stream",
     "text": [
      "{'a': 1, 'c': 3, 'b': 2}\n",
      "These lists are not the same lengths\n"
     ]
    }
   ],
   "source": [
    "# Question 2\n",
    "\n",
    "def dict_maker(listA, listB):\n",
    "    if len(listA) != len(listB): # make sure they're the same lengths. If not...\n",
    "        return 'These lists are not the same lengths'\n",
    "    else: # if they are the same lengths\n",
    "        return dict(zip(listA, listB))\n",
    "    \n",
    "print(dict_maker(['a','b','c'],[1,2,3])) # test if lengths are equal\n",
    "print(dict_maker([1], ['z','y'])) # if list lengths are unequal"
   ]
  },
  {
   "cell_type": "code",
   "execution_count": 3,
   "metadata": {},
   "outputs": [
    {
     "name": "stdout",
     "output_type": "stream",
     "text": [
      "{'a': 0.15, 'c': 0.35, 't': 0.25, 'g': 0.25}\n",
      "-4.58771011679\n",
      "2.583984375e-05\n"
     ]
    }
   ],
   "source": [
    "# Question 3\n",
    "\n",
    "import math\n",
    "\n",
    "def nucleotide_prob(seq = 'aagtcgcgccctagctttgc'): # set default value to be this sequence we want to test\n",
    "    nucleotideList        = ['a','t','c','g'] # create a list of nucleotides\n",
    "    nucleotideProportions = [seq.count(i)/float(len(seq)) for i in nucleotideList] # create a list of nucleotide proportions\n",
    "    probabilityDictionary = dict(zip(nucleotideList, nucleotideProportions)) # make a dictionary using dict and zip\n",
    "    \n",
    "    return probabilityDictionary\n",
    "\n",
    "# Test probability dictionary\n",
    "print(nucleotide_prob())\n",
    "\n",
    "def sequence_prob(seq):\n",
    "    nucleotideProbabilityDictionary = nucleotide_prob()\n",
    "    logProbability = 0\n",
    "    for i in seq: # loop through each nucleotide of the sequence\n",
    "        logProbability += math.log10(nucleotideProbabilityDictionary[i])\n",
    "        \n",
    "    return logProbability\n",
    "\n",
    "print(sequence_prob('actcgaa')) # get log probability\n",
    "print(10**sequence_prob('actcgaa')) # get actual probability of sequence occuring"
   ]
  }
 ],
 "metadata": {
  "kernelspec": {
   "display_name": "Python 2",
   "language": "python",
   "name": "python2"
  },
  "language_info": {
   "codemirror_mode": {
    "name": "ipython",
    "version": 2
   },
   "file_extension": ".py",
   "mimetype": "text/x-python",
   "name": "python",
   "nbconvert_exporter": "python",
   "pygments_lexer": "ipython2",
   "version": "2.7.13"
  }
 },
 "nbformat": 4,
 "nbformat_minor": 1
}
