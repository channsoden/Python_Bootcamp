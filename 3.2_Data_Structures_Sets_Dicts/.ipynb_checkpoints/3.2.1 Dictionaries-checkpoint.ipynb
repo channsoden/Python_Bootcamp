{
 "cells": [
  {
   "cell_type": "markdown",
   "metadata": {},
   "source": [
    "# Dictionaries\n",
    "\n",
    "## topics\n",
    "1. What is a dictionary\n",
    "2. Using dictionaries\n",
    "3. Some dictionary uses\n",
    "4. Dictionary psets"
   ]
  },
  {
   "cell_type": "markdown",
   "metadata": {},
   "source": [
    "# What is a dictionary?"
   ]
  },
  {
   "cell_type": "markdown",
   "metadata": {},
   "source": [
    "A dictionary is a hash table (https://en.wikipedia.org/wiki/Hash_table). It basically lets us create an association between a key and its value and allows us to rapidly obtain the values of the keys. Note that, unlike lists, a dictionary is unordered."
   ]
  },
  {
   "cell_type": "code",
   "execution_count": 2,
   "metadata": {
    "collapsed": false
   },
   "outputs": [
    {
     "name": "stdout",
     "output_type": "stream",
     "text": [
      "{'key3': 'value3', 'key2': 'value2', 'key1': 'value1'}\n",
      "<type 'dict'>\n"
     ]
    }
   ],
   "source": [
    "'''\n",
    "Let's take a quick look at how we can create dictionaries\n",
    "and what the look like.\n",
    "'''\n",
    "myDict = {'key1': 'value1',\n",
    "          'key2': 'value2',\n",
    "          'key3': 'value3'}\n",
    "\n",
    "print(myDict)\n",
    "print(type(myDict))"
   ]
  },
  {
   "cell_type": "markdown",
   "metadata": {},
   "source": [
    "Dictionary keys can only be immutable objects; these include strings, integers, floats, and tuples.\n",
    "Dictionary values can be anything else. Here are some examples."
   ]
  },
  {
   "cell_type": "code",
   "execution_count": 3,
   "metadata": {
    "collapsed": false
   },
   "outputs": [
    {
     "name": "stdout",
     "output_type": "stream",
     "text": [
      "{'a': {'key3': 'value3', 'key2': 'value2', 'key1': 'value1'}, 1: 'hi', 2.0: [5, 6, 'c']}\n"
     ]
    }
   ],
   "source": [
    "'''\n",
    "Here, I create a dictionary with a variety of keys and values\n",
    "'''\n",
    "testDictA = {1: 'hi',\n",
    "             2.0: [5,6,'c'],\n",
    "             'a': myDict}\n",
    "\n",
    "print(testDictA)"
   ]
  },
  {
   "cell_type": "markdown",
   "metadata": {},
   "source": [
    "What happens if we use mutable objects as keys in dictionaries? By mutable objects, I mean structures like lists and dictionaries."
   ]
  },
  {
   "cell_type": "code",
   "execution_count": 4,
   "metadata": {
    "collapsed": false
   },
   "outputs": [
    {
     "ename": "TypeError",
     "evalue": "unhashable type: 'list'",
     "output_type": "error",
     "traceback": [
      "\u001b[1;31m---------------------------------------------------------------------------\u001b[0m",
      "\u001b[1;31mTypeError\u001b[0m                                 Traceback (most recent call last)",
      "\u001b[1;32m<ipython-input-4-68bd26370507>\u001b[0m in \u001b[0;36m<module>\u001b[1;34m()\u001b[0m\n\u001b[0;32m      2\u001b[0m \u001b[0mLet\u001b[0m\u001b[0;31m'\u001b[0m\u001b[0ms\u001b[0m \u001b[0muse\u001b[0m \u001b[0ma\u001b[0m \u001b[0mlist\u001b[0m \u001b[1;32mas\u001b[0m \u001b[0ma\u001b[0m \u001b[0mkey\u001b[0m\u001b[1;33m\u001b[0m\u001b[0m\n\u001b[0;32m      3\u001b[0m '''\n\u001b[1;32m----> 4\u001b[1;33m \u001b[0mtestDictB\u001b[0m \u001b[1;33m=\u001b[0m \u001b[1;33m{\u001b[0m\u001b[1;33m[\u001b[0m\u001b[1;36m2\u001b[0m\u001b[1;33m,\u001b[0m\u001b[1;36m3\u001b[0m\u001b[1;33m,\u001b[0m\u001b[1;36m4\u001b[0m\u001b[1;33m]\u001b[0m\u001b[1;33m:\u001b[0m\u001b[1;34m'a list'\u001b[0m\u001b[1;33m}\u001b[0m\u001b[1;33m\u001b[0m\u001b[0m\n\u001b[0m",
      "\u001b[1;31mTypeError\u001b[0m: unhashable type: 'list'"
     ]
    }
   ],
   "source": [
    "'''\n",
    "Let's use a list as a key\n",
    "'''\n",
    "testDictB = {[2,3,4]:'a list'}"
   ]
  },
  {
   "cell_type": "code",
   "execution_count": 7,
   "metadata": {
    "collapsed": false,
    "scrolled": true
   },
   "outputs": [
    {
     "ename": "TypeError",
     "evalue": "unhashable type: 'dict'",
     "output_type": "error",
     "traceback": [
      "\u001b[1;31m---------------------------------------------------------------------------\u001b[0m",
      "\u001b[1;31mTypeError\u001b[0m                                 Traceback (most recent call last)",
      "\u001b[1;32m<ipython-input-7-7e2b9ef178df>\u001b[0m in \u001b[0;36m<module>\u001b[1;34m()\u001b[0m\n\u001b[0;32m      4\u001b[0m \u001b[0manotherDict\u001b[0m \u001b[1;33m=\u001b[0m \u001b[1;33m{\u001b[0m\u001b[1;34m'a'\u001b[0m\u001b[1;33m:\u001b[0m \u001b[1;34m'hi'\u001b[0m\u001b[1;33m}\u001b[0m\u001b[1;33m\u001b[0m\u001b[0m\n\u001b[0;32m      5\u001b[0m \u001b[1;33m\u001b[0m\u001b[0m\n\u001b[1;32m----> 6\u001b[1;33m \u001b[0mtestDictC\u001b[0m \u001b[1;33m=\u001b[0m \u001b[1;33m{\u001b[0m\u001b[0manotherDict\u001b[0m\u001b[1;33m:\u001b[0m \u001b[1;34m'a dictionary'\u001b[0m\u001b[1;33m}\u001b[0m\u001b[1;33m\u001b[0m\u001b[0m\n\u001b[0m",
      "\u001b[1;31mTypeError\u001b[0m: unhashable type: 'dict'"
     ]
    }
   ],
   "source": [
    "'''\n",
    "Let's use a variable as a key\n",
    "'''\n",
    "anotherDict = {'a': 'hi'}\n",
    "\n",
    "testDictC = {anotherDict: 'a dictionary'}"
   ]
  },
  {
   "cell_type": "markdown",
   "metadata": {},
   "source": [
    "# Using Dictionaries"
   ]
  },
  {
   "cell_type": "markdown",
   "metadata": {},
   "source": [
    "We have a dictionary, how do we use it?"
   ]
  },
  {
   "cell_type": "code",
   "execution_count": 8,
   "metadata": {
    "collapsed": false
   },
   "outputs": [
    {
     "name": "stdout",
     "output_type": "stream",
     "text": [
      "value1\n"
     ]
    }
   ],
   "source": [
    "'''\n",
    "We have a dictionary, how can we get the values given a key?\n",
    "'''\n",
    "myDict = {'key1': 'value1',\n",
    "          'key2': 'value2',\n",
    "          'key3': 'value3'}\n",
    "\n",
    "# to get a value, use the dictionary[key] format\n",
    "print(myDict['key1'])"
   ]
  },
  {
   "cell_type": "code",
   "execution_count": 28,
   "metadata": {
    "collapsed": false
   },
   "outputs": [
    {
     "name": "stdout",
     "output_type": "stream",
     "text": [
      "value3\n",
      "value2\n",
      "value1\n",
      "value4\n",
      "['value3', 'value2', 'value1', 'value4']\n",
      "key3\n",
      "key2\n",
      "key1\n",
      "key4\n",
      "['key3', 'key2', 'key1', 'key4']\n"
     ]
    }
   ],
   "source": [
    "'''\n",
    "But what if I want to get all the values? keys?\n",
    "Like a list, we can loop through dictionaries\n",
    "'''\n",
    "### Getting Values ###\n",
    "# looping through dictionary\n",
    "for i in myDict:\n",
    "    print(myDict[i])\n",
    "\n",
    "# to get a list of values, use the values method\n",
    "dictVal = myDict.values()\n",
    "print(dictVal)\n",
    "\n",
    "### Getting Keys###\n",
    "# Similar to values, you can loop through a dictionary to get keys\n",
    "for i in myDict:\n",
    "    print(i)\n",
    "    \n",
    "# to get a list of keys, you can use the keys method\n",
    "dictKeys = myDict.keys()\n",
    "print(dictKeys)\n",
    "\n",
    "'''\n",
    "You can be creative with this. If you want, you can get a list of values and then loop through that.\n",
    "'''"
   ]
  },
  {
   "cell_type": "code",
   "execution_count": 13,
   "metadata": {
    "collapsed": false,
    "scrolled": true
   },
   "outputs": [
    {
     "name": "stdout",
     "output_type": "stream",
     "text": [
      "('key3', 'value3')\n",
      "('key2', 'value2')\n",
      "('key1', 'value1')\n"
     ]
    }
   ],
   "source": [
    "'''\n",
    "Now I want key and value pairs!\n",
    "'''\n",
    "for i in myDict:\n",
    "    print(i, myDict[i])"
   ]
  },
  {
   "cell_type": "code",
   "execution_count": 15,
   "metadata": {
    "collapsed": false
   },
   "outputs": [
    {
     "name": "stdout",
     "output_type": "stream",
     "text": [
      "{'key3': 'value3', 'key2': 'value2', 'key1': 'value1', 'key4': 'value5'}\n"
     ]
    }
   ],
   "source": [
    "'''\n",
    "I'm missing key4 a value4, so let's add this to myDict\n",
    "'''\n",
    "# to do this, simply use the following format: dictionary[newkey] = newvalue\n",
    "myDict['key4'] = 'value5'\n",
    "\n",
    "print(myDict)"
   ]
  },
  {
   "cell_type": "code",
   "execution_count": 16,
   "metadata": {
    "collapsed": false
   },
   "outputs": [
    {
     "name": "stdout",
     "output_type": "stream",
     "text": [
      "{'key3': 'value3', 'key2': 'value2', 'key1': 'value1', 'key4': 'value4'}\n"
     ]
    }
   ],
   "source": [
    "'''\n",
    "I accidentally set value5 to key4, when I actually meant to do key5.\n",
    "You can change the values of a key by reassigning a new value to the key\n",
    "'''\n",
    "myDict['key4'] = 'value4'\n",
    "\n",
    "print(myDict)"
   ]
  },
  {
   "cell_type": "code",
   "execution_count": 29,
   "metadata": {
    "collapsed": false
   },
   "outputs": [
    {
     "name": "stdout",
     "output_type": "stream",
     "text": [
      "{'key3': 'value3', 'key2': 'value2', 'key1': 'value1', 'key4': 'value4'}\n",
      "{'key3': 'value3', 'key1': 'value1', 'key4': 'value4'}\n"
     ]
    }
   ],
   "source": [
    "'''\n",
    "I actually don't want key2 nor its value in my dictionary.\n",
    "Let's remove it using the del function\n",
    "'''\n",
    "print(myDict)\n",
    "\n",
    "del myDict['key2']\n",
    "\n",
    "print(myDict)"
   ]
  },
  {
   "cell_type": "code",
   "execution_count": 7,
   "metadata": {
    "collapsed": false
   },
   "outputs": [
    {
     "name": "stdout",
     "output_type": "stream",
     "text": [
      "[[1, 2], [3, 4]]\n",
      "{1: 2, 3: 4}\n",
      "[('a', 1), ('b', 2), ('c', 3)]\n",
      "{'a': 1, 'c': 3, 'b': 2}\n"
     ]
    }
   ],
   "source": [
    "'''\n",
    "I have 2 lists of corresponding values, and I'm too lazy to rerwrite my code,\n",
    "how can I make a dictionary?\n",
    "'''\n",
    "# Dictionaries can be made using list of lists using dict function\n",
    "print([[1,2],[3,4]])\n",
    "print(dict([[1,2],[3,4]]))\n",
    "\n",
    "# 2 lists of the first, second, and third letter of alphabet\n",
    "listA = ['a','b','c']\n",
    "listB = [1,2,3]\n",
    "\n",
    "# the zip() function creates a list of tuples based on 2 lists\n",
    "listOfTuples = zip(listA, listB)\n",
    "print(listOfTuples)\n",
    "\n",
    "# convert the \"zipped\" lists into a dictionary\n",
    "print(dict(listOfTuples))"
   ]
  },
  {
   "cell_type": "markdown",
   "metadata": {},
   "source": [
    "In addition to creating dictionaries and modifying values and whatnot, you can perform operations on the values as long as the data structure of the values allow it. Let's look at an example of appending elements to a list."
   ]
  },
  {
   "cell_type": "code",
   "execution_count": 26,
   "metadata": {
    "collapsed": false
   },
   "outputs": [
    {
     "name": "stdout",
     "output_type": "stream",
     "text": [
      "{1: ['a', 'b', 'c', 'd', 'e', 'f', 'g', 'h', 'i'], 2: ['k', 'l', 'm', 'n', 'o', 'p', 'q', 'r', 's', 't'], 3: ['u', 'v', 'w', 'x', 'y', 'z']}\n",
      "{1: ['a', 'b', 'c', 'd', 'e', 'f', 'g', 'h', 'i', 'j'], 2: ['k', 'l', 'm', 'n', 'o', 'p', 'q', 'r', 's', 't'], 3: ['u', 'v', 'w', 'x', 'y', 'z']}\n"
     ]
    }
   ],
   "source": [
    "'''\n",
    "We have a new dictionary of the letters of the alphabet broken into 10 elements per bin.\n",
    "However, we make a mistake and forget to add the letter j to the first bin.\n",
    "Let's fix that problem\n",
    "'''\n",
    "# I'm just generating the dictionary I described above here\n",
    "def bad_alpha(chunkSize, badLetter):\n",
    "    alphabet  = 'abcdefghijklmnopqrstuvwxyz'\n",
    "    bins      = len(alphabet)//chunkSize + 1    \n",
    "    alphaDict = {}\n",
    "    for i in range(bins):\n",
    "        chunk = [j for j in alphabet[i*chunkSize:i*chunkSize + chunkSize]]\n",
    "        if badLetter in chunk:\n",
    "            chunk.remove(badLetter)\n",
    "        alphaDict[i+1] = chunk\n",
    "    return alphaDict\n",
    "\n",
    "\n",
    "alphaDict = bad_alpha(10, 'j')\n",
    "\n",
    "print(alphaDict) # let's make sure that this worked\n",
    "\n",
    "\n",
    "# let's add a 'j' to the first bin\n",
    "alphaDict[1].append('j')\n",
    "\n",
    "print(alphaDict)"
   ]
  },
  {
   "cell_type": "markdown",
   "metadata": {},
   "source": [
    "# Nested Dictionaries"
   ]
  },
  {
   "cell_type": "markdown",
   "metadata": {},
   "source": [
    "Nested dictionaries are those in which the values of a key is anothehr dictionary. This can be useful when you're working with data that have multiple categories."
   ]
  },
  {
   "cell_type": "code",
   "execution_count": 18,
   "metadata": {
    "collapsed": false
   },
   "outputs": [
    {
     "name": "stdout",
     "output_type": "stream",
     "text": [
      "{'bacteria': {'ecoli': 'some are bad', 'listeria': 'uses actin'}, 'eukaryotes': {'rat': 'small and furry', 'fish': 'tasty and aquatic', 'bird': 'not all fly'}}\n",
      "{'rat': 'small and furry', 'fish': 'tasty and aquatic', 'bird': 'not all fly'}\n",
      "uses actin\n"
     ]
    }
   ],
   "source": [
    "'''\n",
    "We want to look at some descriptors for multiple organisms.\n",
    "We can divide them by kingdom then by more specific categories using nested loops\n",
    "'''\n",
    "mammalDict = {'rat': 'small and furry',\n",
    "              'fish': 'tasty and aquatic',\n",
    "              'bird': 'not all fly'}\n",
    "bacteriaDict = {'ecoli': 'some are bad',\n",
    "                'listeria': 'uses actin'}\n",
    "\n",
    "lifeDict = {'eukaryotes': mammalDict,\n",
    "            'bacteria' : bacteriaDict}\n",
    "\n",
    "print(lifeDict)\n",
    "\n",
    "# pull sub dictionary under eukaryote\n",
    "print(lifeDict['eukaryotes'])\n",
    "\n",
    "# pull data on listeria in life dictionary\n",
    "print(lifeDict['bacteria']['listeria'])"
   ]
  },
  {
   "cell_type": "markdown",
   "metadata": {
    "collapsed": true
   },
   "source": [
    "# Some Dictionary Uses"
   ]
  },
  {
   "cell_type": "markdown",
   "metadata": {},
   "source": [
    "To reiterate, dictionaries are good for obtaining values associated to keys. Here, we go over some examples of how dictionaries can be used."
   ]
  },
  {
   "cell_type": "markdown",
   "metadata": {},
   "source": [
    "## Let's get protein sequence from cDNA sequence"
   ]
  },
  {
   "cell_type": "markdown",
   "metadata": {},
   "source": [
    "Let's open cdna2prot.py and work from there. I'll put some snippets of code below to show how it works."
   ]
  },
  {
   "cell_type": "code",
   "execution_count": 11,
   "metadata": {
    "collapsed": false
   },
   "outputs": [
    {
     "name": "stdout",
     "output_type": "stream",
     "text": [
      "{'CTT': 'L', 'TAG': '*', 'ACA': 'T', 'ACG': 'T', 'ATC': 'I', 'AAC': 'N', 'ATA': 'I', 'AGG': 'R', 'CCT': 'P', 'ACT': 'T', 'AGC': 'S', 'AAG': 'K', 'AGA': 'R', 'CAT': 'H', 'AAT': 'N', 'ATT': 'I', 'CTG': 'L', 'CTA': 'L', 'CTC': 'L', 'CAC': 'H', 'AAA': 'K', 'CCG': 'P', 'AGT': 'S', 'CCA': 'P', 'CAA': 'Q', 'CCC': 'P', 'TAT': 'Y', 'GGT': 'G', 'TGT': 'C', 'CGA': 'R', 'CAG': 'Q', 'TCT': 'S', 'GAT': 'D', 'CGG': 'R', 'TTT': 'F', 'TGC': 'C', 'GGG': 'G', 'TGA': '*', 'GGA': 'G', 'TGG': 'W', 'GGC': 'G', 'TAC': 'Y', 'TTC': 'F', 'TCG': 'S', 'TTA': 'L', 'TTG': 'L', 'TCC': 'S', 'ACC': 'T', 'TAA': '*', 'GCA': 'A', 'GTA': 'V', 'GCC': 'A', 'GTC': 'V', 'GCG': 'A', 'GTG': 'V', 'GAG': 'E', 'GTT': 'V', 'GCT': 'A', 'GAC': 'D', 'CGT': 'R', 'GAA': 'E', 'TCA': 'S', 'ATG': 'M', 'CGC': 'R'}\n"
     ]
    }
   ],
   "source": [
    "'''\n",
    "Here's the codon table function\n",
    "'''\n",
    "def codon_table():\n",
    "    '''\n",
    "    This function will create the codon table\n",
    "    Returns a dictionary of codons and their corresponding AA\n",
    "    '''\n",
    "    bases = ['T', 'C', 'A', 'G']\n",
    "    codons = [a+b+c for a in bases for b in bases for c in bases]\n",
    "    amino_acids = 'FFLLSSSSYY**CC*WLLLLPPPPHHQQRRRRIIIMTTTTNNKKSSRRVVVVAAAADDEEGGGG'\n",
    "    codon_table = dict(zip(codons, amino_acids))\n",
    "\n",
    "    return codon_table\n",
    "\n",
    "codonTable = codon_table()\n",
    "\n",
    "print(codonTable)"
   ]
  },
  {
   "cell_type": "code",
   "execution_count": 13,
   "metadata": {
    "collapsed": false
   },
   "outputs": [
    {
     "name": "stdout",
     "output_type": "stream",
     "text": [
      "KPGF\n"
     ]
    }
   ],
   "source": [
    "'''\n",
    "Let's see if the amino acid converter works\n",
    "'''\n",
    "def convert_AA(sequence = 'AAACCCGGGTTT'):\n",
    "    # initialize codon table and amino acid sequence variable\n",
    "    codonTable = codon_table()\n",
    "    aaSeq      = []\n",
    "\n",
    "    #loop through sequence\n",
    "    for i in range(0, len(sequence), 3):\n",
    "        codon = sequence[i:i+3]\n",
    "\n",
    "        if codonTable[codon] != '*': # if the codon is not a stop codon, add AA\n",
    "            aaSeq.append(codonTable[codon])\n",
    "        else: # if codon is a stop codon, stop the loop--we'll only sequence up to this point\n",
    "            break\n",
    "\n",
    "    return ''.join(aaSeq)\n",
    "\n",
    "print(convert_AA())"
   ]
  },
  {
   "cell_type": "markdown",
   "metadata": {},
   "source": [
    "# Dictionary psets"
   ]
  },
  {
   "cell_type": "raw",
   "metadata": {
    "collapsed": true
   },
   "source": [
    "1. Why would we want to use dictionaries in our code? Could you give an example of a problem and describe how a dictionary could be implemented?"
   ]
  },
  {
   "cell_type": "raw",
   "metadata": {},
   "source": [
    "2. Write a function that takes in 2 lists of corresponding values and returns a dictionary using the elements of the first list as keys and the elements of the second list as values.\n",
    "\n",
    "e.g. running the following dummy function\n",
    "myfunction(['a','b','c'], [1,2,3])\n",
    "will yield:\n",
    "{'a':1, 'b':2, 'c':3}\n",
    "\n",
    "Make it so that 'list sizes are unequal' if the list sizes are not the same (in other words, if they don't have the same number of elements)."
   ]
  },
  {
   "cell_type": "raw",
   "metadata": {},
   "source": [
    "3. Write a function that takes in a nucleotide sequence and returns a dictionary where the keys are each nucleotide and the values are the proportion of the sequence it makes up. This will be a dictionary of probabilities for each nucleotide.\n",
    "\n",
    "Then write a function that takes in another nucleotide sequence and gives us back the sum of the log10 probabilities of each base, using the initial dictionary to give us the probabilities of each nucleotide.\n",
    "\n",
    "example:\n",
    "function_a('aattggcc') gives us {'a':.25, 't':.25, 'g':.25, 'c':.25}\n",
    "\n",
    "function_b('aaaa') does the following:\n",
    "log10(probability of a) + log10(probability of a) ... total of 4 times which is\n",
    "log10(.25) + log10(.25) + log10(.25) + log10(.25)\n",
    "\n",
    "Use 'aagtcgcgccctagctttgc' as the sequence used for function_a as an example\n",
    "Test the probability of 'actcgaa'\n",
    "To get the log10 of a value in python, do the following:\n",
    "1. add \"import math\" at the tope of the code\n",
    "2. use math.log10(number) to get the log10 of a number\n",
    "\n",
    "Fun fact? This is kind of how we can determine the probability of a sequence occuring by chance. Given a prior set of nucleotide probabilities, usually assumed to be .25 each, we can find the probability of a sequence occurring by multiplying the probabilities of each base in the sequence. Since multiplying small numbers many times can lead to a number too small to compute, we can just add the log of the probabilities to bypass this problem."
   ]
  }
 ],
 "metadata": {
  "kernelspec": {
   "display_name": "Python 2",
   "language": "python",
   "name": "python2"
  },
  "language_info": {
   "codemirror_mode": {
    "name": "ipython",
    "version": 2
   },
   "file_extension": ".py",
   "mimetype": "text/x-python",
   "name": "python",
   "nbconvert_exporter": "python",
   "pygments_lexer": "ipython2",
   "version": "2.7.11"
  }
 },
 "nbformat": 4,
 "nbformat_minor": 2
}
