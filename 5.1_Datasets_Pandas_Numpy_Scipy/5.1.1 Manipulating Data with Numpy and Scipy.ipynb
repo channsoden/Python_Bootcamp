{
 "cells": [
  {
   "cell_type": "markdown",
   "metadata": {},
   "source": [
    "# Manipulating Data with Numpy, Scipy, and Pandas\n",
    "## Topics\n",
    "\n",
    "- Array data types with numpy\n",
    "- Basic statistical analysis with numpy tools\n",
    "- Introduction to the scipy packages\n",
    "- Pandas for data manipulation\n",
    "\n",
    "## Introduction\n",
    "\n",
    "Today we're covering libraries that are an important part of the core Python data stack - numpy, scipy, and pandas.\n",
    "\n",
    "**Numpy** is a library for fast numerical processing on 1-dimensional (arrays) or 2-dimensional (tables/matrics) data types.\n",
    "\n",
    "**Scipy** contains more advanced tools for statistics and regression.\n",
    "\n",
    "**Pandas** introduces the copy of a DataFrame to Python (familiar to those of you coming from R)."
   ]
  },
  {
   "cell_type": "markdown",
   "metadata": {},
   "source": [
    "## NumPy Basics\n",
    "Numerical Python is a powerful library of functions, methods, and data types we can used to analyze our data. Unforunately for those of us whose heads continue to spin in a crash-course of syntax, it also uses a different set of rules. I hope you'll understand why when you see the power and speed NumPy's data types afford us. Let's start off creating some empty arrays, which look sorta like lists, and are in fact vectors.\n",
    "\n",
    "They differ in a few fundamental ways from lists:\n",
    "\n",
    "1. **Arrays cannot be of mixed types.** They can be all integers, floats, strings, logical (or boolean) values, or other immutable values. But they cannot be some characters, some numbers, or any other olio of data types. They also cannot contain mutable types such as lists. So, we can have a list of lists, but not an array of lists. We can, however, have an array of arrays (sortof). Which brings us to:\n",
    "2. Arrays can be multidimensional, but they must be rectangular. You can have a list of lists, where the first interior list is 3 elements long, the second 5, and the third 12, but for your multidemsional arrays, every row must have the same number of columns.\n",
    "3. We can perform vector operations on them, which can be algebraic functions (like a dot product), or simple replacements of values in a slice of the array."
   ]
  },
  {
   "cell_type": "markdown",
   "metadata": {},
   "source": [
    "# Arrays\n",
    "Here's one way: start with a list and turn it into an array with the array method:"
   ]
  },
  {
   "cell_type": "code",
   "execution_count": 1,
   "metadata": {},
   "outputs": [
    {
     "name": "stdout",
     "output_type": "stream",
     "text": [
      "<type 'list'>\n",
      "<type 'numpy.ndarray'>\n",
      "[0 0 0 0 0 0 0 0 0 0 0 0 0 0 0 0 0 0 0 0 0 0 0 0 0 0 0 0 0 0 0 0 0 0 0 0 0\n",
      " 0 0 0]\n"
     ]
    }
   ],
   "source": [
    "import numpy as np\n",
    "\n",
    "a = [0] * 40\n",
    "print type(a)\n",
    "a = np.array(a)\n",
    "print type(a)\n",
    "print a"
   ]
  },
  {
   "cell_type": "markdown",
   "metadata": {},
   "source": [
    "You now have an array a of 1 row and 40 columns with zeros. But there's a better way to get a vector of zeros:"
   ]
  },
  {
   "cell_type": "code",
   "execution_count": 3,
   "metadata": {},
   "outputs": [
    {
     "name": "stdout",
     "output_type": "stream",
     "text": [
      "[ 0.  0.  0.  0.  0.  0.  0.  0.  0.  0.  0.  0.  0.  0.  0.  0.  0.  0.\n",
      "  0.  0.  0.  0.  0.  0.  0.  0.  0.  0.  0.  0.  0.  0.  0.  0.  0.  0.\n",
      "  0.  0.  0.  0.]\n"
     ]
    }
   ],
   "source": [
    "a = np.zeros(40)\n",
    "print a"
   ]
  },
  {
   "cell_type": "markdown",
   "metadata": {},
   "source": [
    "And here's how to declare something that's not all zeros"
   ]
  },
  {
   "cell_type": "code",
   "execution_count": 4,
   "metadata": {},
   "outputs": [
    {
     "name": "stdout",
     "output_type": "stream",
     "text": [
      "[ 0  1  2  3  4  5  6  7  8  9 10 11 12 13 14 15 16 17 18 19 20 21 22 23 24\n",
      " 25 26 27 28 29 30 31 32 33 34 35 36 37 38 39]\n"
     ]
    },
    {
     "data": {
      "text/plain": [
       "numpy.int64"
      ]
     },
     "execution_count": 4,
     "metadata": {},
     "output_type": "execute_result"
    }
   ],
   "source": [
    "a = np.arange(40)\n",
    "print a\n",
    "type(a[0])"
   ]
  },
  {
   "cell_type": "markdown",
   "metadata": {},
   "source": [
    "Notice the int type.\n",
    "\n",
    "What if we want a float? There's a couple ways to do it:"
   ]
  },
  {
   "cell_type": "code",
   "execution_count": 5,
   "metadata": {
    "scrolled": true
   },
   "outputs": [
    {
     "name": "stdout",
     "output_type": "stream",
     "text": [
      "<type 'numpy.float64'>\n",
      "<type 'numpy.float64'>\n"
     ]
    }
   ],
   "source": [
    "a = np.arange(40, dtype=float)  # Explicitly tell it to use floats\n",
    "print type(a[0])\n",
    "\n",
    "a = np.arange(40.0)  # If you give it a float for the length, it will automatically use floats\n",
    "print type(a[0])"
   ]
  },
  {
   "cell_type": "markdown",
   "metadata": {},
   "source": [
    "Like with range(), you can also give arange() more parameters:"
   ]
  },
  {
   "cell_type": "code",
   "execution_count": 6,
   "metadata": {},
   "outputs": [
    {
     "data": {
      "text/plain": [
       "array([40, 41, 42, 43, 44, 45, 46, 47, 48, 49])"
      ]
     },
     "execution_count": 6,
     "metadata": {},
     "output_type": "execute_result"
    }
   ],
   "source": [
    "np.arange(40, 50)  # Start and Stop"
   ]
  },
  {
   "cell_type": "code",
   "execution_count": 7,
   "metadata": {},
   "outputs": [
    {
     "data": {
      "text/plain": [
       "array([40, 42, 44, 46, 48])"
      ]
     },
     "execution_count": 7,
     "metadata": {},
     "output_type": "execute_result"
    }
   ],
   "source": [
    "np.arange(40, 50, 2) # Start, Stop, and increment\n"
   ]
  },
  {
   "cell_type": "code",
   "execution_count": 8,
   "metadata": {},
   "outputs": [
    {
     "data": {
      "text/plain": [
       "array([ 40.  ,  40.25,  40.5 ,  40.75,  41.  ,  41.25,  41.5 ,  41.75,\n",
       "        42.  ,  42.25,  42.5 ,  42.75,  43.  ,  43.25,  43.5 ,  43.75,\n",
       "        44.  ,  44.25,  44.5 ,  44.75,  45.  ,  45.25,  45.5 ,  45.75,\n",
       "        46.  ,  46.25,  46.5 ,  46.75,  47.  ,  47.25,  47.5 ,  47.75,\n",
       "        48.  ,  48.25,  48.5 ,  48.75,  49.  ,  49.25,  49.5 ,  49.75])"
      ]
     },
     "execution_count": 8,
     "metadata": {},
     "output_type": "execute_result"
    }
   ],
   "source": [
    "np.arange(40,50,.25)"
   ]
  },
  {
   "cell_type": "markdown",
   "metadata": {},
   "source": [
    "As I said above, you can have arrays with more than one dimension"
   ]
  },
  {
   "cell_type": "code",
   "execution_count": 13,
   "metadata": {},
   "outputs": [
    {
     "data": {
      "text/plain": [
       "array([[ 0.,  0.,  0.,  0.,  0.,  0.,  0.,  0.,  0.,  0.],\n",
       "       [ 0.,  0.,  0.,  0.,  0.,  0.,  0.,  0.,  0.,  0.],\n",
       "       [ 0.,  0.,  0.,  0.,  0.,  0.,  0.,  0.,  0.,  0.],\n",
       "       [ 0.,  0.,  0.,  0.,  0.,  0.,  0.,  0.,  0.,  0.],\n",
       "       [ 0.,  0.,  0.,  0.,  0.,  0.,  0.,  0.,  0.,  0.],\n",
       "       [ 0.,  0.,  0.,  0.,  0.,  0.,  0.,  0.,  0.,  0.],\n",
       "       [ 0.,  0.,  0.,  0.,  0.,  0.,  0.,  0.,  0.,  0.],\n",
       "       [ 0.,  0.,  0.,  0.,  0.,  0.,  0.,  0.,  0.,  0.],\n",
       "       [ 0.,  0.,  0.,  0.,  0.,  0.,  0.,  0.,  0.,  0.],\n",
       "       [ 0.,  0.,  0.,  0.,  0.,  0.,  0.,  0.,  0.,  0.]])"
      ]
     },
     "execution_count": 13,
     "metadata": {},
     "output_type": "execute_result"
    }
   ],
   "source": [
    "a = np.zeros(  (10, 10)   ) # Note the inner set of parentheses. (Rows, Columns)\n",
    "a"
   ]
  },
  {
   "cell_type": "markdown",
   "metadata": {},
   "source": [
    "And you can even modify a particular element with the same syntax, or a subtly different syntax, as our list-of-lists:"
   ]
  },
  {
   "cell_type": "code",
   "execution_count": 14,
   "metadata": {},
   "outputs": [
    {
     "data": {
      "text/plain": [
       "array([[  0.,   0.,   0.,   0.,   0.,   0.,   0.,   0.,   0.,   0.],\n",
       "       [  0.,   0.,   0.,   0.,   0.,   0.,   0.,   0.,   0.,   0.],\n",
       "       [  0.,   0.,   0.,   0.,   0.,   0.,   0.,   0.,   0.,   0.],\n",
       "       [  0.,   0.,   0.,   0.,   0.,   0.,   0.,   0.,   0.,   0.],\n",
       "       [  0.,   0.,   0.,   0.,   0.,   0.,   0.,   0.,   0.,   0.],\n",
       "       [  0.,   0.,   0.,   0.,   0.,   3.,   0.,   0.,   0.,   0.],\n",
       "       [  0.,   0.,   0.,   0.,   0.,   0.,  42.,   0.,   0.,   0.],\n",
       "       [  0.,   0.,   0.,   0.,   0.,   0.,   0.,   0.,   0.,   0.],\n",
       "       [  0.,   0.,   0.,   0.,   0.,   0.,   0.,   0.,   0.,   0.],\n",
       "       [  0.,   0.,   0.,   0.,   0.,   0.,   0.,   0.,   0.,   0.]])"
      ]
     },
     "execution_count": 14,
     "metadata": {},
     "output_type": "execute_result"
    }
   ],
   "source": [
    "a[5,5] = 3  # choose row, then column\n",
    "a[6,6] = 42  # Only one set of []\n",
    "a"
   ]
  },
  {
   "cell_type": "markdown",
   "metadata": {},
   "source": [
    "You can even add a number to a specific position using the '+=' notation."
   ]
  },
  {
   "cell_type": "code",
   "execution_count": 15,
   "metadata": {},
   "outputs": [
    {
     "data": {
      "text/plain": [
       "array([[  0.,   0.,   0.,   0.,   0.,   0.,   0.,   0.,   0.,   0.],\n",
       "       [  0.,   0.,   0.,   0.,   0.,   0.,   0.,   0.,   0.,   0.],\n",
       "       [  0.,   0.,   0.,   0.,   0.,   0.,   0.,   0.,   0.,   0.],\n",
       "       [  0.,   0.,   0.,   0.,   0.,   0.,   0.,   0.,   0.,   0.],\n",
       "       [  0.,   0.,   0.,   0.,   0.,   0.,   0.,   0.,   0.,   0.],\n",
       "       [  0.,   0.,   0.,   0.,   0.,   3.,   0.,   0.,   0.,   0.],\n",
       "       [  0.,   0.,   0.,   0.,   0.,   0.,  52.,   0.,   0.,   0.],\n",
       "       [  0.,   0.,   0.,   0.,   0.,   0.,   0.,   0.,   0.,   0.],\n",
       "       [  0.,   0.,   0.,   0.,   0.,   0.,   0.,   0.,   0.,   0.],\n",
       "       [  0.,   0.,   0.,   0.,   0.,   0.,   0.,   0.,   0.,   0.]])"
      ]
     },
     "execution_count": 15,
     "metadata": {},
     "output_type": "execute_result"
    }
   ],
   "source": [
    "a[6,6]+=10 # Add 10 to the nth row, nth column\n",
    "a"
   ]
  },
  {
   "cell_type": "markdown",
   "metadata": {},
   "source": [
    "So far, the coolest thing I've shown you isn't really that exciting: a range function that can have floats. The real power of arrays is the ability to have one statement affect a large chunk of an array:"
   ]
  },
  {
   "cell_type": "code",
   "execution_count": 16,
   "metadata": {},
   "outputs": [
    {
     "data": {
      "text/plain": [
       "array([[  0.,   0.,   0.,   0.,   0.,   0.,   0.,   0.,   0.,   0.],\n",
       "       [  1.,   1.,   1.,   1.,   1.,   1.,   1.,   1.,   1.,   1.],\n",
       "       [  0.,   0.,   0.,   0.,   0.,   0.,   0.,   0.,   0.,   0.],\n",
       "       [  0.,   0.,   0.,   0.,   0.,   0.,   0.,   0.,   0.,   0.],\n",
       "       [  0.,   0.,   0.,   0.,   0.,   0.,   0.,   0.,   0.,   0.],\n",
       "       [  0.,   0.,   0.,   0.,   0.,   3.,   0.,   0.,   0.,   0.],\n",
       "       [  0.,   0.,   0.,   0.,   0.,   0.,  52.,   0.,   0.,   0.],\n",
       "       [  0.,   0.,   0.,   0.,   0.,   0.,   0.,   0.,   0.,   0.],\n",
       "       [  0.,   0.,   0.,   0.,   0.,   0.,   0.,   0.,   0.,   0.],\n",
       "       [  0.,   0.,   0.,   0.,   0.,   0.,   0.,   0.,   0.,   0.]])"
      ]
     },
     "execution_count": 16,
     "metadata": {},
     "output_type": "execute_result"
    }
   ],
   "source": [
    "a[1,:] = 1\n",
    "a"
   ]
  },
  {
   "cell_type": "code",
   "execution_count": 17,
   "metadata": {},
   "outputs": [
    {
     "data": {
      "text/plain": [
       "array([[  0.,   0.,   0.,   0.,   0.,   0.,   0.,   0.,   0.,   0.],\n",
       "       [  7.,   1.,   1.,   1.,   1.,   1.,   1.,   1.,   1.,   1.],\n",
       "       [  7.,   0.,   0.,   0.,   0.,   0.,   0.,   0.,   0.,   0.],\n",
       "       [  7.,   0.,   0.,   0.,   0.,   0.,   0.,   0.,   0.,   0.],\n",
       "       [  7.,   0.,   0.,   0.,   0.,   0.,   0.,   0.,   0.,   0.],\n",
       "       [  7.,   0.,   0.,   0.,   0.,   3.,   0.,   0.,   0.,   0.],\n",
       "       [  7.,   0.,   0.,   0.,   0.,   0.,  52.,   0.,   0.,   0.],\n",
       "       [  0.,   0.,   0.,   0.,   0.,   0.,   0.,   0.,   0.,   0.],\n",
       "       [  0.,   0.,   0.,   0.,   0.,   0.,   0.,   0.,   0.,   0.],\n",
       "       [  0.,   0.,   0.,   0.,   0.,   0.,   0.,   0.,   0.,   0.]])"
      ]
     },
     "execution_count": 17,
     "metadata": {},
     "output_type": "execute_result"
    }
   ],
   "source": [
    "a[1:7,0] = 7\n",
    "a"
   ]
  },
  {
   "cell_type": "code",
   "execution_count": 18,
   "metadata": {},
   "outputs": [
    {
     "data": {
      "text/plain": [
       "array([[ -1.,  -1.,  -1.,  -1.,  -1.,  -1.,  -1.,  -1.,  -1.,  -1.],\n",
       "       [  7.,   1.,   1.,   1.,   1.,   1.,   1.,   1.,   1.,   1.],\n",
       "       [  7.,  -1.,  -1.,  -1.,  -1.,  -1.,  -1.,  -1.,  -1.,  -1.],\n",
       "       [  7.,  -1.,  -1.,  -1.,  -1.,  -1.,  -1.,  -1.,  -1.,  -1.],\n",
       "       [  7.,  -1.,  -1.,  -1.,  -1.,  -1.,  -1.,  -1.,  -1.,  -1.],\n",
       "       [  7.,  -1.,  -1.,  -1.,  -1.,   3.,  -1.,  -1.,  -1.,  -1.],\n",
       "       [  7.,  -1.,  -1.,  -1.,  -1.,  -1.,  52.,  -1.,  -1.,  -1.],\n",
       "       [ -1.,  -1.,  -1.,  -1.,  -1.,  -1.,  -1.,  -1.,  -1.,  -1.],\n",
       "       [ -1.,  -1.,  -1.,  -1.,  -1.,  -1.,  -1.,  -1.,  -1.,  -1.],\n",
       "       [ -1.,  -1.,  -1.,  -1.,  -1.,  -1.,  -1.,  -1.,  -1.,  -1.]])"
      ]
     },
     "execution_count": 18,
     "metadata": {},
     "output_type": "execute_result"
    }
   ],
   "source": [
    "a[a == 0] = -1\n",
    "a"
   ]
  },
  {
   "cell_type": "markdown",
   "metadata": {},
   "source": [
    "Let us pause for a moment and think about how we would do this with a for loop in lists:"
   ]
  },
  {
   "cell_type": "code",
   "execution_count": 19,
   "metadata": {},
   "outputs": [
    {
     "name": "stdout",
     "output_type": "stream",
     "text": [
      "[[-1, -1, -1, -1, -1, -1, -1, -1, -1, -1], [7, 1, 1, 1, 1, 1, 1, 1, 1, 1], [7, -1, -1, -1, -1, -1, -1, -1, -1, -1], [7, -1, -1, -1, -1, -1, -1, -1, -1, -1], [7, -1, -1, -1, -1, -1, -1, -1, -1, -1], [7, -1, -1, -1, -1, -1, -1, -1, -1, -1], [7, -1, -1, -1, -1, -1, -1, -1, -1, -1], [-1, -1, -1, -1, -1, -1, -1, -1, -1, -1], [-1, -1, -1, -1, -1, -1, -1, -1, -1, -1], [-1, -1, -1, -1, -1, -1, -1, -1, -1, -1]]\n"
     ]
    }
   ],
   "source": [
    "# Create a list of lists of all zeros\n",
    "LoL = [[0]*10 for i in range(10)] #LoL - List of Lists\n",
    " \n",
    "# Set entries in row 1 to 1\n",
    "for i, elem in enumerate(LoL[1]):\n",
    "    LoL[1][i] = 1\n",
    "\n",
    "# Set entries in column zero to 7\n",
    "for i in range(len(LoL)):\n",
    "    if i >= 1 and i < 7:\n",
    "        LoL[i][0] = 7\n",
    "        \n",
    "for L in LoL:\n",
    "    for i in range(len(L)):\n",
    "        if L[i] == 0:\n",
    "            L[i] = -1\n",
    "    \n",
    "print LoL"
   ]
  },
  {
   "cell_type": "markdown",
   "metadata": {},
   "source": [
    "### Slicing an array\n",
    "\n",
    "We can also take slices of arrays, just as if they were lists:"
   ]
  },
  {
   "cell_type": "code",
   "execution_count": 20,
   "metadata": {},
   "outputs": [
    {
     "data": {
      "text/plain": [
       "array([2, 3, 4])"
      ]
     },
     "execution_count": 20,
     "metadata": {},
     "output_type": "execute_result"
    }
   ],
   "source": [
    "a = np.arange(10)\n",
    "a[2:5]"
   ]
  },
  {
   "cell_type": "code",
   "execution_count": 21,
   "metadata": {},
   "outputs": [
    {
     "data": {
      "text/plain": [
       "9"
      ]
     },
     "execution_count": 21,
     "metadata": {},
     "output_type": "execute_result"
    }
   ],
   "source": [
    "a[-1]"
   ]
  },
  {
   "cell_type": "code",
   "execution_count": 23,
   "metadata": {},
   "outputs": [
    {
     "data": {
      "text/plain": [
       "array([0, 2, 4, 6, 8])"
      ]
     },
     "execution_count": 23,
     "metadata": {},
     "output_type": "execute_result"
    }
   ],
   "source": [
    "a[::2]"
   ]
  },
  {
   "cell_type": "markdown",
   "metadata": {},
   "source": [
    "Maybe you can see the advantage of the array syntax. But wait, there's more! Act now, and we'll throw in math operations for free!"
   ]
  },
  {
   "cell_type": "markdown",
   "metadata": {},
   "source": [
    "### Vector Math with Arrays\n",
    "We can do math on many values at once with arrays, no for loop required."
   ]
  },
  {
   "cell_type": "code",
   "execution_count": 24,
   "metadata": {},
   "outputs": [
    {
     "data": {
      "text/plain": [
       "array([ 0,  2,  4,  6,  8, 10, 12, 14, 16, 18, 20, 22, 24, 26, 28, 30, 32,\n",
       "       34, 36, 38, 40, 42, 44, 46, 48, 50, 52, 54, 56, 58, 60, 62, 64, 66,\n",
       "       68, 70, 72, 74, 76, 78, 80, 82, 84, 86, 88, 90, 92, 94, 96, 98])"
      ]
     },
     "execution_count": 24,
     "metadata": {},
     "output_type": "execute_result"
    }
   ],
   "source": [
    "a = np.arange(0, 100, 2)\n",
    "b = np.arange(50)\n",
    "\n",
    "a"
   ]
  },
  {
   "cell_type": "code",
   "execution_count": 25,
   "metadata": {},
   "outputs": [
    {
     "data": {
      "text/plain": [
       "array([ 0,  1,  2,  3,  4,  5,  6,  7,  8,  9, 10, 11, 12, 13, 14, 15, 16,\n",
       "       17, 18, 19, 20, 21, 22, 23, 24, 25, 26, 27, 28, 29, 30, 31, 32, 33,\n",
       "       34, 35, 36, 37, 38, 39, 40, 41, 42, 43, 44, 45, 46, 47, 48, 49])"
      ]
     },
     "execution_count": 25,
     "metadata": {},
     "output_type": "execute_result"
    }
   ],
   "source": [
    "b"
   ]
  },
  {
   "cell_type": "code",
   "execution_count": 26,
   "metadata": {},
   "outputs": [
    {
     "data": {
      "text/plain": [
       "array([  0. ,   0.5,   1. ,   1.5,   2. ,   2.5,   3. ,   3.5,   4. ,\n",
       "         4.5,   5. ,   5.5,   6. ,   6.5,   7. ,   7.5,   8. ,   8.5,\n",
       "         9. ,   9.5,  10. ,  10.5,  11. ,  11.5,  12. ,  12.5,  13. ,\n",
       "        13.5,  14. ,  14.5,  15. ,  15.5,  16. ,  16.5,  17. ,  17.5,\n",
       "        18. ,  18.5,  19. ,  19.5,  20. ,  20.5,  21. ,  21.5,  22. ,\n",
       "        22.5,  23. ,  23.5,  24. ,  24.5])"
      ]
     },
     "execution_count": 26,
     "metadata": {},
     "output_type": "execute_result"
    }
   ],
   "source": [
    "b / 2.0"
   ]
  },
  {
   "cell_type": "code",
   "execution_count": 27,
   "metadata": {},
   "outputs": [
    {
     "data": {
      "text/plain": [
       "array([  1.5,   2.5,   3.5,   4.5,   5.5,   6.5,   7.5,   8.5,   9.5,\n",
       "        10.5,  11.5,  12.5,  13.5,  14.5,  15.5,  16.5,  17.5,  18.5,\n",
       "        19.5,  20.5,  21.5,  22.5,  23.5,  24.5,  25.5,  26.5,  27.5,\n",
       "        28.5,  29.5,  30.5,  31.5,  32.5,  33.5,  34.5,  35.5,  36.5,\n",
       "        37.5,  38.5,  39.5,  40.5,  41.5,  42.5,  43.5,  44.5,  45.5,\n",
       "        46.5,  47.5,  48.5,  49.5,  50.5])"
      ]
     },
     "execution_count": 27,
     "metadata": {},
     "output_type": "execute_result"
    }
   ],
   "source": [
    "b + 1.5"
   ]
  },
  {
   "cell_type": "code",
   "execution_count": 28,
   "metadata": {},
   "outputs": [
    {
     "data": {
      "text/plain": [
       "array([   0,    2,    8,   18,   32,   50,   72,   98,  128,  162,  200,\n",
       "        242,  288,  338,  392,  450,  512,  578,  648,  722,  800,  882,\n",
       "        968, 1058, 1152, 1250, 1352, 1458, 1568, 1682, 1800, 1922, 2048,\n",
       "       2178, 2312, 2450, 2592, 2738, 2888, 3042, 3200, 3362, 3528, 3698,\n",
       "       3872, 4050, 4232, 4418, 4608, 4802])"
      ]
     },
     "execution_count": 28,
     "metadata": {},
     "output_type": "execute_result"
    }
   ],
   "source": [
    "a * b # Pairwise multiplication"
   ]
  },
  {
   "cell_type": "code",
   "execution_count": 29,
   "metadata": {},
   "outputs": [
    {
     "data": {
      "text/plain": [
       "80850"
      ]
     },
     "execution_count": 29,
     "metadata": {},
     "output_type": "execute_result"
    }
   ],
   "source": [
    "(a * b).sum()"
   ]
  },
  {
   "cell_type": "code",
   "execution_count": 30,
   "metadata": {},
   "outputs": [
    {
     "data": {
      "text/plain": [
       "80850"
      ]
     },
     "execution_count": 30,
     "metadata": {},
     "output_type": "execute_result"
    }
   ],
   "source": [
    "np.dot(a, b) # or can take the dot product"
   ]
  },
  {
   "cell_type": "markdown",
   "metadata": {},
   "source": [
    "## Basic Statistics with Numpy\n",
    "\n",
    "NumPy is **huge**, with around 1200 pages of [reference documentation](http://docs.scipy.org/doc/numpy/reference/index.html), but all of you will, at some point, use some basic statistics to get a feel for your data. So let's make sure we hit some of those functions:\n",
    "\n",
    "### Random distributions"
   ]
  },
  {
   "cell_type": "code",
   "execution_count": 31,
   "metadata": {},
   "outputs": [
    {
     "data": {
      "text/plain": [
       "array([ 47.00433747,  19.63029232,  41.78538133,  63.1996771 ,\n",
       "        54.46250573,   9.67474328,  70.35301487,  70.61441967,\n",
       "        71.69549329,  95.05000614])"
      ]
     },
     "execution_count": 31,
     "metadata": {},
     "output_type": "execute_result"
    }
   ],
   "source": [
    "a = np.random.uniform(0, 100, 10) # Low, High, Size of output\n",
    "a"
   ]
  },
  {
   "cell_type": "code",
   "execution_count": 34,
   "metadata": {},
   "outputs": [
    {
     "data": {
      "text/plain": [
       "array([[ 99.07056618,  46.09029805,  47.5672323 ],\n",
       "       [ 34.42001238,  55.07847169,  57.78819093],\n",
       "       [ 74.87627517,  47.05759051,  66.72857664]])"
      ]
     },
     "execution_count": 34,
     "metadata": {},
     "output_type": "execute_result"
    }
   ],
   "source": [
    "a = np.random.uniform(0, 100, (3,3)) # Can also give a shape for the third argument\n",
    "a"
   ]
  },
  {
   "cell_type": "code",
   "execution_count": 35,
   "metadata": {},
   "outputs": [
    {
     "data": {
      "text/plain": [
       "array([[ 2.34691219,  0.06755031,  0.68901611],\n",
       "       [-0.10367313, -1.14267568,  1.08578357],\n",
       "       [-0.13682078,  0.98561879, -2.17787062]])"
      ]
     },
     "execution_count": 35,
     "metadata": {},
     "output_type": "execute_result"
    }
   ],
   "source": [
    "a = np.random.normal(0, 1, (3,3)) # Normal distribution with mean=0, std=1, 10 samples\n",
    "a"
   ]
  },
  {
   "cell_type": "markdown",
   "metadata": {},
   "source": [
    "### Summary Statistics"
   ]
  },
  {
   "cell_type": "code",
   "execution_count": 36,
   "metadata": {},
   "outputs": [
    {
     "data": {
      "text/plain": [
       "4.734586724417162"
      ]
     },
     "execution_count": 36,
     "metadata": {},
     "output_type": "execute_result"
    }
   ],
   "source": [
    "a = np.random.normal(5, 3, 1000)  # Draw 1000 numbers from the standard normal distribution with mean 5 and std 3\n",
    "np.mean(a) # Calculate the mean of this sample"
   ]
  },
  {
   "cell_type": "code",
   "execution_count": 37,
   "metadata": {},
   "outputs": [
    {
     "data": {
      "text/plain": [
       "3.0807994087446873"
      ]
     },
     "execution_count": 37,
     "metadata": {},
     "output_type": "execute_result"
    }
   ],
   "source": [
    "np.std(a) # Standard deviation"
   ]
  },
  {
   "cell_type": "code",
   "execution_count": 38,
   "metadata": {},
   "outputs": [
    {
     "data": {
      "text/plain": [
       "-5.5987355041366254"
      ]
     },
     "execution_count": 38,
     "metadata": {},
     "output_type": "execute_result"
    }
   ],
   "source": [
    "np.min(a)"
   ]
  },
  {
   "cell_type": "code",
   "execution_count": 39,
   "metadata": {},
   "outputs": [
    {
     "data": {
      "text/plain": [
       "13.346454829055659"
      ]
     },
     "execution_count": 39,
     "metadata": {},
     "output_type": "execute_result"
    }
   ],
   "source": [
    "np.max(a)"
   ]
  },
  {
   "cell_type": "markdown",
   "metadata": {},
   "source": [
    "### Operating on 2d arrays\n",
    "One of the areas where numpy really shines is its ability to quickly operate along an axis of a 2d array"
   ]
  },
  {
   "cell_type": "code",
   "execution_count": 40,
   "metadata": {},
   "outputs": [
    {
     "data": {
      "text/plain": [
       "array([[ 1.,  1.,  1.],\n",
       "       [ 1.,  1.,  1.],\n",
       "       [ 1.,  1.,  1.],\n",
       "       [ 1.,  1.,  1.],\n",
       "       [ 1.,  1.,  1.]])"
      ]
     },
     "execution_count": 40,
     "metadata": {},
     "output_type": "execute_result"
    }
   ],
   "source": [
    "a = np.ones((5,3))# 5 rows, 3 columns\n",
    "a"
   ]
  },
  {
   "cell_type": "code",
   "execution_count": 41,
   "metadata": {},
   "outputs": [
    {
     "data": {
      "text/plain": [
       "15.0"
      ]
     },
     "execution_count": 41,
     "metadata": {},
     "output_type": "execute_result"
    }
   ],
   "source": [
    "a.sum()  # Sum over all elements"
   ]
  },
  {
   "cell_type": "code",
   "execution_count": 42,
   "metadata": {},
   "outputs": [
    {
     "data": {
      "text/plain": [
       "array([ 5.,  5.,  5.])"
      ]
     },
     "execution_count": 42,
     "metadata": {},
     "output_type": "execute_result"
    }
   ],
   "source": [
    "a.sum(axis=0)  # Sum across all rows"
   ]
  },
  {
   "cell_type": "markdown",
   "metadata": {},
   "source": [
    "Rows are axis 0 and Columns are axis 1.  The order here makes sense because its the same order that you use when indexing an array, rows first - then columns."
   ]
  },
  {
   "cell_type": "code",
   "execution_count": 43,
   "metadata": {},
   "outputs": [
    {
     "data": {
      "text/plain": [
       "array([ 3.,  3.,  3.,  3.,  3.])"
      ]
     },
     "execution_count": 43,
     "metadata": {},
     "output_type": "execute_result"
    }
   ],
   "source": [
    "a.sum(axis=1) # Sum across all columns"
   ]
  },
  {
   "cell_type": "markdown",
   "metadata": {},
   "source": [
    "## Boolean Numpy Arrays for Selection and Filtering"
   ]
  },
  {
   "cell_type": "code",
   "execution_count": 46,
   "metadata": {},
   "outputs": [
    {
     "data": {
      "text/plain": [
       "array([False, False, False, False, False, False, False, False, False, False], dtype=bool)"
      ]
     },
     "execution_count": 46,
     "metadata": {},
     "output_type": "execute_result"
    }
   ],
   "source": [
    "a = np.zeros(10, dtype=bool)\n",
    "a"
   ]
  },
  {
   "cell_type": "code",
   "execution_count": 47,
   "metadata": {},
   "outputs": [
    {
     "data": {
      "text/plain": [
       "array([False, False,  True,  True,  True, False, False, False, False, False], dtype=bool)"
      ]
     },
     "execution_count": 47,
     "metadata": {},
     "output_type": "execute_result"
    }
   ],
   "source": [
    "# Slicing and mass-assignment still work\n",
    "a[2:5] = True\n",
    "a"
   ]
  },
  {
   "cell_type": "code",
   "execution_count": 48,
   "metadata": {},
   "outputs": [
    {
     "data": {
      "text/plain": [
       "array([ True,  True, False, False, False,  True,  True,  True,  True,  True], dtype=bool)"
      ]
     },
     "execution_count": 48,
     "metadata": {},
     "output_type": "execute_result"
    }
   ],
   "source": [
    "# The ~ character inverts the boolean array\n",
    "b = ~a\n",
    "b"
   ]
  },
  {
   "cell_type": "code",
   "execution_count": 49,
   "metadata": {},
   "outputs": [
    {
     "name": "stdout",
     "output_type": "stream",
     "text": [
      "A and B\n",
      "[False False  True]\n",
      "A or B\n",
      "[ True False  True]\n"
     ]
    }
   ],
   "source": [
    "# Demonstrating \"&\" and \"|\"\n",
    "a = np.array([True, False, True])\n",
    "b = np.array([False, False, True])\n",
    "\n",
    "print \"A and B\"\n",
    "print a & b\n",
    "\n",
    "print \"A or B\"\n",
    "print a | b"
   ]
  },
  {
   "cell_type": "markdown",
   "metadata": {},
   "source": [
    "Using boolean expressions, you can specifically read out or assign to pieces of the array based on the values in the array"
   ]
  },
  {
   "cell_type": "code",
   "execution_count": 50,
   "metadata": {},
   "outputs": [
    {
     "name": "stdout",
     "output_type": "stream",
     "text": [
      "[ 0.75079112 -0.95663124  0.42693918 -1.29325177  0.85053574 -1.97353834\n",
      " -0.7178438  -0.15522149 -1.51173721  0.2645307 ]\n"
     ]
    }
   ],
   "source": [
    "data = np.random.randn(10)\n",
    "print data"
   ]
  },
  {
   "cell_type": "code",
   "execution_count": 51,
   "metadata": {},
   "outputs": [
    {
     "name": "stdout",
     "output_type": "stream",
     "text": [
      "[False  True False  True False  True  True  True  True False]\n"
     ]
    }
   ],
   "source": [
    "data_less_than_zero = data < 0\n",
    "print data_less_than_zero"
   ]
  },
  {
   "cell_type": "code",
   "execution_count": 52,
   "metadata": {},
   "outputs": [
    {
     "name": "stdout",
     "output_type": "stream",
     "text": [
      "[ 0.75079112  0.          0.42693918  0.          0.85053574  0.          0.\n",
      "  0.          0.          0.2645307 ]\n"
     ]
    }
   ],
   "source": [
    "data[data_less_than_zero] = 0   # Replace all values less than zero, with zero\n",
    "print data"
   ]
  },
  {
   "cell_type": "code",
   "execution_count": 53,
   "metadata": {},
   "outputs": [
    {
     "name": "stdout",
     "output_type": "stream",
     "text": [
      "[ 0.75132842  0.          0.89819397  0.914879    1.49152164  0.          1.4332722\n",
      "  1.49871426  0.          0.        ]\n"
     ]
    }
   ],
   "source": [
    "data = np.random.randn(10)\n",
    "data[data < 0] = 0  # You could also do this without a temporary variable (data_less_than_zero)\n",
    "print data"
   ]
  },
  {
   "cell_type": "code",
   "execution_count": 54,
   "metadata": {},
   "outputs": [
    {
     "name": "stdout",
     "output_type": "stream",
     "text": [
      "[[  5.80389619e-02   5.87568568e+00   6.47050994e+00   3.65456880e+00\n",
      "    2.51199889e+00]\n",
      " [  3.88859692e+00   4.66932440e+00   4.40573620e+00   4.45017783e+00\n",
      "    5.43369368e+00]\n",
      " [  4.64481346e+00   8.17176153e+00   1.37506078e+00   7.26408889e+00\n",
      "    1.24475642e+00]\n",
      " [  8.55028946e+00   7.85069231e+00   1.16797198e+00   8.42163284e+00\n",
      "    5.71036362e+00]\n",
      " [  9.25020384e+00   5.81305632e+00   9.13091444e+00   4.73815645e+00\n",
      "    5.99710662e+00]\n",
      " [  3.50246133e+00   9.98755489e+00   6.40826036e+00   9.81182068e-01\n",
      "    7.15561042e+00]\n",
      " [  1.55643745e+00   6.01839512e+00   5.87366302e+00   3.69404420e+00\n",
      "    5.22494153e+00]\n",
      " [  2.45964211e+00   4.82382888e+00   8.95178110e+00   8.52204901e+00\n",
      "    6.14953699e+00]\n",
      " [  6.64972551e+00   1.81738210e+00   1.72223741e+00   5.94688546e+00\n",
      "    7.14244457e+00]\n",
      " [  3.42611907e+00   6.17936590e+00   9.70816168e+00   7.28447913e+00\n",
      "    4.51266374e+00]\n",
      " [  4.66758331e+00   4.15532797e+00   8.02798816e+00   8.83787626e+00\n",
      "    7.43036839e+00]\n",
      " [  9.34152366e+00   8.81928210e-01   4.72937659e-01   3.15179170e+00\n",
      "    1.51647422e+00]\n",
      " [  7.10123714e+00   6.39032378e+00   1.31667344e+00   1.00518255e+00\n",
      "    9.13799254e+00]\n",
      " [  7.20304989e+00   4.42876988e+00   8.85776198e+00   1.40274551e+00\n",
      "    7.66352783e+00]\n",
      " [  2.14550789e-03   4.66352351e+00   3.73225231e+00   1.07687023e+00\n",
      "    4.25166722e+00]\n",
      " [  7.93883729e+00   8.65771131e+00   5.07853154e-01   6.30763229e+00\n",
      "    9.33436427e+00]\n",
      " [  9.43819532e+00   2.88881481e+00   6.02954143e+00   3.64634683e+00\n",
      "    4.59602300e+00]\n",
      " [  7.50507353e-01   5.20693615e+00   4.52398582e+00   1.71650042e+00\n",
      "    3.82176220e+00]\n",
      " [  1.36048844e-01   5.91558512e+00   2.81166075e+00   2.97877382e+00\n",
      "    1.22025281e+00]\n",
      " [  4.89745326e+00   5.12638340e+00   4.26081001e+00   7.45716942e+00\n",
      "    3.02406656e+00]]\n"
     ]
    }
   ],
   "source": [
    "data = np.random.rand(20,5)*10 # Random data from 0 to 10\n",
    "print data"
   ]
  },
  {
   "cell_type": "code",
   "execution_count": 55,
   "metadata": {},
   "outputs": [
    {
     "name": "stdout",
     "output_type": "stream",
     "text": [
      "[ 3.71416045  4.56950581  4.54009622  6.34019004  6.98588753  5.60701381\n",
      "  4.47349627  6.18136762  4.65573501  6.22215791  6.62382882  3.07293109\n",
      "  4.99028189  5.91117102  2.74529176  6.54927966  5.31978428  3.20393839\n",
      "  2.61246427  4.95317653]\n"
     ]
    }
   ],
   "source": [
    "# Show me the mean of each row\n",
    "row_means = data.mean(axis=1)\n",
    "print row_means"
   ]
  },
  {
   "cell_type": "code",
   "execution_count": 56,
   "metadata": {},
   "outputs": [
    {
     "name": "stdout",
     "output_type": "stream",
     "text": [
      "mean_greater_five:  [False False False  True  True  True False  True False  True  True False\n",
      " False  True False  True  True False False False]\n",
      "\n"
     ]
    }
   ],
   "source": [
    "# Give me a subset of the data matrix, containing only rows with a mean > 5 and the second column < 4 \n",
    "mean_greater_five = data.mean(axis=1) > 5\n",
    "print \"mean_greater_five: \", mean_greater_five\n",
    "print"
   ]
  },
  {
   "cell_type": "code",
   "execution_count": 64,
   "metadata": {},
   "outputs": [
    {
     "name": "stdout",
     "output_type": "stream",
     "text": [
      "[[  5.80389619e-02   5.87568568e+00   6.47050994e+00   3.65456880e+00\n",
      "    2.51199889e+00]\n",
      " [  3.88859692e+00   4.66932440e+00   4.40573620e+00   4.45017783e+00\n",
      "    5.43369368e+00]\n",
      " [  4.64481346e+00   8.17176153e+00   1.37506078e+00   7.26408889e+00\n",
      "    1.24475642e+00]\n",
      " [  8.55028946e+00   7.85069231e+00   1.16797198e+00   8.42163284e+00\n",
      "    5.71036362e+00]\n",
      " [  9.25020384e+00   5.81305632e+00   9.13091444e+00   4.73815645e+00\n",
      "    5.99710662e+00]\n",
      " [  3.50246133e+00   9.98755489e+00   6.40826036e+00   9.81182068e-01\n",
      "    7.15561042e+00]\n",
      " [  1.55643745e+00   6.01839512e+00   5.87366302e+00   3.69404420e+00\n",
      "    5.22494153e+00]\n",
      " [  2.45964211e+00   4.82382888e+00   8.95178110e+00   8.52204901e+00\n",
      "    6.14953699e+00]\n",
      " [  6.64972551e+00   1.81738210e+00   1.72223741e+00   5.94688546e+00\n",
      "    7.14244457e+00]\n",
      " [  3.42611907e+00   6.17936590e+00   9.70816168e+00   7.28447913e+00\n",
      "    4.51266374e+00]\n",
      " [  4.66758331e+00   4.15532797e+00   8.02798816e+00   8.83787626e+00\n",
      "    7.43036839e+00]\n",
      " [  9.34152366e+00   8.81928210e-01   4.72937659e-01   3.15179170e+00\n",
      "    1.51647422e+00]\n",
      " [  7.10123714e+00   6.39032378e+00   1.31667344e+00   1.00518255e+00\n",
      "    9.13799254e+00]\n",
      " [  7.20304989e+00   4.42876988e+00   8.85776198e+00   1.40274551e+00\n",
      "    7.66352783e+00]\n",
      " [  2.14550789e-03   4.66352351e+00   3.73225231e+00   1.07687023e+00\n",
      "    4.25166722e+00]\n",
      " [  7.93883729e+00   8.65771131e+00   5.07853154e-01   6.30763229e+00\n",
      "    9.33436427e+00]\n",
      " [  9.43819532e+00   2.88881481e+00   6.02954143e+00   3.64634683e+00\n",
      "    4.59602300e+00]\n",
      " [  7.50507353e-01   5.20693615e+00   4.52398582e+00   1.71650042e+00\n",
      "    3.82176220e+00]\n",
      " [  1.36048844e-01   5.91558512e+00   2.81166075e+00   2.97877382e+00\n",
      "    1.22025281e+00]\n",
      " [  4.89745326e+00   5.12638340e+00   4.26081001e+00   7.45716942e+00\n",
      "    3.02406656e+00]]\n",
      "new_matrix\n",
      "[[ 8.55028946  7.85069231  1.16797198  8.42163284  5.71036362]\n",
      " [ 9.25020384  5.81305632  9.13091444  4.73815645  5.99710662]\n",
      " [ 3.50246133  9.98755489  6.40826036  0.98118207  7.15561042]\n",
      " [ 2.45964211  4.82382888  8.9517811   8.52204901  6.14953699]\n",
      " [ 3.42611907  6.1793659   9.70816168  7.28447913  4.51266374]\n",
      " [ 4.66758331  4.15532797  8.02798816  8.83787626  7.43036839]\n",
      " [ 7.20304989  4.42876988  8.85776198  1.40274551  7.66352783]\n",
      " [ 7.93883729  8.65771131  0.50785315  6.30763229  9.33436427]\n",
      " [ 9.43819532  2.88881481  6.02954143  3.64634683  4.596023  ]]\n"
     ]
    }
   ],
   "source": [
    "new_matrix = data[mean_greater_five,]\n",
    "print data\n",
    "print \"new_matrix\"\n",
    "print new_matrix"
   ]
  },
  {
   "cell_type": "code",
   "execution_count": 58,
   "metadata": {},
   "outputs": [
    {
     "name": "stdout",
     "output_type": "stream",
     "text": [
      "\n",
      "new_matrix\n",
      "[[ 8.55028946  7.85069231  1.16797198  8.42163284  5.71036362]\n",
      " [ 9.25020384  5.81305632  9.13091444  4.73815645  5.99710662]\n",
      " [ 3.50246133  9.98755489  6.40826036  0.98118207  7.15561042]\n",
      " [ 2.45964211  4.82382888  8.9517811   8.52204901  6.14953699]\n",
      " [ 3.42611907  6.1793659   9.70816168  7.28447913  4.51266374]\n",
      " [ 4.66758331  4.15532797  8.02798816  8.83787626  7.43036839]\n",
      " [ 7.20304989  4.42876988  8.85776198  1.40274551  7.66352783]\n",
      " [ 7.93883729  8.65771131  0.50785315  6.30763229  9.33436427]\n",
      " [ 9.43819532  2.88881481  6.02954143  3.64634683  4.596023  ]]\n"
     ]
    }
   ],
   "source": [
    "# OR, all in one line - without a temporary variable\n",
    "new_matrix = data[ (data.mean(axis=1) > 5) ]\n",
    "print\n",
    "print \"new_matrix\"\n",
    "print new_matrix"
   ]
  },
  {
   "cell_type": "markdown",
   "metadata": {},
   "source": [
    "### Why Numpy?\n",
    "1. Avoid writing loops (don't re-invent the wheel)\n",
    "2. **Efficient Computation**\n",
    "\n",
    "Regarding the second point, numpy is useful because operations using it are many times faster than their pure Python implementations.  This is because numpy processes arrays using code written in 'low-level' languages like C or Fortran.  These languages are much more tedious to write programs in, but run much faster than a 'high-level' language like Python.  However, by using Python to call functions written by other people in low-level languages, you can get the best of both worlds.\n",
    "\n",
    "**Quick performance comparison**"
   ]
  },
  {
   "cell_type": "code",
   "execution_count": 59,
   "metadata": {
    "collapsed": true
   },
   "outputs": [],
   "source": [
    "## Setup Create a 1000 x 1000 list of lists (2d matrix)\n",
    "N_ROWS = 1000\n",
    "N_COLS = 1000\n",
    "python_matrix = [[1]*N_COLS for i in range(N_ROWS)]"
   ]
  },
  {
   "cell_type": "code",
   "execution_count": 60,
   "metadata": {},
   "outputs": [
    {
     "name": "stdout",
     "output_type": "stream",
     "text": [
      "10 loops, best of 3: 90.2 ms per loop\n"
     ]
    }
   ],
   "source": [
    "%%timeit\n",
    "# Add 1 to every entry in the matrix\n",
    "for i in xrange(N_ROWS):\n",
    "    for j in xrange(N_COLS):\n",
    "        python_matrix[i][j] += + 1"
   ]
  },
  {
   "cell_type": "code",
   "execution_count": 65,
   "metadata": {},
   "outputs": [
    {
     "name": "stdout",
     "output_type": "stream",
     "text": [
      "10 loops, best of 3: 50.3 ms per loop\n"
     ]
    }
   ],
   "source": [
    "%%timeit\n",
    "# List comprehensions help...a little\n",
    "result = [[x+1 for x in row] for row in python_matrix]"
   ]
  },
  {
   "cell_type": "code",
   "execution_count": 66,
   "metadata": {},
   "outputs": [
    {
     "name": "stdout",
     "output_type": "stream",
     "text": [
      "The slowest run took 35.88 times longer than the fastest. This could mean that an intermediate result is being cached.\n",
      "1000 loops, best of 3: 796 µs per loop\n"
     ]
    }
   ],
   "source": [
    "%%timeit numpy_matrix = np.zeros((1000, 1000))\n",
    "numpy_matrix += 1"
   ]
  },
  {
   "cell_type": "markdown",
   "metadata": {},
   "source": [
    "Because numpy is able to know that everything is going to be a float, it can do a lot of optimizations to the arrays that it wouldn't be able to do if each element could, conceivably be a different type. Furthermore, a lot of the time is spent checking to make sure i and j aren't too big or small for the size of the lists, while the numpy code just loads the size of the array once and never checks again."
   ]
  },
  {
   "cell_type": "markdown",
   "metadata": {},
   "source": [
    "## SciPy and Fitting\n",
    "\n",
    "SciPy (pronounced \"Sigh Pie\") is a collection of libraries that builds on NumPy, and has lots of convenient, fast functions for working with large amounts of scientific data. It's slightly smaller than NumPy, with only 900-odd pages of documentation. That includes sections on integrating C or Fortran code into Python, which is way outside the scope of this course, but if you ever do get to the point where you need a super-efficient implementation of something, you're covered. Especially in the one-off nature of academic science, you're often better served spending less time writing code that takes longer to run, compared to spending lots and lots of time writing code that runs slightly faster.\n",
    "\n",
    "The [stats](http://docs.scipy.org/doc/scipy/reference/tutorial/stats.html) module of SciPy has functions for even more statistical distributions, statistical tests, and other assorted functions that a good statistician might need. As an example, let's see how we might use the [linregress](http://docs.scipy.org/doc/scipy/reference/generated/scipy.stats.linregress.html#scipy.stats.linregress) function, which does a linear regression on some data. Linear regression is the process of finding a line that minimizes the sum of the square of the vertical distances from each point to the line.\n",
    "\n",
    "First, we'll set up some noisy data:"
   ]
  },
  {
   "cell_type": "code",
   "execution_count": 73,
   "metadata": {},
   "outputs": [
    {
     "name": "stdout",
     "output_type": "stream",
     "text": [
      "[ -2.61360867  -4.75088144  -0.24448499  -3.07000916  -3.79971457\n",
      "   2.32776007   1.56691184   2.32003923   0.88074816   2.52507804\n",
      "   2.19310732  -6.55140416  -0.62108771   5.17696104  -1.15438253\n",
      "  -4.96446279   2.00580569   3.64033926  -8.38202537   0.5884925\n",
      "  -2.22079305   1.45399001   3.87728785   8.76973478   4.06257736\n",
      "   6.4565758    2.38360588   1.28237794   6.35680543  -1.03681224\n",
      "  -2.15233849   8.95458532   4.7478132    2.15921662   3.15559882\n",
      "  -4.06900232  -2.81798143  -4.44614174  -0.30996271  -0.28106482\n",
      "   3.868508     0.51373703  -4.86373976  -0.80361572  -1.34481741\n",
      "  -1.50894532   7.09934706  -2.05453958  -4.73707168   1.60664977\n",
      "  -3.3034293   -6.46076101  -3.45427432  -0.19809856  -0.46579287\n",
      "   2.42346635  11.52036033  -1.62769848   6.0712248   -4.28582147\n",
      "  -0.13775453 -10.16889018   3.02272454   6.34413547  13.21428442\n",
      "   4.35279232   3.47202057   8.28830411  -1.7058483   -3.19170909\n",
      "  -5.59705734  -0.53172974   0.30618239   4.91908712   6.34700108\n",
      "   1.07419499   1.46848431  -3.49824891   0.11093516   1.12244869\n",
      "  -5.90419773  -0.35616883   2.90322312   5.87969836  -0.20803389\n",
      "   1.33033653  -2.53420389  -4.47929289  -4.3242732   -6.63060376\n",
      "  10.28221172   1.55597023  -4.01245731  -0.80898764   5.39035122\n",
      "  -0.4070549   -2.90818158  -6.09974672 -13.89409569  -0.67066656]\n"
     ]
    },
    {
     "data": {
      "image/png": "[encoded data removed]",
      "text/plain": [
       "<matplotlib.figure.Figure at 0x7f67d34a9a90>"
      ]
     },
     "metadata": {},
     "output_type": "display_data"
    }
   ],
   "source": [
    "import numpy as np\n",
    "\n",
    "slope = 0.5\n",
    "intercept = -10\n",
    "\n",
    "x = np.arange(0, 100)\n",
    "y = slope*x + intercept\n",
    "noise = 5 * np.random.normal(0, 1, size=len(x))\n",
    "\n",
    "print noise\n",
    "\n",
    "y = y + noise\n",
    "\n",
    "# Plot the line - more detials on this are covered in a later lecture\n",
    "%matplotlib inline\n",
    "import matplotlib.pyplot as plt\n",
    "plt.plot(y);"
   ]
  },
  {
   "cell_type": "markdown",
   "metadata": {},
   "source": [
    "However, using a bit of linear algebra, we can actually compute the best fit linear coefficients"
   ]
  },
  {
   "cell_type": "code",
   "execution_count": 71,
   "metadata": {},
   "outputs": [
    {
     "name": "stdout",
     "output_type": "stream",
     "text": [
      "0.492499257491 -9.84190470555 0.939006461855\n"
     ]
    },
    {
     "data": {
      "image/png": "[encoded data removed]",
      "text/plain": [
       "<matplotlib.figure.Figure at 0x7f67f46ec890>"
      ]
     },
     "metadata": {},
     "output_type": "display_data"
    }
   ],
   "source": [
    "n = len(x)\n",
    " \n",
    "m = (n * sum(x * y) - sum(x) * sum(y)) / (n * sum(x**2) - (sum(x))**2)\n",
    "b = (sum(y) - m * sum(x))/n\n",
    "r = (n * sum(x * y) - sum(x) * sum(y)) / np.sqrt((n*sum(x**2) - sum(x)**2)\n",
    "* (n * sum(y**2) - sum(y)**2))\n",
    " \n",
    "print m, b, r\n",
    "\n",
    "y2 = m*x + b\n",
    "plt.plot(x,y)\n",
    "plt.plot(x,y2);"
   ]
  },
  {
   "cell_type": "markdown",
   "metadata": {},
   "source": [
    "This gives us pretty much the right result, but it was kind of a pain to type in. If only the libraries had some sort of function that could do linear regression for us..."
   ]
  },
  {
   "cell_type": "code",
   "execution_count": 72,
   "metadata": {},
   "outputs": [
    {
     "name": "stdout",
     "output_type": "stream",
     "text": [
      "Regression Slope:  0.492499257491\n",
      "Regression Intercept:  -9.84190470555\n",
      "Regression correlation:  0.939006461855\n",
      "R^2:,  0.881733135405\n",
      "p(slope is 0):  3.17878404073e-47\n"
     ]
    }
   ],
   "source": [
    "from scipy import stats\n",
    " \n",
    "r_slope, r_int, r_rval, r_pval, r_stderr = stats.linregress(x, y)\n",
    " \n",
    "print \"Regression Slope: \", r_slope\n",
    "print \"Regression Intercept: \", r_int\n",
    "print \"Regression correlation: \", r_rval\n",
    "print \"R^2:, \", r_rval**2\n",
    "print \"p(slope is 0): \", r_pval"
   ]
  },
  {
   "cell_type": "markdown",
   "metadata": {},
   "source": [
    "Or, if you want to just compute the correlation, there's a function for that"
   ]
  },
  {
   "cell_type": "code",
   "execution_count": 74,
   "metadata": {},
   "outputs": [
    {
     "name": "stdout",
     "output_type": "stream",
     "text": [
      "Pearson:  (0.95067500548371853, 1.2766510244877678e-51)\n",
      "\n",
      "Spearman:  SpearmanrResult(correlation=0.95105910591059095, pvalue=8.7847273548620967e-52)\n"
     ]
    }
   ],
   "source": [
    "from scipy.stats import pearsonr, spearmanr\n",
    "\n",
    "result = pearsonr(x, y)\n",
    "print \"Pearson: \", result\n",
    "\n",
    "print\n",
    "\n",
    "result = spearmanr(x, y)\n",
    "print \"Spearman: \", result"
   ]
  },
  {
   "cell_type": "markdown",
   "metadata": {},
   "source": [
    "Scipy can also be used to calculate a t-test"
   ]
  },
  {
   "cell_type": "code",
   "execution_count": null,
   "metadata": {
    "collapsed": true
   },
   "outputs": [],
   "source": [
    "from scipy.stats import ttest_ind\n",
    "\n",
    "# Generate two sets of samples from the normal distribution\n",
    "\n",
    "group1 = np.random.normal(1.3, 1, 1000)\n",
    "group2 = np.random.normal(1, 1, 1000)\n",
    "\n",
    "# Some plotting code (ignore for now)\n",
    "plt.hist(group1, 100, (-5, 5), alpha=.6)\n",
    "plt.hist(group2, 100, (-5, 5), alpha=.6)\n",
    "plt.show()\n",
    "\n",
    "\n",
    "result = ttest_ind(group1, group2)\n",
    "print \"P =\", result.pvalue\n",
    "\n"
   ]
  },
  {
   "cell_type": "markdown",
   "metadata": {},
   "source": [
    "## End of Part 1 - Break for Exercises\n",
    "\n",
    "<ol>\n",
    "<li style=\"margin-bottom: 20px\"><b>Writing Mathematical Functions</b>\n",
    "    <ol>\n",
    "    <li>Write a function that accepts an array of floats as inputs. Return an array where every value of the input array has been divided by 1.5.</li>\n",
    "    <li>Use a random function (uniform or normal) to generate an array of floats. Write a function that accepts this array, and returns a list of values that are more than one standard deviation greater or less than the mean of the array.</li>\n",
    "    <li>Write a function that estimates a p-value from the exponential distribution (another distribution in numpy).  The function should take a number as an input (lets call it x), and return an estimate at the probability that a number drawn from the exponential distribution will be equal to or greater than x.  <br/><br/>To do this, generate many samples from the exponential distribution (use the default scale=1.0), count the number of samples greater than x, and divide the result by the number of samples you generated.  <br/><br/>Don't use a loop to count the number of samples greater than x.  Instead look at what happens when you use np.sum() on a boolean array, or read about the method np.count_nonzero().<br/><br/>Calling your function should look like this:<br/>\n",
    "    ```\n",
    "    out = my_function(3)\n",
    "print out #prints 0.050316 (or close to this number)\n",
    "    ```</li>\n",
    "    </ol>\n",
    "</li>\n",
    "\n",
    "<li><b>Strings to arrays</b><br/>\n",
    "So we had this idea that we might be able to find a periodicity in the spacing of pyrimidine residues downstream of the termination site in Rho dependent genes (by and large, we don't). Nevertheless:\n",
    "    <ol>\n",
    "    <li>Make a function that takes a DNA string as input (Only G, C, A, or T's) and an arbitrary substring (e.g. \"CT\"). The function should find all locations of the substring in the string and return it as an array.<br/><i>For Example:</i><br/>\n",
    "    ```\n",
    "    a = find_substring(\"GCACTTGCACGTACGCCGT\", \"AC\") \n",
    "# output a contains [2, 8, 12] (or a numpy array with these values)\n",
    "    ```</li>\n",
    "    <li>Using the result of find_substring from (a), find the distance between each pair of adjacent substrings. (i.e. How many basepairs separate each position where we found the subtring.) Check if a numpy method does this.<br/><i>For Example:</i><br/>\n",
    "    ```\n",
    "    differences = find_differences(a)\n",
    "# differences contains [6, 4]\n",
    "    ```</li>\n",
    "    <li>Use the fasta-parser you've written to read the S.cerevisiae genome fasta file from Lecture 1.1 . Then, using the functions in part (a) and (b), generate a full list of the spacings between 'CT' nucleotide pairs for each chromosome and return an array of the differences between adjacent positions</li>\n",
    "<li>Using numpy, compute the histogram of these spacings (we'll show you how to plot them later).  Use Google (or the documentation we linked above) to look up the right numpy function and how to use it.</li></ol></li></ol>"
   ]
  }
 ],
 "metadata": {
  "anaconda-cloud": {},
  "kernelspec": {
   "display_name": "Python 2",
   "language": "python",
   "name": "python2"
  },
  "language_info": {
   "codemirror_mode": {
    "name": "ipython",
    "version": 2
   },
   "file_extension": ".py",
   "mimetype": "text/x-python",
   "name": "python",
   "nbconvert_exporter": "python",
   "pygments_lexer": "ipython2",
   "version": "2.7.13"
  }
 },
 "nbformat": 4,
 "nbformat_minor": 1
}
