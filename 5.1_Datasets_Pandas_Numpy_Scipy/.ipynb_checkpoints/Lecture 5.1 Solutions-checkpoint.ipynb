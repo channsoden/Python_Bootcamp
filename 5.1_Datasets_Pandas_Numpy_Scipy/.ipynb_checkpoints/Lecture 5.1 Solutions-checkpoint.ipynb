{
 "cells": [
  {
   "cell_type": "markdown",
   "metadata": {},
   "source": [
    "# Problem 1 \n",
    "## a"
   ]
  },
  {
   "cell_type": "code",
   "execution_count": 34,
   "metadata": {},
   "outputs": [
    {
     "data": {
      "text/plain": [
       "array([ 0.66666667,  1.33333333,  2.        ,  2.66666667,  3.33333333])"
      ]
     },
     "execution_count": 34,
     "metadata": {},
     "output_type": "execute_result"
    }
   ],
   "source": [
    "import numpy as np;\n",
    "\n",
    "def divide_by_1p5(array):\n",
    "    return array / 1.5;\n",
    "\n",
    "# Test it out\n",
    "test_array = np.array([1, 2, 3, 4, 5]);\n",
    "out_array = divide_by_1p5(test_array);\n",
    "out_array"
   ]
  },
  {
   "cell_type": "markdown",
   "metadata": {},
   "source": [
    "## b"
   ]
  },
  {
   "cell_type": "code",
   "execution_count": 35,
   "metadata": {},
   "outputs": [
    {
     "name": "stdout",
     "output_type": "stream",
     "text": [
      "[ 62.30065217  37.73830171  67.52161368  64.5868337   60.59057785\n",
      "  75.15920131  62.53750284  63.6902767   62.78485973  32.58078504\n",
      "  38.40487355  62.50055425  35.56183492  62.75430912  36.51391366\n",
      "  39.1339049   39.41157298  64.78254565  61.68681811  62.2919864\n",
      "  38.50601877  33.31548261  37.02601413  31.2483819   61.68106527\n",
      "  30.841643    36.11371899  59.70704436  38.2258597   38.88161219\n",
      "  39.52090411  34.86018806  64.90009102  38.60111364  38.64255487\n",
      "  36.32781565  27.87623756  62.85309181  35.01707239]\n",
      "[ 27.87623756  30.841643    31.2483819   32.58078504  33.31548261\n",
      "  34.86018806  35.01707239  35.56183492  36.11371899  36.32781565\n",
      "  36.51391366  37.02601413  37.73830171  38.2258597   38.40487355\n",
      "  38.50601877  38.60111364  38.64255487  38.88161219  39.1339049\n",
      "  39.41157298  39.52090411  59.70704436  60.59057785  61.68106527\n",
      "  61.68681811  62.2919864   62.30065217  62.50055425  62.53750284\n",
      "  62.75430912  62.78485973  62.85309181  63.6902767   64.5868337\n",
      "  64.78254565  64.90009102  67.52161368  75.15920131]\n"
     ]
    }
   ],
   "source": [
    "def getOutliers(array):\n",
    "    mean=np.mean(array)\n",
    "    std=np.std(array)\n",
    "    highCutoff=mean+std\n",
    "    lowCutoff=mean-std\n",
    "    greater = array > highCutoff\n",
    "    less = array < lowCutoff\n",
    "    greater_or_less = greater | less\n",
    "    return array[greater_or_less];\n",
    "\n",
    "# Test it out\n",
    "a = np.random.normal(50, 10, 100)\n",
    "print getOutliers(a)\n",
    "\n",
    "#Sorting makes it easier to see\n",
    "print np.sort(getOutliers(a))"
   ]
  },
  {
   "cell_type": "markdown",
   "metadata": {},
   "source": [
    "## b - alternate solution"
   ]
  },
  {
   "cell_type": "code",
   "execution_count": 36,
   "metadata": {},
   "outputs": [
    {
     "name": "stdout",
     "output_type": "stream",
     "text": [
      "[ 65.84821828  33.13050887  61.32508931  39.40375324  60.26020311\n",
      "  68.55760724  24.96967843  24.78949632  26.03808617  69.35170526\n",
      "  69.1775492   39.18689764  39.8753109   64.87587969  61.35344127\n",
      "  62.11463931  70.04519231  63.62896624  60.54696896  25.7726364\n",
      "  33.70596259  62.84351912  62.28304667  30.21125121  39.17503436\n",
      "  61.78849852  64.86064502  38.02148525  61.31522942  38.99499598\n",
      "  38.11813646  36.67921992  67.74629042]\n",
      "[ 24.78949632  24.96967843  25.7726364   26.03808617  30.21125121\n",
      "  33.13050887  33.70596259  36.67921992  38.02148525  38.11813646\n",
      "  38.99499598  39.17503436  39.18689764  39.40375324  39.8753109\n",
      "  60.26020311  60.54696896  61.31522942  61.32508931  61.35344127\n",
      "  61.78849852  62.11463931  62.28304667  62.84351912  63.62896624\n",
      "  64.86064502  64.87587969  65.84821828  67.74629042  68.55760724\n",
      "  69.1775492   69.35170526  70.04519231]\n"
     ]
    }
   ],
   "source": [
    "def getOutliers(array):\n",
    "    mean=np.mean(array)\n",
    "    std=np.std(array)\n",
    "    highCutoff=mean+std\n",
    "    lowCutoff=mean-std\n",
    "    outliers=[]\n",
    "    for i in array:\n",
    "        if i > highCutoff or i < lowCutoff:\n",
    "            outliers.append(i)\n",
    "    return np.array(outliers)\n",
    "\n",
    "# Test it out\n",
    "a = np.random.normal(50, 10, 100);\n",
    "print getOutliers(a)\n",
    "\n",
    "#Sorting makes it easier to see\n",
    "print np.sort(getOutliers(a))"
   ]
  },
  {
   "cell_type": "markdown",
   "metadata": {},
   "source": [
    "## c"
   ]
  },
  {
   "cell_type": "code",
   "execution_count": 37,
   "metadata": {},
   "outputs": [
    {
     "name": "stdout",
     "output_type": "stream",
     "text": [
      "Estimated p-value for 3 is  0.049752\n",
      "Estimated p-value for 5 is  0.00665\n"
     ]
    }
   ],
   "source": [
    "def estimate_p(measurement):\n",
    "    N_SAMPLES = 1000000; \n",
    "    samples = np.random.exponential(scale = 1.0, size = N_SAMPLES);\n",
    "    return np.sum(samples > measurement) / float(len(samples));\n",
    "\n",
    "print \"Estimated p-value for 3 is \", estimate_p(3);\n",
    "print \"Estimated p-value for 5 is \", estimate_p(5);"
   ]
  },
  {
   "cell_type": "markdown",
   "metadata": {},
   "source": [
    "We can also check how close we got by using the 'expon' distribution in scipy.stats\n",
    "\n",
    "Importing this object gives us access to a variety of functions on the distribution - see the documentation [here](http://docs.scipy.org/doc/scipy-0.16.0/reference/generated/scipy.stats.expon.html)\n",
    "\n",
    "Using the sf (survival) function computes the integral of the distribution from X to infinity - essentially what we're trying to estimate above by taking many samples and counting the proportion of them greater than X."
   ]
  },
  {
   "cell_type": "code",
   "execution_count": 38,
   "metadata": {},
   "outputs": [
    {
     "name": "stdout",
     "output_type": "stream",
     "text": [
      "Actual p-value for 3 is  0.0497870683679\n",
      "Actual p-value for 5 is  0.00673794699909\n"
     ]
    }
   ],
   "source": [
    "from scipy.stats import expon\n",
    "\n",
    "print \"Actual p-value for 3 is \", expon.sf(3);\n",
    "print \"Actual p-value for 5 is \", expon.sf(5);"
   ]
  },
  {
   "cell_type": "markdown",
   "metadata": {},
   "source": [
    "# Problem 2"
   ]
  },
  {
   "cell_type": "markdown",
   "metadata": {},
   "source": [
    "## a"
   ]
  },
  {
   "cell_type": "code",
   "execution_count": 39,
   "metadata": {},
   "outputs": [
    {
     "name": "stdout",
     "output_type": "stream",
     "text": [
      "[ 1  7 22]\n"
     ]
    }
   ],
   "source": [
    "def findsubstring(string,Substring):\n",
    "    length = len(Substring)\n",
    "    posList=[]\n",
    "    for pos,letter in enumerate(string):\n",
    "        if string[pos:pos+length]==Substring:\n",
    "            posList.append(pos)\n",
    "    return np.array(posList)\n",
    " \n",
    "x = findsubstring('ACTAGGGCTAATAGATTACGGACTATG','CT')\n",
    "print x"
   ]
  },
  {
   "cell_type": "markdown",
   "metadata": {},
   "source": [
    "## a - alternate\n",
    "If you looked at a list of python string methods, you might notice the \"find\" method will locate a substring within a string.  However, it only finds the first match after the 'start' position.  So to search for all matches, you need to loop through, finding each match, and then updating the 'start' position so it looks for the next match next time.  Here's what a solution using this method looks like."
   ]
  },
  {
   "cell_type": "code",
   "execution_count": 40,
   "metadata": {},
   "outputs": [
    {
     "name": "stdout",
     "output_type": "stream",
     "text": [
      "[ 1  7 22]\n"
     ]
    }
   ],
   "source": [
    "def findsubstring(string, Substring):\n",
    "    posList = [];\n",
    "    end_of_loop = False\n",
    "    while(not end_of_loop):\n",
    "        if(len(posList) == 0):\n",
    "            start_position = -1;\n",
    "        else:\n",
    "            start_position = posList[-1];\n",
    "        \n",
    "        next_pos = string.find(Substring, start_position+1);\n",
    "        if(next_pos > -1):\n",
    "            posList.append(next_pos);\n",
    "        else:\n",
    "            end_of_loop = True;\n",
    "        \n",
    "    return np.array(posList);\n",
    "\n",
    "x = findsubstring('ACTAGGGCTAATAGATTACGGACTATG','CT')\n",
    "print x"
   ]
  },
  {
   "cell_type": "markdown",
   "metadata": {
    "collapsed": true
   },
   "source": [
    "## a - alternate #2\n",
    "Python has a more advanced module for string searching called 're' (stands for Regular Expressions).  Regular Expression syntax is a whole language of its own, but it lets you use wildcards and other customizations to search for particular patterns.  However, we can also use it for our simple example."
   ]
  },
  {
   "cell_type": "code",
   "execution_count": 41,
   "metadata": {},
   "outputs": [
    {
     "name": "stdout",
     "output_type": "stream",
     "text": [
      "[1, 7, 22]\n"
     ]
    }
   ],
   "source": [
    "import re\n",
    "def findsubstring(string, Substring):\n",
    "    return [x.start() for x in re.finditer(Substring, string)];\n",
    "\n",
    "x = findsubstring('ACTAGGGCTAATAGATTACGGACTATG','CT')\n",
    "print x"
   ]
  },
  {
   "cell_type": "markdown",
   "metadata": {},
   "source": [
    "## b"
   ]
  },
  {
   "cell_type": "code",
   "execution_count": 42,
   "metadata": {},
   "outputs": [
    {
     "name": "stdout",
     "output_type": "stream",
     "text": [
      "[ 6 15]\n"
     ]
    }
   ],
   "source": [
    "difference = np.diff(x) # Just had to find the np.diff method\n",
    "print difference"
   ]
  },
  {
   "cell_type": "markdown",
   "metadata": {},
   "source": [
    "## c"
   ]
  },
  {
   "cell_type": "code",
   "execution_count": 43,
   "metadata": {},
   "outputs": [
    {
     "name": "stdout",
     "output_type": "stream",
     "text": [
      "[3, 9, 7, 2, 24, 3, 4, 4, 16, 15, 9, 3, 2, 8, 5, 2, 4, 3, 17, 21, 3, 21, 16, 11, 5, 18, 4, 19, 5, 2, 6, 3, 2, 3, 7, 2, 24, 7, 14, 8, 2, 12, 25, 11, 12, 43, 9, 3, 12, 9, 29, 36, 15, 13, 5, 15, 5, 12, 3, 3, 5, 13, 3, 5, 6, 9, 9, 13, 20, 8, 6, 4, 8, 21, 7, 8, 4, 6, 27, 9, 2, 4, 19, 7, 13, 2, 7, 4, 19, 5, 4, 4, 5, 2, 18, 10, 2, 3, 3, 30]\n"
     ]
    }
   ],
   "source": [
    "## Fasta parsing function\n",
    "def fastaParser(fastaFile):\n",
    "    fasta_dict={}\n",
    "    fh = open(fastaFile,'r')\n",
    "    for line in fh:\n",
    "        line = line.strip() # Remove new-line characters at the end\n",
    "        if line[0]=='>':  # Find the line where a chromosome starts\n",
    "            seqName = line[1::]\n",
    "            fasta_dict[seqName]=\"\"\n",
    "        else:\n",
    "            fasta_dict[seqName]+=line # For every other line, just append to the previous string\n",
    "    return fasta_dict \n",
    " \n",
    "scer_genome = fastaParser(\"Yeast_Genome.fasta\")\n",
    "\n",
    "all_diffs = []\n",
    " \n",
    "for chromosome in scer_genome:\n",
    "    seq = scer_genome[chromosome]\n",
    "    hits = findsubstring(seq, 'CT')\n",
    "    diffs = np.diff(hits)\n",
    "    all_diffs.extend(diffs)\n",
    "\n",
    "print all_diffs[0:100] # Just print first 100"
   ]
  },
  {
   "cell_type": "markdown",
   "metadata": {},
   "source": [
    "## d"
   ]
  },
  {
   "cell_type": "code",
   "execution_count": 44,
   "metadata": {},
   "outputs": [
    {
     "name": "stdout",
     "output_type": "stream",
     "text": [
      "[ 0  1  2  3  4  5  6  7  8  9 10 11 12 13 14 15 16 17 18 19 20 21 22 23 24\n",
      " 25 26 27 28 29]\n",
      "[    0     0 47041 54878 38324 34531 36687 29194 27665 30902 24976 22859\n",
      " 24669 20250 18070 19482 16007 14983 15908 13151 12226 13127 11046 10028\n",
      " 10650  9034  8177  8696 14289]\n"
     ]
    }
   ],
   "source": [
    "values, bins = np.histogram(all_diffs, range(0,30))\n",
    "print bins\n",
    "print values"
   ]
  },
  {
   "cell_type": "markdown",
   "metadata": {
    "collapsed": true
   },
   "source": [
    "## Part 2\n",
    "### Problem 3a"
   ]
  },
  {
   "cell_type": "code",
   "execution_count": 45,
   "metadata": {},
   "outputs": [
    {
     "name": "stdout",
     "output_type": "stream",
     "text": [
      "On days where it rained, the mean precipitation was 0.048 with standard deviation 0.068\n"
     ]
    }
   ],
   "source": [
    "import pandas as pd\n",
    "weather = pd.read_table(\"nycflights13/weather.txt\")\n",
    "\n",
    "meanPrecip = weather.precip[weather.precip > 0].mean()\n",
    "stdPrecip = weather.precip[weather.precip > 0].std()\n",
    "\n",
    "print (\"On days where it rained, the mean precipitation was \"\n",
    "\"{:.3f} with standard deviation {:.3f}\".format(meanPrecip, stdPrecip))"
   ]
  },
  {
   "cell_type": "markdown",
   "metadata": {},
   "source": [
    "### Problem 3b"
   ]
  },
  {
   "cell_type": "code",
   "execution_count": 46,
   "metadata": {},
   "outputs": [
    {
     "data": {
      "text/html": [
       "<div>\n",
       "<style>\n",
       "    .dataframe thead tr:only-child th {\n",
       "        text-align: right;\n",
       "    }\n",
       "\n",
       "    .dataframe thead th {\n",
       "        text-align: left;\n",
       "    }\n",
       "\n",
       "    .dataframe tbody tr th {\n",
       "        vertical-align: top;\n",
       "    }\n",
       "</style>\n",
       "<table border=\"1\" class=\"dataframe\">\n",
       "  <thead>\n",
       "    <tr style=\"text-align: right;\">\n",
       "      <th></th>\n",
       "      <th>dep_delay</th>\n",
       "      <th>precip</th>\n",
       "    </tr>\n",
       "  </thead>\n",
       "  <tbody>\n",
       "    <tr>\n",
       "      <th>0</th>\n",
       "      <td>-6.0</td>\n",
       "      <td>0.0</td>\n",
       "    </tr>\n",
       "    <tr>\n",
       "      <th>1</th>\n",
       "      <td>-3.0</td>\n",
       "      <td>0.0</td>\n",
       "    </tr>\n",
       "    <tr>\n",
       "      <th>2</th>\n",
       "      <td>-2.0</td>\n",
       "      <td>0.0</td>\n",
       "    </tr>\n",
       "    <tr>\n",
       "      <th>3</th>\n",
       "      <td>-1.0</td>\n",
       "      <td>0.0</td>\n",
       "    </tr>\n",
       "    <tr>\n",
       "      <th>4</th>\n",
       "      <td>0.0</td>\n",
       "      <td>0.0</td>\n",
       "    </tr>\n",
       "  </tbody>\n",
       "</table>\n",
       "</div>"
      ],
      "text/plain": [
       "   dep_delay  precip\n",
       "0       -6.0     0.0\n",
       "1       -3.0     0.0\n",
       "2       -2.0     0.0\n",
       "3       -1.0     0.0\n",
       "4        0.0     0.0"
      ]
     },
     "execution_count": 46,
     "metadata": {},
     "output_type": "execute_result"
    }
   ],
   "source": [
    "flights = pd.read_table(\"nycflights13/flights.txt\")\n",
    "\n",
    "delayAndPrecip = flights.merge(\n",
    "    weather,\n",
    "    left_on=['year', 'month', 'day', 'hour', 'origin'],\n",
    "    right_on=['year', 'month', 'day', 'hour', 'origin']\n",
    ")\n",
    "delayAndPrecip = delayAndPrecip[['dep_delay', 'precip']]\n",
    "delayAndPrecip.head()"
   ]
  },
  {
   "cell_type": "markdown",
   "metadata": {},
   "source": [
    "### Problem 3c"
   ]
  },
  {
   "cell_type": "code",
   "execution_count": 47,
   "metadata": {},
   "outputs": [
    {
     "name": "stdout",
     "output_type": "stream",
     "text": [
      "High Precipiation Delay: 32.5533980583\n",
      "Low Precipiation Delay: 29.3532919099\n",
      "No Precipiation Delay: 11.6739658738\n"
     ]
    }
   ],
   "source": [
    "# I also selected a low-precipitation group too, but I didn't ask you to do this in the exercises\n",
    "precipCutoff = meanPrecip + stdPrecip\n",
    "\n",
    "delay_HighPrecip = delayAndPrecip.loc[delayAndPrecip['precip'] > precipCutoff]['dep_delay']\n",
    "delay_LowPrecip = delayAndPrecip.loc[\n",
    "    (delayAndPrecip['precip'] > 0) & \n",
    "    (delayAndPrecip['precip'] <= precipCutoff)]['dep_delay']\n",
    "delay_NoPrecip = delayAndPrecip.loc[delayAndPrecip['precip'] == 0]['dep_delay']\n",
    "\n",
    "print(\"High Precipiation Delay: {}\".format(delay_HighPrecip.mean()))\n",
    "print(\"Low Precipiation Delay: {}\".format(delay_LowPrecip.mean()))\n",
    "print(\"No Precipiation Delay: {}\".format(delay_NoPrecip.mean()))"
   ]
  },
  {
   "cell_type": "markdown",
   "metadata": {},
   "source": [
    "### Problem 3d"
   ]
  },
  {
   "cell_type": "code",
   "execution_count": 48,
   "metadata": {},
   "outputs": [
    {
     "name": "stdout",
     "output_type": "stream",
     "text": [
      "High vs None: p < 6.88929703009e-138\n",
      "Low vs None: p < 0.0\n",
      "High vs Low: p < 0.912493254875\n"
     ]
    }
   ],
   "source": [
    "from scipy.stats import ranksums\n",
    "result = ranksums(delay_NoPrecip, delay_HighPrecip)\n",
    "print \"High vs None: p <\", result.pvalue\n",
    "\n",
    "result = ranksums(delay_NoPrecip, delay_LowPrecip)\n",
    "print \"Low vs None: p <\", result.pvalue\n",
    "\n",
    "result = ranksums(delay_LowPrecip, delay_HighPrecip)\n",
    "print \"High vs Low: p <\", result.pvalue"
   ]
  }
 ],
 "metadata": {
  "anaconda-cloud": {},
  "kernelspec": {
   "display_name": "Python 2",
   "language": "python",
   "name": "python2"
  },
  "language_info": {
   "codemirror_mode": {
    "name": "ipython",
    "version": 2
   },
   "file_extension": ".py",
   "mimetype": "text/x-python",
   "name": "python",
   "nbconvert_exporter": "python",
   "pygments_lexer": "ipython2",
   "version": "2.7.12"
  }
 },
 "nbformat": 4,
 "nbformat_minor": 1
}
