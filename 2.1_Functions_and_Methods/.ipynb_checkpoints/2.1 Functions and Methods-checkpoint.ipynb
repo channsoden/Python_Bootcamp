{
 "cells": [
  {
   "cell_type": "markdown",
   "metadata": {},
   "source": [
    "# Functions and Methods\n",
    "\n",
    "## Topics:\n",
    "- Functions - definition\n",
    "- Built-in Functions\n",
    "- Writing your own functions\n",
    "- Using functions to organize your code\n",
    "- Methods vs functions\n",
    "\n",
    "## Introduction\n",
    "\n",
    "This morning we will focus on another fundamental component of programming in general and Python in particular - **functions**. Functions in Python are very similar to mathematical functions - they take an input and perform a sub-routine, often but not always returning an output. We will run through a series of commonly used Python functions built in to the language. We will also learn to write our own functions to help organize our own code. Lastly, we will touch on some common **methods** - functions which belong to specific objects.\n",
    "\n",
    "## Functions\n",
    "\n",
    "Functions are the basic means to manage complexity in your programs, allowing you to avoid nesting and repeating large chunks of code that could otherwise make your tasks unmanageable. They allow you to bundle code with a defined input and output into single lines, and you should use them frequently from now on.\n",
    "\n",
    "Python has a number of so-called 'built-in' functions - functions which are always avaliable to use, without loading addition code repositories. You've already seen the **raw_input** function yesterday."
   ]
  },
  {
   "cell_type": "markdown",
   "metadata": {},
   "source": [
    "***Built-in Functions:***\n",
    "<pre>\n",
    "\n",
    "abs()\tdivmod()\tinput()\topen()\tstaticmethod()\n",
    "all()\tenumerate()\tint()\tord()\tstr()\n",
    "any()\teval()\tisinstance()\tpow()\tsum()\n",
    "basestring()\texecfile()\tissubclass()\tprint()\tsuper()\n",
    "bin()\tfile()\titer()\tproperty()\ttuple()\n",
    "bool()\tfilter()\tlen()\trange()\ttype()\n",
    "bytearray()\tfloat()\tlist()\traw_input()\tunichr()\n",
    "callable()\tformat()\tlocals()\treduce()\tunicode()\n",
    "chr()\tfrozenset()\tlong()\treload()\tvars()\n",
    "classmethod()\tgetattr()\tmap()\trepr()\txrange()\n",
    "cmp()\tglobals()\tmax()\treversed()\tzip()\n",
    "compile()\thasattr()\tmemoryview()\tround()\t__import__()\n",
    "complex()\thash()\tmin()\tset()\n",
    "delattr()\thelp()\tnext()\tsetattr()\n",
    "dict()\thex()\tobject()\tslice()\t\n",
    "dir()\tid()\toct()\tsorted()\n",
    "\n",
    "</pre>\n",
    "\n"
   ]
  },
  {
   "cell_type": "markdown",
   "metadata": {},
   "source": [
    "As the course continues, many of these functions will become familiar to you. Some of these functions seem to have guessable uses, but many are somewhat cryptically named. Even for those than do sounds familiar, you may not know exactly how to use these functions. One can use Python's official documentation to learn about a specific function, or you can use iPython's help functionality - simply type the function you are interested in, followed by a '?'"
   ]
  },
  {
   "cell_type": "code",
   "execution_count": 1,
   "metadata": {
    "collapsed": true
   },
   "outputs": [],
   "source": [
    "len?"
   ]
  },
  {
   "cell_type": "markdown",
   "metadata": {},
   "source": [
    "This tells us that the **len** function takes an **object** as its **input** - a pretty generic input, as pretty much everything is an object. The **output** of **len** is an **integer**, which is equal to the number of items within the given input, aka the length of the object.\n",
    "\n",
    "To call a function, simply type the name of the function, followed by an open and close parenthesis. If the function takes an input, the input is within the parenthesis.\n",
    "\n",
    "Using **len** as an example:"
   ]
  },
  {
   "cell_type": "code",
   "execution_count": 5,
   "metadata": {
    "scrolled": true
   },
   "outputs": [],
   "source": [
    "string1 = 'Zaphod Beeblebrox'\n",
    "string2 = 'Ford Prefect'\n",
    "string3 = 'Arthur Dent'\n",
    "string4 = ''\n",
    "\n",
    "len1 = len(string1)\n",
    "len2 = len(string2)\n",
    "len3 = len(string3)\n",
    "len4 = len(string4)"
   ]
  },
  {
   "cell_type": "code",
   "execution_count": 6,
   "metadata": {},
   "outputs": [
    {
     "name": "stdout",
     "output_type": "stream",
     "text": [
      "Zaphod Beeblebrox has 17 items in it\n",
      "Ford Prefect has 12 items in it\n",
      "Arthur Dent has 11 items in it\n",
      " has 0 items in it\n"
     ]
    }
   ],
   "source": [
    "print_string = '{0} has {1} items in it'\n",
    "print print_string.format(string1,len1)\n",
    "print print_string.format(string2,len2)\n",
    "print print_string.format(string3,len3)\n",
    "print print_string.format(string4,len4)"
   ]
  },
  {
   "cell_type": "markdown",
   "metadata": {},
   "source": [
    "We've created 4 different strings of 4 different lengths. We then called **len** 4 times, using each string as an input. We then saved the resulting output to a variable, and later printed it all out nicely. Note that the empty string '' has a length of 0.\n",
    "\n",
    "Functions can have more than one input. The function **max** takes a series of values a returns the maximum of those values, while the function **min** returns the minimum."
   ]
  },
  {
   "cell_type": "code",
   "execution_count": 7,
   "metadata": {},
   "outputs": [
    {
     "name": "stdout",
     "output_type": "stream",
     "text": [
      "The max is 50\n"
     ]
    }
   ],
   "source": [
    "max_num = max(10,50,20,2)\n",
    "print \"The max is\", max_num\n"
   ]
  },
  {
   "cell_type": "code",
   "execution_count": 8,
   "metadata": {},
   "outputs": [
    {
     "name": "stdout",
     "output_type": "stream",
     "text": [
      "The min is 2\n"
     ]
    }
   ],
   "source": [
    "min_num = min(10,50,20,2)\n",
    "print \"The min is\", min_num\n"
   ]
  },
  {
   "cell_type": "markdown",
   "metadata": {},
   "source": [
    "Functions like **min** and **max** are able to take any number of inputs. However, you may find that giving them a list or set might be easier (more on lists and sets soon!)\n",
    "\n",
    "## Writing your own functions"
   ]
  },
  {
   "cell_type": "code",
   "execution_count": 9,
   "metadata": {
    "scrolled": true
   },
   "outputs": [],
   "source": [
    "# define the function\n",
    "def hello(name):\n",
    " greeting = \"Hello {}!\".format(name)\n",
    " return greeting"
   ]
  },
  {
   "cell_type": "code",
   "execution_count": 11,
   "metadata": {},
   "outputs": [
    {
     "name": "stdout",
     "output_type": "stream",
     "text": [
      "Hello Trillian Astra!\n"
     ]
    }
   ],
   "source": [
    "# use the function\n",
    "functionInput = 'Trillian Astra'\n",
    "\n",
    "print hello(functionInput)"
   ]
  },
  {
   "cell_type": "code",
   "execution_count": 13,
   "metadata": {},
   "outputs": [],
   "source": [
    "functionOutput = hello(functionInput)"
   ]
  },
  {
   "cell_type": "code",
   "execution_count": 14,
   "metadata": {},
   "outputs": [
    {
     "name": "stdout",
     "output_type": "stream",
     "text": [
      "Hello Trillian Astra!\n"
     ]
    }
   ],
   "source": [
    "print functionOutput"
   ]
  },
  {
   "cell_type": "markdown",
   "metadata": {},
   "source": [
    "To define a function, you use the keyword __def__. Then comes the function name, in this case __hello__, with parentheses containing any input __arguments__ the function might need. In this case, we need a name to form a proper greeting, so we're giving the __hello()__ function a variable __argument__ called __name__. After that, the function does its thing, executing the indented block of code immediately below. In this case, it creates a greeting _Hello \"name\"!_. The last thing that it does is return that greeting to the rest of the program.\n",
    "\n",
    "Technically speaking, a function does not need to explicitly return something, although it's uncommon that you'll write any that don't. If you don't return something explicitly, Python will nevertheless return the special object None. None is logically false (for if statements), and printing None will result in nothing being printed (although None is not the empty string). It's easy to forget to return a value, so this is an easy first thing to check in case your functions don't work as expected."
   ]
  },
  {
   "cell_type": "code",
   "execution_count": 18,
   "metadata": {},
   "outputs": [],
   "source": [
    "# what happens when you just print greeting, but don't return anything?\n",
    "# define the function\n",
    "def hello(name):\n",
    " greeting = \"Hello {}!\".format(name)\n",
    " print greeting\n"
   ]
  },
  {
   "cell_type": "code",
   "execution_count": 20,
   "metadata": {},
   "outputs": [
    {
     "name": "stdout",
     "output_type": "stream",
     "text": [
      "Hello Trillian Astra!\n"
     ]
    }
   ],
   "source": [
    "# use the function\n",
    "functionInput = 'Trillian Astra'\n",
    "functionOutput = hello(functionInput)\n"
   ]
  },
  {
   "cell_type": "code",
   "execution_count": 22,
   "metadata": {},
   "outputs": [
    {
     "name": "stdout",
     "output_type": "stream",
     "text": [
      "None\n"
     ]
    }
   ],
   "source": [
    "print functionOutput"
   ]
  },
  {
   "cell_type": "markdown",
   "metadata": {},
   "source": [
    "Note that the variable names are different on the inside and the outside of the function: I give it __functionInput__, although it takes __name__, and it returns __greeting__, although that return value is fed into __functionOutput__. I did this on purpose, as I want to emphasize that the function only knows to expect something, which it internally refers to as __name__, and then to give something else back. In fact, there is some insulation against the outside world, as you can see in this example:"
   ]
  },
  {
   "cell_type": "code",
   "execution_count": 24,
   "metadata": {},
   "outputs": [
    {
     "name": "stdout",
     "output_type": "stream",
     "text": [
      "testVariable before the function: What happens in Vegas stays in Vegas.\n",
      "testVariable inside of the function: The hotel room is a mess, there's a chicken hangin'\n",
      "                   out, somebody's baby is in the closet, there's a\n",
      "                   tiger in the bathroom that Mike Tyson wants back, Stu\n",
      "                   lost a tooth and eloped, and Doug is missing.\n",
      "functionOutput: Hello Stu Price!\n",
      "testVariable after the function: What happens in Vegas stays in Vegas.\n"
     ]
    }
   ],
   "source": [
    "testVariable = \"What happens in Vegas stays in Vegas.\"\n",
    "print 'testVariable before the function:', testVariable\n",
    "\n",
    "def hello(name):\n",
    " greeting = \"Hello {}!\".format(name)\n",
    " testVariable = \"\"\"The hotel room is a mess, there's a chicken hangin'\n",
    "                   out, somebody's baby is in the closet, there's a\n",
    "                   tiger in the bathroom that Mike Tyson wants back, Stu\n",
    "                   lost a tooth and eloped, and Doug is missing.\"\"\"\n",
    " print 'testVariable inside of the function:', testVariable\n",
    " return greeting\n",
    " \n",
    "functionOutput = hello(\"Stu Price\")\n",
    "print 'functionOutput:', functionOutput\n",
    "print 'testVariable after the function:', testVariable"
   ]
  },
  {
   "cell_type": "markdown",
   "metadata": {},
   "source": [
    "Even though the epic story of a bachelor party gone horrifically awry was assigned to a variable called __testVariable__ inside the function, nothing happened to that variable outside the function. Variables created inside a function occupy their own __namespace__ in memory distinct from variables outside of the function, and so reusing names between the two can be done without you having to keep track of it. (Refer to the article http://bytebaker.com/2008/07/30/python-namespaces/ about __namespace__ for more information.) That means you can use functions written by other people without having to keep track of what variables those functions are using internally. Just like a sleazy town in Nevada, what happens in the function stays in the function. (An important exception lies with lists and dictionaries, which you'll see tomorrow).\n",
    "\n",
    "If this sounds confusing, visualizing the execution of this block of code may be helpful. Copy and paste the code here http://www.pythontutor.com/visualize.html and then click \"Visualize Execution\".\n",
    "\n",
    "Let's have another example, returning to a familiar subject:"
   ]
  },
  {
   "cell_type": "code",
   "execution_count": 25,
   "metadata": {},
   "outputs": [
    {
     "name": "stdout",
     "output_type": "stream",
     "text": [
      "What is your Name? Sumayah\n",
      "Hello, Sumayah!\n",
      "Sumayah\n"
     ]
    }
   ],
   "source": [
    "def greetUser(): # note that greetUser takes no input\n",
    "    user_name = raw_input(\"What is your Name? \")\n",
    "    print \"Hello, {}!\".format(user_name)\n",
    "    return user_name\n",
    "\n",
    "name = greetUser()\n",
    "print name"
   ]
  },
  {
   "cell_type": "code",
   "execution_count": 27,
   "metadata": {},
   "outputs": [
    {
     "name": "stdout",
     "output_type": "stream",
     "text": [
      "S\n"
     ]
    }
   ],
   "source": [
    "name = name[:1]\n",
    "print name"
   ]
  },
  {
   "cell_type": "markdown",
   "metadata": {},
   "source": [
    "Here we have made a slightly more complex function. This function **greetUser** takes no input, but instead call the function **raw_input** to ask the user for a name. It then prints a greeting to the user, and **returns** the user's name. However, we don't have to use the output of this function to greet the user - the function already does that for us! We can instead just save the user name for later if we need it, or ignore the output entirely."
   ]
  },
  {
   "cell_type": "code",
   "execution_count": 28,
   "metadata": {},
   "outputs": [
    {
     "name": "stdout",
     "output_type": "stream",
     "text": [
      "What was the point of that?\n"
     ]
    }
   ],
   "source": [
    "# functions can do their thing without taking input or returning output\n",
    "def useless():\n",
    "    print 'What was the point of that?'\n",
    "    \n",
    " \n",
    "useless()"
   ]
  },
  {
   "cell_type": "code",
   "execution_count": 29,
   "metadata": {},
   "outputs": [
    {
     "name": "stdout",
     "output_type": "stream",
     "text": [
      "Call function within function\n",
      "Let's use the function useless()\n",
      "What was the point of that?\n"
     ]
    }
   ],
   "source": [
    "print \"Call function within function\"\n",
    "\n",
    "def calluseless():\n",
    "  print \"Let's use the function useless()\"\n",
    "  useless()\n",
    " \n",
    "calluseless()"
   ]
  },
  {
   "cell_type": "markdown",
   "metadata": {},
   "source": [
    "Notice that what you print inside the function gets printed if you call on the function, even if you don't return anything. However, it won't print anything inside the function unless you call on the function. Finally, you can call on functions from inside functions!\n",
    "\n",
    "You can also have functions with multiple inputs and/or outputs. \n",
    "\n",
    "To specify multiple inputs, separate each input variable with a comma:"
   ]
  },
  {
   "cell_type": "code",
   "execution_count": 30,
   "metadata": {},
   "outputs": [
    {
     "name": "stdout",
     "output_type": "stream",
     "text": [
      ">GeneA\n",
      "AAGTGTGTAGT\n"
     ]
    }
   ],
   "source": [
    "def makeFasta(gene_seq,gene_name):\n",
    "    \n",
    "    fasta_string_base = '>{0}\\n{1}'\n",
    "    \n",
    "    fasta_string = fasta_string_base.format(gene_name,gene_seq)\n",
    "\n",
    "    return fasta_string\n",
    "\n",
    "\n",
    "fasta_text = makeFasta('AAGTGTGTAGT','GeneA')\n",
    "print fasta_text\n"
   ]
  },
  {
   "cell_type": "markdown",
   "metadata": {},
   "source": [
    "Note that if you don't include all specified input variables when calling the function, your code will not sucessfully run."
   ]
  },
  {
   "cell_type": "code",
   "execution_count": 31,
   "metadata": {},
   "outputs": [
    {
     "ename": "TypeError",
     "evalue": "makeFasta() takes exactly 2 arguments (1 given)",
     "output_type": "error",
     "traceback": [
      "\u001b[0;31m---------------------------------------------------------------------------\u001b[0m",
      "\u001b[0;31mTypeError\u001b[0m                                 Traceback (most recent call last)",
      "\u001b[0;32m<ipython-input-31-2fc065edf66d>\u001b[0m in \u001b[0;36m<module>\u001b[0;34m()\u001b[0m\n\u001b[0;32m----> 1\u001b[0;31m \u001b[0mfasta_text\u001b[0m \u001b[0;34m=\u001b[0m \u001b[0mmakeFasta\u001b[0m\u001b[0;34m(\u001b[0m\u001b[0;34m'AAGTGTGTAGT'\u001b[0m\u001b[0;34m)\u001b[0m\u001b[0;34m\u001b[0m\u001b[0m\n\u001b[0m",
      "\u001b[0;31mTypeError\u001b[0m: makeFasta() takes exactly 2 arguments (1 given)"
     ]
    }
   ],
   "source": [
    "fasta_text = makeFasta('AAGTGTGTAGT')"
   ]
  },
  {
   "cell_type": "markdown",
   "metadata": {},
   "source": [
    "You can set certain inputs to be optional, or to have a default value. After specifying the required input variables, add optional variables with a default values using the syntax **variable_name = default_value** "
   ]
  },
  {
   "cell_type": "code",
   "execution_count": 32,
   "metadata": {},
   "outputs": [
    {
     "name": "stdout",
     "output_type": "stream",
     "text": [
      ">TestGene\n",
      "AAGTGTGTAGT\n"
     ]
    }
   ],
   "source": [
    "def makeFasta(gene_seq,gene_name='TestGene'):\n",
    "    fasta_string_base = '>{0}\\n{1}'\n",
    "    fasta_string = fasta_string_base.format(gene_name,gene_seq)\n",
    "    return fasta_string\n",
    "\n",
    "default_fasta_text = makeFasta('AAGTGTGTAGT')\n",
    "print default_fasta_text  "
   ]
  },
  {
   "cell_type": "code",
   "execution_count": 33,
   "metadata": {},
   "outputs": [
    {
     "name": "stdout",
     "output_type": "stream",
     "text": [
      ">GeneA\n",
      "AAGTGTGTAGT\n"
     ]
    }
   ],
   "source": [
    "fasta_text = makeFasta('AAGTGTGTAGT','GeneA')\n",
    "print fasta_text    "
   ]
  },
  {
   "cell_type": "markdown",
   "metadata": {},
   "source": [
    "You can return the value of multiple variables by separating them with commas following a return statement. This creates a new type of variable - the **tuple**, which you will learn more about on Wednesday. Briefly, a **tuple** is an ordered collection of objects. Tuples allow you to store multiple objects within a single variable. You may not have known it, but if you used the **print** function to print multiple variables separated by commas, you have used a tuple!\n",
    "\n",
    "To get at the objects within a tuple (also known as 'tuple unpacking'), have variables separated by commas, followed by an equals sign and the tuple variable name. If you try to unpack a tuple into more variables than there are values in the tuple (or too few variables for the values), your code will not run. "
   ]
  },
  {
   "cell_type": "code",
   "execution_count": 34,
   "metadata": {},
   "outputs": [
    {
     "name": "stdout",
     "output_type": "stream",
     "text": [
      "(8, -2, 15)\n"
     ]
    }
   ],
   "source": [
    "def doMath(num1,num2):\n",
    "    \n",
    "    sumof = num1 + num2\n",
    "    difference = num1 - num2\n",
    "    product = num1 * num2\n",
    "    \n",
    "    ##create a tuple to return\n",
    "    return sumof,difference,product\n",
    "\n",
    "output = doMath(3,5)\n",
    "##print the tuple\n",
    "print output\n"
   ]
  },
  {
   "cell_type": "code",
   "execution_count": 40,
   "metadata": {},
   "outputs": [
    {
     "name": "stdout",
     "output_type": "stream",
     "text": [
      "8 -2 15\n"
     ]
    }
   ],
   "source": [
    "##unpack the tuple\n",
    "sum_of_numbers = output[0]\n",
    "difference_of_numbers = output[1]\n",
    "product_of_numbers = output[2]\n",
    "\n",
    "sum_of_numbers,difference_of_numbers,product_of_numbers = output\n",
    "print sum_of_numbers,difference_of_numbers,product_of_numbers\n"
   ]
  },
  {
   "cell_type": "code",
   "execution_count": 45,
   "metadata": {},
   "outputs": [],
   "source": [
    "##unpack the tuple 'in-place' (somewhat more commonly used)\n",
    "sum_of_numbers,difference_of_numbers,product_of_numbers = doMath(3,5)\n",
    "#print difference_of_numbers,sum_of_numbers,product_of_numbers  \n",
    "\n",
    "\n",
    "##this will cause an error\n",
    "#sum_of_numbers,difference_of_numbers,product_of_numbers,too_many = doMath(3,5)\n",
    "\n",
    "##soo will this\n",
    "#too,few = output\n",
    "\n",
    "\n"
   ]
  },
  {
   "cell_type": "markdown",
   "metadata": {},
   "source": [
    "### Lets take a break - stubbing\n",
    "\n",
    "So how do functions make our lives easier? We can exploit functions to break difficult tasks into a number of easier tasks, and then these easier tasks into ones easier still, and so on. Large code blocks, with a few function calls, are only tens of lines long, and many functions are only a handful of lines. This allows us to program in large, structural sweeps, rather than getting lost in the details. This makes programs both easier to write and easier to read.\n",
    "\n",
    "A common way to start writing a more complex program (or even a simple one!) is to **stub**, or outline, your code. For instance, let's imagine you are writing a program to analyze previously published RNA-seq data, which you want to compare to your own data:"
   ]
  },
  {
   "cell_type": "code",
   "execution_count": 46,
   "metadata": {
    "collapsed": true
   },
   "outputs": [],
   "source": [
    "##Don't copy this into a script!\n",
    " \n",
    "def compareRNA_seq(data_url,own_read_data,genome_data):\n",
    "    downloaded_reads = get_data_from_url(data_url)\n",
    "    \n",
    "    own_expression_data = calc_exp(own_read_data,genome_data)\n",
    "    \n",
    "    downloaded_expression_data = calc_exp(downloaded_reads,genome_data)\n",
    "    \n",
    "    comparison = compare_expression(own_expression_data,downloaded_expression_data)\n",
    "    \n",
    "    plot_comparison(comparison)\n",
    "\n",
    "##downloads data from a given URL\n",
    "def get_data_from_url(url):\n",
    "    pass\n",
    "\n",
    "##calculates gene expression given a set of reads and a genome\n",
    "def calc_exp(input_reads,genome):\n",
    "    pass\n",
    "\n",
    "##compares gene expression between two samples\n",
    "def compare_expression(exp1,exp2):\n",
    "    pass\n",
    "\n",
    "##plots the given input data\n",
    "def plot_comparison(input_data):\n",
    "    pass"
   ]
  },
  {
   "cell_type": "markdown",
   "metadata": {},
   "source": [
    "**pass** is a placeholder statement - it doesn't do anything other than stop Python from complaining that your stubbed functions are empty.\n",
    "\n",
    "Though we may not know exactly how the functions **get_data_from_url**, **calc_exp**, **compare_expression**, or **plot_comparison** work, we know generally what we want them to do. That is, we know what their inputs and outputs are. It might take some coding to turn these inputs into outputs, but stubbing lets you come up with an overall plan for your code before you start."
   ]
  },
  {
   "cell_type": "markdown",
   "metadata": {},
   "source": [
    "## Methods - Object Specific Functions\n",
    "\n",
    "A method is a special kind of function - one that belongs to a specific class of objects. Methods usually perform specific tasks involving that type of object. Though all methods are functions, not all functions are methods.\n",
    "\n",
    "For an example, let's look at a type of object you should be starting to get familiar with - **strings**. We've learned how to format strings yesterday using the **.format()** method, a method belonging to the string class. **format** is just one of many different methods which strings have\n",
    "\n",
    "To get a list of all methods avaliable to an object, use iPython's tab-completion feature"
   ]
  },
  {
   "cell_type": "code",
   "execution_count": 48,
   "metadata": {
    "collapsed": true,
    "scrolled": true
   },
   "outputs": [],
   "source": [
    "s = 'i am a string'\n"
   ]
  },
  {
   "cell_type": "code",
   "execution_count": 50,
   "metadata": {},
   "outputs": [
    {
     "name": "stdout",
     "output_type": "stream",
     "text": [
      "I am a string\n"
     ]
    }
   ],
   "source": [
    "print s.capitalize()"
   ]
  },
  {
   "cell_type": "code",
   "execution_count": 51,
   "metadata": {},
   "outputs": [
    {
     "name": "stdout",
     "output_type": "stream",
     "text": [
      "I am a string\n"
     ]
    }
   ],
   "source": [
    "s = s.capitalize()\n",
    "print s\n"
   ]
  },
  {
   "cell_type": "markdown",
   "metadata": {},
   "source": [
    "To gain more information about specific methods, add a '?' after them and run the cell.\n",
    "\n",
    "To call a method, the syntax is variable_name.method_name(method_inputs)"
   ]
  },
  {
   "cell_type": "code",
   "execution_count": 53,
   "metadata": {},
   "outputs": [
    {
     "name": "stdout",
     "output_type": "stream",
     "text": [
      "I am a string\n",
      "I AM A STRING\n",
      "i am a string\n",
      "I am a string\n"
     ]
    }
   ],
   "source": [
    "bigS = s.upper()\n",
    "smallS = s.lower()\n",
    "\n",
    "print s\n",
    "print bigS\n",
    "print smallS\n",
    "print s # note that s was not changed"
   ]
  },
  {
   "cell_type": "markdown",
   "metadata": {},
   "source": [
    "## Exercises:\n",
    "\n",
    "__1. Fun with Functions__\n",
    "    \n",
    "    a) Write a function that takes an integer x as input, and returns twice the value of x\n",
    "    b) Write a function that takes an integer x as input, and returns the square of x\n",
    "    c) Write a function that takes two numbers, and returns their sum\n",
    "    d) Write a function that takes three numbers, and returns their sum and their product\n",
    "    e) Write a function that takes up to (but not always) three numbers, and returns their product\n",
    "\n",
    "__2. The Greeter Redux__\n",
    "\n",
    "Write a function that asks the user for their name and the year they were born in, greets the user, and returns their name and age.\n",
    "\n",
    "__3. Sequence Analyis__\n",
    "\n",
    "Write a function that calculates the percentage of As,Cs,Ts,Gs from its input DNA sequence (Hint: The **count()** method of strings will be very useful!). Run it on the below DNA sequences:\n",
    "\n",
    "    ACGT\n",
    "    AAACGGGT\n",
    "    ACCCCCCCCCG\n",
    "    AAAAAAAAAAA\n",
    "    GAGNNNNNNNNA\n",
    "    AccgAcAcGGAa\n",
    "    CTgTggTGGT\n",
    "    zzfsafsdgs\n",
    "\n",
    "\n",
    "__4. Sequence Annotation__\n",
    "\n",
    "Write a function that takes a sequence of DNA, and returns a fasta-formatted string. The sequence of the fasta string should all be capitalized, and the name of the sequence should be the percentage of the sequence that is G or C. For example, \n",
    "\n",
    "    AcgT\n",
    "\n",
    "should be outputted as\n",
    "\n",
    "    >.50GC\n",
    "    ACGT\n",
    "\n",
    "__5. Reverse Complement__\n",
    "\n",
    "Write a function that takes a sequence of DNA, and returns the reverse complement of the given DNA sequence. Hint - the string **replace()** method will prove very useful!\n",
    "\n",
    "__6. Putting it all together__\n",
    "\n",
    "Using all the functions you have written, write a 'master' function which takes a sequence of DNA as input, as returns a fasta sequence containing both the inputted sequence and its reverse complement, with the GC content in the '>' name fields\n",
    "\n"
   ]
  },
  {
   "cell_type": "code",
   "execution_count": null,
   "metadata": {
    "collapsed": true
   },
   "outputs": [],
   "source": []
  }
 ],
 "metadata": {
  "celltoolbar": "Raw Cell Format",
  "kernelspec": {
   "display_name": "Python 2",
   "language": "python",
   "name": "python2"
  },
  "language_info": {
   "codemirror_mode": {
    "name": "ipython",
    "version": 2
   },
   "file_extension": ".py",
   "mimetype": "text/x-python",
   "name": "python",
   "nbconvert_exporter": "python",
   "pygments_lexer": "ipython2",
   "version": "2.7.14"
  }
 },
 "nbformat": 4,
 "nbformat_minor": 1
}
