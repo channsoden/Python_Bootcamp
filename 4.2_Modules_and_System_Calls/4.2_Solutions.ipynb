{
 "cells": [
  {
   "cell_type": "markdown",
   "metadata": {},
   "source": [
    "__1) Math Overload__\n",
    "\n",
    "Use the **math** module to compute the following:\n",
    "\n",
    "* $4^8$\n",
    "* $log_{10}(3)$\n",
    "* $e^3$\n",
    "* $cos(\\pi)$\n",
    "* $ln(e^3)$"
   ]
  },
  {
   "cell_type": "code",
   "execution_count": 2,
   "metadata": {},
   "outputs": [
    {
     "name": "stdout",
     "output_type": "stream",
     "text": [
      "65536.0\n",
      "0.47712125472\n",
      "20.0855369232\n",
      "-1.0\n",
      "3.0\n"
     ]
    }
   ],
   "source": [
    "import math\n",
    "\n",
    "print math.pow(4,8)\n",
    "print math.log10(3)\n",
    "print math.exp(3)\n",
    "print math.cos(math.pi)\n",
    "##math.log uses e as default base\n",
    "print math.log(math.exp(3))"
   ]
  },
  {
   "cell_type": "markdown",
   "metadata": {},
   "source": [
    "__2. Making Directories__\n",
    "\n",
    "Bioinformatics projects require an organized system of files and directories. Work using the **subprocess** module to create a mock file system. Use the subprocess module to do the following (all within a Jupyter Notebook)\n",
    "\n",
    "* (A) Create a *Mock_Project* directory within your /2017_Winter_Python/4.2_Modules_Numpy_Scipy folder\n",
    "* (B) Create *data*, *processed_data*, *scripts*, and *plots* directories.\n",
    "* (C) Print a list of the files in the *Mock_Project* directory\n",
    "* (D) Save the list of all files in the Mock_Project directory to a file called 'directory.txt'"
   ]
  },
  {
   "cell_type": "code",
   "execution_count": 1,
   "metadata": {},
   "outputs": [
    {
     "data": {
      "text/plain": [
       "''"
      ]
     },
     "execution_count": 1,
     "metadata": {},
     "output_type": "execute_result"
    }
   ],
   "source": [
    "##(A)\n",
    "import subprocess as sp\n",
    "sp.check_output('mkdir Mock_Project', shell=True)"
   ]
  },
  {
   "cell_type": "code",
   "execution_count": 2,
   "metadata": {},
   "outputs": [
    {
     "data": {
      "text/plain": [
       "''"
      ]
     },
     "execution_count": 2,
     "metadata": {},
     "output_type": "execute_result"
    }
   ],
   "source": [
    "##(B)\n",
    "sp.check_output('mkdir Mock_Project/data', shell=True)\n",
    "sp.check_output('mkdir Mock_Project/processed_data', shell=True)\n",
    "sp.check_output('mkdir Mock_Project/scripts', shell=True)\n",
    "sp.check_output('mkdir Mock_Project/plots', shell=True)"
   ]
  },
  {
   "cell_type": "code",
   "execution_count": 3,
   "metadata": {},
   "outputs": [
    {
     "name": "stdout",
     "output_type": "stream",
     "text": [
      "data\n",
      "plots\n",
      "processed_data\n",
      "scripts\n",
      "\n"
     ]
    }
   ],
   "source": [
    "##(C)\n",
    "out = sp.check_output('ls Mock_Project', shell=True)\n",
    "print out"
   ]
  },
  {
   "cell_type": "code",
   "execution_count": 5,
   "metadata": {},
   "outputs": [
    {
     "data": {
      "text/plain": [
       "''"
      ]
     },
     "execution_count": 5,
     "metadata": {},
     "output_type": "execute_result"
    }
   ],
   "source": [
    "##(D)\n",
    "sp.check_output('ls Mock_Project > Mock_Project/directory.txt',\n",
    "                shell=True)"
   ]
  },
  {
   "cell_type": "markdown",
   "metadata": {},
   "source": [
    "__3. BLAST a Fasta File__\n",
    "\n",
    "Write a function that takes the name of a fasta file as input, and prints the results of a BLAST search of every sequence in the file. Use the __blastn__ option __-outfmt 6__ to give the output in summary tabular form. Test this function with the file *test.fasta* in this directory.\n",
    "\n",
    "Feel free to modify BLAST code from the above lecture, and to re-use your Fasta parser from this morning's solutions. Bonus: Allow an option to save the output to a file."
   ]
  },
  {
   "cell_type": "code",
   "execution_count": 17,
   "metadata": {},
   "outputs": [
    {
     "name": "stdout",
     "output_type": "stream",
     "text": [
      "{'test1': None, 'test3': None, 'test2': None}\n",
      "{'test1': 'Query_1\\tgi|6321039|ref|NC_001138.1|\\t100.00\\t80\\t0\\t0\\t1\\t80\\t255037\\t254958\\t1e-36\\t148\\n', 'test3': 'Query_1\\tgi|6321039|ref|NC_001138.1|\\t100.00\\t80\\t0\\t0\\t1\\t80\\t254877\\t254798\\t1e-36\\t148\\n', 'test2': 'Query_1\\tgi|6321039|ref|NC_001138.1|\\t100.00\\t80\\t0\\t0\\t1\\t80\\t254957\\t254878\\t1e-36\\t148\\n'}\n"
     ]
    }
   ],
   "source": [
    "#%%writefile python_blast.py\n",
    "import subprocess as sp\n",
    "\n",
    "#Use our old fasta parser\n",
    "def parse_fasta(infile):\n",
    "    fh = open(infile, 'r')\n",
    "\n",
    "    genes = {}\n",
    "\n",
    "    # Appending to a list is much, much faster than\n",
    "    # concatenating strings.\n",
    "    for line in fh:\n",
    "        line = line.strip()\n",
    "        if line.startswith('>'):\n",
    "            ID = line[1:]\n",
    "            genes[ID] = []\n",
    "        else:\n",
    "            genes[ID].append(line)\n",
    "            \n",
    "    # Turn the dictionary of lists into a dictionary of\n",
    "    # strings with the join method.\n",
    "    for gene in genes:\n",
    "        genes[gene] = ''.join(genes[gene])\n",
    "    \n",
    "    return genes\n",
    "        \n",
    "# This will blast a specific sequence. If no outfh is given it will\n",
    "# return the output, otherwise, will write it to outfh.\n",
    "def blastn(querySeq, outfh = None):\n",
    "    # Make the input file\n",
    "    fh = open('query.seq', 'w')\n",
    "    fh.write(querySeq)\n",
    "    fh.close()\n",
    "    \n",
    "    command = 'blastn -db yeast_genome -query query.seq -outfmt 6'\n",
    "    out = sp.check_output(command, shell=True)\n",
    "    \n",
    "    if outfh:\n",
    "        # Write the output to the given filehandle\n",
    "        outfh.write(out)\n",
    "        return None\n",
    "    else:\n",
    "        # Simply return the output\n",
    "        return out\n",
    "\n",
    "# This wrapper function calls the parser\n",
    "# and blasts all sequences to the db.\n",
    "def blast_fasta(fasta_file, output_file = None):\n",
    "    fasta_dict = parse_fasta(fasta_file)\n",
    "    \n",
    "    if output_file:\n",
    "        outfh = open(output_file, 'w')\n",
    "    else:\n",
    "        # We will still need something to pass blastn,\n",
    "        # but that something can be Nothing.\n",
    "        outfh = None\n",
    "    \n",
    "    results = {name: blastn(seq, outfh)\n",
    "               for name, seq in fasta_dict.items()}\n",
    "    # Or, equivalently:\n",
    "    #results = {}\n",
    "    #for name, seq in fasta_dict.items():\n",
    "    #    results[name] = blastn(seq, outfh)\n",
    "\n",
    "    if outfh:\n",
    "        outfh.close()\n",
    "    \n",
    "    return results\n",
    "\n",
    "if __name__ == '__main__':\n",
    "    # This special line makes the following code not run when imported.\n",
    "    print blast_fasta('test.fasta', output_file = 'test_blastn.txt')\n",
    "    print blast_fasta('test.fasta')"
   ]
  },
  {
   "cell_type": "markdown",
   "metadata": {},
   "source": [
    "__4. Your own BLAST module__\n",
    "\n",
    "Turn the code you wrote above into your own BLAST module, which should include functions to BLAST a specific sequence, as well as to BLAST all sequences in a given Fasta file.\n",
    "\n",
    "Save these funcitons to a file, and add the folder you saved your module in to your PYTHONPATH by modifying your **~/.bashrc** file.\n",
    "\n",
    "Finally, try importing and using your new Python BLAST module."
   ]
  },
  {
   "cell_type": "code",
   "execution_count": 16,
   "metadata": {},
   "outputs": [
    {
     "name": "stdout",
     "output_type": "stream",
     "text": [
      "{'test1': 'Query_1\\tgi|6321039|ref|NC_001138.1|\\t100.00\\t80\\t0\\t0\\t1\\t80\\t255037\\t254958\\t1e-36\\t148\\n', 'test3': 'Query_1\\tgi|6321039|ref|NC_001138.1|\\t100.00\\t80\\t0\\t0\\t1\\t80\\t254877\\t254798\\t1e-36\\t148\\n', 'test2': 'Query_1\\tgi|6321039|ref|NC_001138.1|\\t100.00\\t80\\t0\\t0\\t1\\t80\\t254957\\t254878\\t1e-36\\t148\\n'}\n"
     ]
    }
   ],
   "source": [
    "# You should have saved the module from above as something\n",
    "# (e.g. python_blast.py) in some directory (e.g.\n",
    "# ~/Dropbox/2018_winter_python/my_modules). Next, you should have added\n",
    "# that directory to your PYTHONPATH by adding:\n",
    "#\n",
    "# PYTHONPATH=$PYTHONPATH:~/Dropbox/2018_winter_python/my_modules\n",
    "# export PYTHONPATH\n",
    "#\n",
    "# or similar to your ~/.bashrc file.\n",
    "#\n",
    "# If you have done that correctly, the following should work:\n",
    "import python_blast\n",
    "\n",
    "print python_blast.blast_fasta('test.fasta')"
   ]
  },
  {
   "cell_type": "code",
   "execution_count": null,
   "metadata": {
    "collapsed": true
   },
   "outputs": [],
   "source": []
  }
 ],
 "metadata": {
  "kernelspec": {
   "display_name": "Python 2",
   "language": "python",
   "name": "python2"
  },
  "language_info": {
   "codemirror_mode": {
    "name": "ipython",
    "version": 2
   },
   "file_extension": ".py",
   "mimetype": "text/x-python",
   "name": "python",
   "nbconvert_exporter": "python",
   "pygments_lexer": "ipython2",
   "version": "2.7.14"
  }
 },
 "nbformat": 4,
 "nbformat_minor": 1
}
