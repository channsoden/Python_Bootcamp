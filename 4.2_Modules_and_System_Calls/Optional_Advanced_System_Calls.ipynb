{
 "cells": [
  {
   "cell_type": "markdown",
   "metadata": {},
   "source": [
    "# Advanced System Calls with Popen\n",
    "\n",
    "This section is an old lecture which teaches system calls using the __subprocess.Popen__ class. Making system calls with __subprocess.check_output()__ is far simpler, and so we have opted to teach the __check_output()__ function instead. However, this function is simply a wrapper around the (much more versitile) __Popen__ class. We are leaving this supplementary lecture here for any students who are ready for a look under the hood. While we don't get into it explicitly, in this lecture you will start to see the object-oriented aspect of Python.\n",
    "\n",
    "## subprocess.Popen\n",
    "The core of the subprocess module is the **Popen** class, which is a running child process object."
   ]
  },
  {
   "cell_type": "code",
   "execution_count": 3,
   "metadata": {},
   "outputs": [
    {
     "name": "stdout",
     "output_type": "stream",
     "text": [
      "<subprocess.Popen object at 0x7f5dd82a8290>\n",
      "process finished with return code 0\n"
     ]
    }
   ],
   "source": [
    "import subprocess as sp\n",
    " \n",
    "child = sp.Popen(['ls', '-l'])\n",
    "returncode = child.wait()\n",
    "\n",
    "print child\n",
    "print 'process finished with return code', returncode"
   ]
  },
  {
   "cell_type": "markdown",
   "metadata": {},
   "source": [
    "Here, we used Popen to run the command **ls -l**. But we don't see the output. That's because the Jupyter notebook only displays the output from the Python interpreter process, not the output of it's child processes. If you copy and paste this code into a python script and run it from a terminal you will see the output of the **ls** command written to your terminal, all jumbled up with the output from the Python interpreter.\n",
    "\n",
    "You'll notice that **Popen** takes one mandatory argument, a list of command line arguments that would be separated by spaces spaces on the terminal. So **ls -a -1 /home/james** becomes **['ls', '-a', '-1', '/home/james']**.\n",
    "\n",
    "### *Popen.*wait()\n",
    "The **wait()** method of the **Popen** object tells the system to wait until this subprocess has completed before continuing. After the subprocess finishes, **wait()** also returns the return code of the program, which is 0 if the program completed without error, and any other number (usually 1) if it closed with an error.\n",
    "\n",
    "**wait()** has two very imortant uses. First, you may need to wait for the output of the subprocess before your next step. Try this code:"
   ]
  },
  {
   "cell_type": "code",
   "execution_count": null,
   "metadata": {
    "collapsed": true
   },
   "outputs": [],
   "source": [
    "import subprocess as sp\n",
    "\n",
    "# touch updates the timestamp of a file,\n",
    "# or, if the file doesn't exist, creates it.\n",
    "child = sp.Popen(['touch', 'testfile'])\n",
    "child.wait()\n",
    "fh = open('testfile', 'r')\n",
    "fh.read()\n",
    "fh.close()    "
   ]
  },
  {
   "cell_type": "markdown",
   "metadata": {},
   "source": [
    "Now run it again.\n",
    "\n",
    "You'll notice that the first time it gave you an error message because 'testfile' did not exist yet, even though you had just started the subprocess to create it. The second time 'testfile' already exists and you don't get an error.\n",
    "\n",
    "Use this code to remove 'testfile' and try it again:"
   ]
  },
  {
   "cell_type": "code",
   "execution_count": null,
   "metadata": {
    "collapsed": true
   },
   "outputs": [],
   "source": [
    "child = sp.Popen(['rm', 'testfile'])"
   ]
  },
  {
   "cell_type": "markdown",
   "metadata": {},
   "source": [
    "The second important use for **wait()** is to prevent your script from hogging all of your system resources. If you start running a ton of subprocesses at once it can prevent you from doing anything else, be rude to other users on the server, and is also sometimes less efficient then letting one command run to completion before starting the next.\n",
    "\n",
    "## Capturing Output\n",
    "The above example might be useful for running gzip or Tophat or some other program that creates it's own output files, but what if we want to store the output of a program like **ls** that writes to standard out? We could tell the Popen object to write the output to a file, or we could capture it in a *pipe*.\n",
    "\n",
    "Let's test how to do this by asking Python to do something very meta: run another Python script! Here's the script we will be running, which should be saved in your 5.2 directory as 'test_output.py'."
   ]
  },
  {
   "cell_type": "code",
   "execution_count": 6,
   "metadata": {},
   "outputs": [
    {
     "name": "stdout",
     "output_type": "stream",
     "text": [
      "Overwriting test_output.py\n"
     ]
    }
   ],
   "source": [
    "%%writefile test_output.py\n",
    "#!/usr/bin/env python\n",
    "import sys\n",
    "sys.stdout.write('this is standard output')\n",
    "sys.stderr.write('this is standard error')"
   ]
  },
  {
   "cell_type": "markdown",
   "metadata": {},
   "source": [
    "### Redirecting Output to Filehandles\n",
    "To redirect the output from a Popen object to a file, pass **Popen** a filehandle like so:"
   ]
  },
  {
   "cell_type": "code",
   "execution_count": null,
   "metadata": {
    "collapsed": true
   },
   "outputs": [],
   "source": [
    "import subprocess as sp\n",
    "\n",
    "# open files to print to\n",
    "outfh = open('out.txt', 'w')\n",
    "errfh = open('err.txt', 'w')\n",
    "\n",
    "process = sp.Popen(['python', 'test_output.py'], stdout=outfh, stderr=errfh)\n",
    "process.wait()\n",
    "\n",
    "outfh.close()\n",
    "errfh.close()"
   ]
  },
  {
   "cell_type": "markdown",
   "metadata": {},
   "source": [
    "Check 'out.txt' and 'err.txt' to make sure the two outputs went where you expected them.\n",
    "\n",
    "### *subprocess.*PIPE\n",
    "But we often want to do something with the output of a program, either parsing it and reformating it, continuing the analysis in Python, or turning it into a figure. To do this, we will *pipe* the output directly into Python's memory.\n",
    "\n",
    "A *pipe* is used to send the output of one program into the input of another. You have already used them on the Unix command line with the **|** character. For example: **ls -1 | grep '.fastq' | wc -l** will count the number of files containing '.fastq' in the current directory.\n",
    "\n",
    "Of course, the syntax is different in Python. . ."
   ]
  },
  {
   "cell_type": "code",
   "execution_count": 4,
   "metadata": {},
   "outputs": [
    {
     "name": "stdout",
     "output_type": "stream",
     "text": [
      "communicate() returned a tuple of two strings.\n",
      "------------------------\n",
      "The first string is the stdout:\n",
      "this is a test\n",
      "\n",
      "------------------------\n",
      "The second string is the stderr:\n",
      "\n",
      "------------------------\n",
      "\n",
      "And here's stdout converted into a nice Python list:\n",
      "['this', 'is', 'a', 'test']\n"
     ]
    }
   ],
   "source": [
    "import subprocess as sp\n",
    " \n",
    "child = sp.Popen(['python', 'test_output.py'], stdout=sp.PIPE, stderr=sp.PIPE)\n",
    "\n",
    "# we use the communicate() method to get both the stdout and the stderr\n",
    "output, error = child.communicate()\n",
    "\n",
    "print \"communicate() returned a tuple of two strings.\"\n",
    "\n",
    "print \"------------------------\"\n",
    "print \"The first string is the stdout:\"\n",
    "print output\n",
    "\n",
    "print \"------------------------\"\n",
    "\n",
    "print \"The second string is the stderr:\"\n",
    "print error\n",
    "print \"------------------------\"\n",
    "print\n",
    "\n",
    "# And it is easy to convert the output into a friendlier structure\n",
    "output = output.strip().split()\n",
    "print \"And here's stdout converted into a nice Python list:\"\n",
    "print output"
   ]
  },
  {
   "cell_type": "markdown",
   "metadata": {},
   "source": [
    "The **communicate()** method does several things. First, it waits for the process to complete, similar to **wait()**. Next it returns both output streams as a two item tuple. If we were to write **communicate()** as a function it would look a little like this:"
   ]
  },
  {
   "cell_type": "code",
   "execution_count": null,
   "metadata": {
    "collapsed": true
   },
   "outputs": [],
   "source": [
    "def communicate(self):\n",
    "    self.wait()\n",
    "    out = self.stdout.read()\n",
    "    err = self.stderr.read()\n",
    "    return out, err\n",
    "\n",
    "proc = sp.Popen(['python', 'test_output.py'], stdout=sp.PIPE, stderr=sp.PIPE)\n",
    "print communicate(proc)"
   ]
  },
  {
   "cell_type": "markdown",
   "metadata": {},
   "source": [
    "However, Popen's **communicate()** is a bit smarter than this. *Pipes* are an input/output buffer with a limited size. The fill up with data when they are written to, and then they are emptied of data when they are read from, kind of like, you know, actual pipes. **wait()** can therefore *block*, waiting for the pipe to be emptied before the program can continue. Imagine flushing the toilet if the other end wasn't draining - you would get an overflow - and that's exactly what can happen here.\n",
    "\n",
    "### Piping input with **communicate()**\n",
    "**communicate()** can also be used to pass input into a program."
   ]
  },
  {
   "cell_type": "code",
   "execution_count": null,
   "metadata": {
    "collapsed": true
   },
   "outputs": [],
   "source": [
    "shakes = \"\"\"'Double, double toil and trouble;\n",
    "    Fire burn, and caldron bubble.\n",
    "    Fillet of a fenny snake,\n",
    "    In the caldron boil and bake;\n",
    "    Eye of newt, and toe of frog,\n",
    "    Wool of bat, and tongue of dog,\n",
    "    Adder's fork, and blind-worm's sting,\n",
    "    Lizard's leg, and owlet's wing,—\n",
    "    For a charm of powerful trouble,\n",
    "    Like a hell-broth boil and bubble.\n",
    "    Double, double toil and trouble;\n",
    "    Fire burn, and caldron bubble.\"\"\"\n",
    "\n",
    "# count the lines, words, and characters in this passage\n",
    "proc = sp.Popen(['wc', '-l'], stdout=sp.PIPE, stderr=sp.PIPE, stdin=sp.PIPE)\n",
    "print proc.communicate(input=shakes)"
   ]
  },
  {
   "cell_type": "code",
   "execution_count": null,
   "metadata": {
    "collapsed": true
   },
   "outputs": [],
   "source": [
    "# Find the path of the users home directory.\n",
    "env = sp.Popen(['env'], stdout=sp.PIPE)\n",
    "grep = sp.Popen(['grep', 'HOME='], stdin=env.stdout, stdout=sp.PIPE)\n",
    "out, err = grep.communicate()\n",
    "\n",
    "home = out.split('=')[1]\n",
    "print home"
   ]
  },
  {
   "cell_type": "markdown",
   "metadata": {},
   "source": [
    "## BLAST\n",
    "Good ol'e Basic Local Alignment Search Tool, now that's bioinformatics even Grandma can get down with. In its most basic form, BLAST takes a short sequence of either amino acids or nucleotides, searches a database of reference sequences, and returns the most likely matches for the query sequence. It's brilliant, and the only trouble is that we're often interested in BLASTing hella query sequences, and much less interested in the mundanity of parsing the output that comes back to us. Fortunately, we can easily script the execution of BLAST such that we can run queries many times with different sequences and settings, and also parse the output back into dictionaries to manipulate and even store longterm on the disk.\n",
    "\n",
    "The first part of this section will show us how to install a new program in our UNIX environment, and the second part will let us practice using **Popen** to script the execution of BLAST.\n",
    "\n",
    "### Installing BLAST\n",
    "I suspect most everyone here is accustomed to using the NCBI BLAST web interface, but it's just another program, whether it's running on an NCBI web server, or on our laptops. First we will install BLAST locally, such that we have ready access to it from anywhere on our computers.\n",
    "\n",
    "In the PythonCourse/ProgramFiles directory, there is a tar.gz file containing the BLAST executable for your platform. The .tar.gz file extension tells us that the file has been archived (the .tar part) and compressed (the .gz part). The UNIX command to uncompress and expand the file is:\n",
    "\n",
    "**tar -zxvf [filename]**\n",
    "\n",
    "And we can tell **tar** where to dump the output with the **-C** option, like so:\n",
    "\n",
    "**tar -zxvf [filename] -C [output directory]**\n",
    "\n",
    "Within the BLAST folder, We've got a ChangeLog file that will tell us what version of BLAST we've got, a doc directory with documentation, a data directory with the various matrices to use for esimating substituion rates, and then the *bin* directory. *bin* stands for binary, and directories named *bin* are conventionally used to store executable binary files. Try typing **which less** on a terminal and you will see that **less**, just like all your terminal commands (**ls**, **mv**, **cat**, etc), is actually an executable binary, probably in a directory like */usr/bin*. \n",
    "\n",
    "### Creating a BLAST Database\n",
    "\n",
    "Okay, now that we have these program available, let's start using them.\n",
    "\n",
    "Since BLAST is going to compare a query sequence to a database of sequences, collected from say, a genome, or a group of genomes, we first need to create the reference database to BLAST against. Many of these are available for download, but we're going to create our own from the S. cerevisiae genome.\n",
    "\n",
    "The yeast genome is available on the NCBI FTP server, though we have included it in your course folder. 'yeastn.nt' is the fasta formated genome, while 'yeast.aa' is the fasta formated collection of all proteins.\n",
    "\n",
    "To make your own local BLAST database, use the** makeblaskdb** program, found within the BLAST folder\n",
    "\n",
    "```bash\n",
    "~/Dropbox/2017_Summer_Python/ProgramFiles/linux/ncbi-blast-2.2.26+/bin/makeblastdb -in yeast.nt -out yeast_genome -dbtype nucl\n",
    "```"
   ]
  },
  {
   "cell_type": "markdown",
   "metadata": {},
   "source": [
    "Now we have a fully operational BLAST installation and a yeast nucleotide database to search against. We can see that BLAST has created some additional files for our yeast database in our working directory (.nhr, .nin, and .nsq).\n",
    "\n",
    "### Running BLAST!\n",
    "\n",
    "Now let's query the database with blastn, piping our query sequence directly into the program."
   ]
  },
  {
   "cell_type": "code",
   "execution_count": null,
   "metadata": {
    "collapsed": true
   },
   "outputs": [],
   "source": [
    "import subprocess as sp\n",
    "\n",
    "testseq = 'TGTTGTATTACGGGCTCGAGTAATACCGGAGTGTCTTGACAATCCTAATATAAA' \\\n",
    "          'CGGTCTTAGGGAAGTAACCAGTTGTCAAAACAGTTTATCAGATTAATTCACGGA' \\\n",
    "          'ATGTTACTTATCTTATATATTATATAAAATATGAtATCATATTAAGTGGTGGAA' \\\n",
    "          'GCGCGGAATCTCGGATCTAAACTAATTGTTCAGGCATTTATACTTTTGGTAGTT' \\\n",
    "          'CAGCTAGGGAAGGACGGGTTTTATCTCATGTTGTTCGTTTTGTTATAAGGTTGT' \\\n",
    "          'TTCATATGTGTTTTATGAACGTTTAGGATGACGTATTGTCATACTGACATATCT' \\\n",
    "          'CATTTTGAGATACAACA'\n",
    "\n",
    "##This has to be set manually.\n",
    "blastBin ='/home/james/Dropbox/2017_Summer_Python/ProgramFiles/linux/ncbi-blast-2.2.26+/bin/' \n",
    "\n",
    "\n",
    "def blastn(querySeq):\n",
    "    program = blastBin + 'blastn'\n",
    "    database = 'yeast_genome'\n",
    "    proc = sp.Popen([program, '-db', database], stdout=sp.PIPE, stderr=sp.PIPE, stdin=sp.PIPE)\n",
    "    out, err = proc.communicate(input=testseq)\n",
    "    return out\n",
    "\n",
    "print blastn(testseq)"
   ]
  },
  {
   "cell_type": "markdown",
   "metadata": {},
   "source": [
    "You can imagine how you would set a list of query sequences, or a series of databases to query against, or even vary some of the BLAST settings (for example, the minimum E-value to report), and run this again. You also might care which species your hit came from (if you were searching against a larger database), or which chromosome hits were on (to determine synteny, e.g.)\n",
    "\n",
    "In this case, we've used the PIPE to capture the output, which might be helpful when we want to systematically sort through the results in each BLAST hit, only storing the results in certain circumstances. However, we can also write the results to an output file instead of the PIPE. Let's try that:"
   ]
  },
  {
   "cell_type": "code",
   "execution_count": null,
   "metadata": {
    "collapsed": true
   },
   "outputs": [],
   "source": [
    "import subprocess as sp\n",
    "\n",
    "testseq = 'ATGGTTCATTTAGGTCCAAAGAAACCACAGGCTAGAAAGGGTTCCATGGCTGATGTGCCCAAGGAATTGATGGATGAAAT' \\\n",
    "        'TCATCAGTTGGAAGATATGTTTACAGTTGACAGCGAGACCTTGAGAAAGGTTGTTAAGCACTTTATCGACGAATTGAATA' \\\n",
    "        'AAGGTTTGACAAAGAAGGGAGGTAACATTCCAATGATTCCCGGTTGGGTCATGGAATTCCCAACAGGTAAAGAATCTGGT' \\\n",
    "        'AACTATTTGGCCATTGATTTGGGTGGTACTAACTTAAGAGTCGTGTTGGTCAAGTTGAGCGGTAACCATACCTTTGACAC' \\\n",
    "        'CACTCAATCCAAGTATAAACTACCACATGACATGAGA'\n",
    "\n",
    "##This has to be set manually.\n",
    "blastBin ='/home/james/Dropbox/2017_Summer_Python/ProgramFiles/linux/ncbi-blast-2.2.26+/bin/' \n",
    "\n",
    "        \n",
    "def blastn(querySeq, outfh):\n",
    "    program = blastBin + 'blastn'\n",
    "    database = 'yeast_genome'\n",
    "    proc = sp.Popen([program, '-db', database], stdout=outfh, stderr=sp.PIPE, stdin=sp.PIPE)\n",
    "    out, err = proc.communicate(input=testseq)\n",
    "    return out\n",
    "\n",
    "fh = open('blastn_output.txt', 'w')\n",
    "blastn(testseq, fh)\n",
    "fh.close()"
   ]
  },
  {
   "cell_type": "markdown",
   "metadata": {},
   "source": [
    "**Windows Note:**\n",
    "\n",
    "On Windows piping the input to blastn doesn't work.  However, you can call it by outputing the sequence to a file, like this:\n",
    "\n",
    "```python\n",
    "with open('seq_test.txt', 'w') as fout:\n",
    "    fout.write(testseq);\n",
    "```\n",
    "\n",
    "And then calling blastn like this instead:\n",
    "\n",
    "```python\n",
    "proc = sp.Popen([program, '-db', database, '-query', 'seq_test.txt'], stdout=outfh)\n",
    "```"
   ]
  }
 ],
 "metadata": {
  "anaconda-cloud": {},
  "kernelspec": {
   "display_name": "Python 3",
   "language": "python",
   "name": "python3"
  },
  "language_info": {
   "codemirror_mode": {
    "name": "ipython",
    "version": 3
   },
   "file_extension": ".py",
   "mimetype": "text/x-python",
   "name": "python",
   "nbconvert_exporter": "python",
   "pygments_lexer": "ipython3",
   "version": "3.6.3"
  }
 },
 "nbformat": 4,
 "nbformat_minor": 1
}
