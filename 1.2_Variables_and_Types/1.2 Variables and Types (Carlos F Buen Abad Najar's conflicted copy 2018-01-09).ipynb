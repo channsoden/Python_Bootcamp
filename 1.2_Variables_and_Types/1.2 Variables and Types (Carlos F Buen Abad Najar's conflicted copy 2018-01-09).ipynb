{
 "cells": [
  {
   "cell_type": "markdown",
   "metadata": {
    "collapsed": true
   },
   "source": [
    "# Variables and Types\n",
    "\n",
    "## Topics:\n",
    "\n",
    "* Variables: integers, floating-point numbers (decimal), strings (text)\n",
    "* Strings: quotes, single double and triple!\n",
    "* Numerical operations\n",
    "* Coercion\n",
    "* Strings: indexing, special characters, formatting, input\n",
    "\n",
    "## Introduction:\n",
    "\n",
    "This morning you wrote your first Python program - \"Hello, world!\". Let's review what we did then:"
   ]
  },
  {
   "cell_type": "code",
   "execution_count": null,
   "metadata": {},
   "outputs": [],
   "source": [
    "print 'hello world'"
   ]
  },
  {
   "cell_type": "markdown",
   "metadata": {},
   "source": [
    "This bit of code tells python to use the print function to ouput the string 'hello world'. Of course, you can print a variety of data types in python: strings like what we just did, integers, floats, etc."
   ]
  },
  {
   "cell_type": "code",
   "execution_count": null,
   "metadata": {},
   "outputs": [],
   "source": [
    "print 'hello world'\n",
    "print type('hello world')"
   ]
  },
  {
   "cell_type": "code",
   "execution_count": null,
   "metadata": {},
   "outputs": [],
   "source": [
    "print 1\n",
    "print type(1)"
   ]
  },
  {
   "cell_type": "code",
   "execution_count": null,
   "metadata": {},
   "outputs": [],
   "source": [
    "print 1.0\n",
    "print type(1.0)"
   ]
  },
  {
   "cell_type": "markdown",
   "metadata": {},
   "source": [
    "Here we see 3 different types of data:\n",
    "* strings are indicated by quotation marks, regardless of what's inside the quotations\n",
    "* integers are indicated by numbers with no decimals\n",
    "* floats are indicated by numbers with decimals (we'll go over the importance soon)\n",
    "\n",
    "What happens if we put a number in quotation marks and if we forget to add quotation marks around strings?"
   ]
  },
  {
   "cell_type": "code",
   "execution_count": null,
   "metadata": {},
   "outputs": [],
   "source": [
    "print '1'\n",
    "print type('1')"
   ]
  },
  {
   "cell_type": "code",
   "execution_count": null,
   "metadata": {},
   "outputs": [],
   "source": [
    "print hello world"
   ]
  },
  {
   "cell_type": "markdown",
   "metadata": {},
   "source": [
    "The integer, 1, becomes a string and the string 'hello world' yields an error."
   ]
  },
  {
   "cell_type": "markdown",
   "metadata": {},
   "source": [
    "## A bit more about strings\n",
    "You can use either single quotes or double quotes for strings, but only on a single line. If you want to write multiple lines for strings, you have to use 3 single quotes or 3 double quotes to start and end the string"
   ]
  },
  {
   "cell_type": "code",
   "execution_count": null,
   "metadata": {},
   "outputs": [],
   "source": [
    "print '''This is how you \n",
    "         quote multiple lines'''"
   ]
  },
  {
   "cell_type": "code",
   "execution_count": null,
   "metadata": {},
   "outputs": [],
   "source": [
    "print 'this is not \n",
    "        going to work'"
   ]
  },
  {
   "cell_type": "markdown",
   "metadata": {},
   "source": [
    "## Assigning Variables\n",
    "Variables are simply representations of the data that you want to work with--Just like how we understand the letters in the equation F = ma to be representations of numbers corresponding to force, mass, and acceleration. To create a variable, you write out your variable name, an \"=\" sign, then what you want it to represent."
   ]
  },
  {
   "cell_type": "code",
   "execution_count": null,
   "metadata": {},
   "outputs": [],
   "source": [
    "gradStudent = 'Me'\n",
    "\n",
    "print gradStudent\n",
    "print type(gradStudent)"
   ]
  },
  {
   "cell_type": "code",
   "execution_count": null,
   "metadata": {},
   "outputs": [],
   "source": [
    "age = 22\n",
    "\n",
    "print age\n",
    "print type(age)\n",
    "\n",
    "print \"I'm not actually 22, but could you imagine though?\""
   ]
  },
  {
   "cell_type": "code",
   "execution_count": null,
   "metadata": {},
   "outputs": [],
   "source": [
    "grandeCoffee = 2.45\n",
    "\n",
    "print grandeCoffee\n",
    "print type(grandeCoffee)"
   ]
  },
  {
   "cell_type": "markdown",
   "metadata": {},
   "source": [
    "Like in math, it's easy to use variables to keep track of values instead of having numbers all over the place"
   ]
  },
  {
   "cell_type": "code",
   "execution_count": null,
   "metadata": {},
   "outputs": [],
   "source": [
    "mass         = 237.0\n",
    "acceleration = 9.81\n",
    "force = mass*acceleration\n",
    "\n",
    "print force"
   ]
  },
  {
   "cell_type": "markdown",
   "metadata": {},
   "source": [
    "The result of an operation can be set to a variable. In the simple, above case, the variable \"force\" is defined by the operation mass times acceleration."
   ]
  },
  {
   "cell_type": "markdown",
   "metadata": {},
   "source": [
    "## Numerical operations on Strings\n",
    "You can perform basic numerical operations (addition multiplication) on strings and the outcome is a visual representation of the math!"
   ]
  },
  {
   "cell_type": "code",
   "execution_count": null,
   "metadata": {},
   "outputs": [],
   "source": [
    "stringA = 'aca'\n",
    "stringB = 'bdb'\n",
    "\n",
    "print stringA\n",
    "print stringB"
   ]
  },
  {
   "cell_type": "code",
   "execution_count": null,
   "metadata": {},
   "outputs": [],
   "source": [
    "print 'stringA + stringB is'\n",
    "print stringA + stringB"
   ]
  },
  {
   "cell_type": "code",
   "execution_count": null,
   "metadata": {},
   "outputs": [],
   "source": [
    "print 'stringA times 3 is'\n",
    "print stringA * 3\n",
    "#print stringA * 3.0\n",
    "\n",
    "# by the way, lines starting with the pound sign (#)\n",
    "# makes them comments, ignored by the interpreter"
   ]
  },
  {
   "cell_type": "markdown",
   "metadata": {},
   "source": [
    "As we see here, adding strings basically concatenate them together and multplying strings by an integer (it doesn't work with floats) will yield the same string repeated over and over again.\n",
    "\n",
    "Also, note the # sign, which indicates lines that are ignored by python. As you write your own code, it's good practice to use commented lines to describe what bits of code do and how they do it."
   ]
  },
  {
   "cell_type": "markdown",
   "metadata": {},
   "source": [
    "## Numerical operations on Integers\n",
    "Math with integers works the same way all non-decimal math is done. All integer arithmetic will yield integer results if only integers are used."
   ]
  },
  {
   "cell_type": "code",
   "execution_count": null,
   "metadata": {
    "collapsed": true
   },
   "outputs": [],
   "source": [
    "myMoney   = 23 # in dollars\n",
    "yourMoney = 31\n",
    "pizzaCost = 5"
   ]
  },
  {
   "cell_type": "code",
   "execution_count": null,
   "metadata": {},
   "outputs": [],
   "source": [
    "print 'How much do we have if we pooled our money together?'\n",
    "print myMoney + yourMoney"
   ]
  },
  {
   "cell_type": "code",
   "execution_count": null,
   "metadata": {},
   "outputs": [],
   "source": [
    "print 'How much more money do you have than I do?'\n",
    "print yourMoney - myMoney"
   ]
  },
  {
   "cell_type": "code",
   "execution_count": null,
   "metadata": {},
   "outputs": [],
   "source": [
    "print 'How much do you have if you double your money?'\n",
    "print yourMoney*2"
   ]
  },
  {
   "cell_type": "markdown",
   "metadata": {},
   "source": [
    "Multiplication is indicated with an asterisk \"*\""
   ]
  },
  {
   "cell_type": "code",
   "execution_count": null,
   "metadata": {},
   "outputs": [],
   "source": [
    "print 'What if you square it?'\n",
    "print yourMoney**2"
   ]
  },
  {
   "cell_type": "markdown",
   "metadata": {},
   "source": [
    "And doing exponents requires two asterisks \"**\""
   ]
  },
  {
   "cell_type": "code",
   "execution_count": null,
   "metadata": {},
   "outputs": [],
   "source": [
    "print 'How many pizzas can I buy?'\n",
    "print myMoney/pizzaCost"
   ]
  },
  {
   "cell_type": "markdown",
   "metadata": {},
   "source": [
    "2 things to note here. Division is indicated by a slash \"/\" sign. Also, notice that 23/5 does NOT yield a decimal value? Integer division will yield only the integer portion of the quotient."
   ]
  },
  {
   "cell_type": "code",
   "execution_count": null,
   "metadata": {},
   "outputs": [],
   "source": [
    "print 'How much money do I have left over after buying 4 pizzas?'\n",
    "print myMoney%pizzaCost"
   ]
  },
  {
   "cell_type": "markdown",
   "metadata": {},
   "source": [
    "However, you can get the remainder of a division by using the percent \"%\" sign instead of the division sign"
   ]
  },
  {
   "cell_type": "markdown",
   "metadata": {},
   "source": [
    "## Numerical operations on Floats\n",
    "All float math is the same as integer math, so I'll discuss additional features that doing float math has."
   ]
  },
  {
   "cell_type": "code",
   "execution_count": null,
   "metadata": {
    "collapsed": true
   },
   "outputs": [],
   "source": [
    "temperature = 23.1 # celsius"
   ]
  },
  {
   "cell_type": "code",
   "execution_count": null,
   "metadata": {},
   "outputs": [],
   "source": [
    "print temperature*2\n",
    "print type(temperature*2)"
   ]
  },
  {
   "cell_type": "code",
   "execution_count": null,
   "metadata": {},
   "outputs": [],
   "source": [
    "print temperature + 0.9\n",
    "print type(temperature + 0.9)"
   ]
  },
  {
   "cell_type": "markdown",
   "metadata": {},
   "source": [
    "When you do math with a float, the resulting number will also be a float"
   ]
  },
  {
   "cell_type": "markdown",
   "metadata": {},
   "source": [
    "## Coercion\n",
    "You can force number types to become another type using the int(), float(), and str() functions"
   ]
  },
  {
   "cell_type": "code",
   "execution_count": null,
   "metadata": {},
   "outputs": [],
   "source": [
    "# You can print multiple things separating them by a comma\n",
    "print type(1), type(float(1)), type(str(1))"
   ]
  },
  {
   "cell_type": "code",
   "execution_count": null,
   "metadata": {},
   "outputs": [],
   "source": [
    "print type(1.), type(int(1.)), type(str(1.))"
   ]
  },
  {
   "cell_type": "markdown",
   "metadata": {},
   "source": [
    "int() forces values to be an integer. Floats will be rounded down to the nearest integer.\n",
    "float() forces values to become a float\n",
    "str() forces values to become a string"
   ]
  },
  {
   "cell_type": "markdown",
   "metadata": {},
   "source": [
    "## Back to strings: indexing, special characters, formatting, and inputs"
   ]
  },
  {
   "cell_type": "markdown",
   "metadata": {},
   "source": [
    "## Indexing\n",
    "Python has this thing called \"indexing\" whereby you can pull specific parts of strings or lists (to be discussed in future lectures)."
   ]
  },
  {
   "cell_type": "code",
   "execution_count": null,
   "metadata": {
    "collapsed": true
   },
   "outputs": [],
   "source": [
    "someString = 'abcdefghij'"
   ]
  },
  {
   "cell_type": "code",
   "execution_count": null,
   "metadata": {},
   "outputs": [],
   "source": [
    "print someString[0]"
   ]
  },
  {
   "cell_type": "markdown",
   "metadata": {},
   "source": [
    "We index by adding square brackets \"[]\" right after a string. Python indexing starts with 0 instead of 1. Since we wanted the first letter of the string, we use [0] as our index."
   ]
  },
  {
   "cell_type": "code",
   "execution_count": null,
   "metadata": {},
   "outputs": [],
   "source": [
    "print 'what are the other letters of someString?'\n",
    "\n",
    "print someString[1]\n",
    "print someString[2]\n",
    "print someString[3]\n",
    "print someString[4]\n",
    "print someString[5]\n",
    "print someString[6]\n",
    "print someString[7]\n",
    "print someString[8]\n",
    "print someString[9]"
   ]
  },
  {
   "cell_type": "markdown",
   "metadata": {},
   "source": [
    "You can also store these as variables!"
   ]
  },
  {
   "cell_type": "code",
   "execution_count": null,
   "metadata": {},
   "outputs": [],
   "source": [
    "var1 = someString[1]\n",
    "var2 = someString[2]\n",
    "var3 = someString[3]\n",
    "\n",
    "print var1\n",
    "print var2\n",
    "print var3\n",
    "\n",
    "print var1 + var3 + var2"
   ]
  },
  {
   "cell_type": "code",
   "execution_count": null,
   "metadata": {},
   "outputs": [],
   "source": [
    "print 'What if we use an index larger than the length of the string?'\n",
    "print someString[20]"
   ]
  },
  {
   "cell_type": "code",
   "execution_count": null,
   "metadata": {},
   "outputs": [],
   "source": [
    "print 'What if we use negative values?'\n",
    "print someString[-2]"
   ]
  },
  {
   "cell_type": "markdown",
   "metadata": {},
   "source": [
    "Using negative values counts backwards instead"
   ]
  },
  {
   "cell_type": "code",
   "execution_count": null,
   "metadata": {},
   "outputs": [],
   "source": [
    "print someString[1:5]"
   ]
  },
  {
   "cell_type": "markdown",
   "metadata": {},
   "source": [
    "Here, we have a different indexing notation. In this case, the first number represents the first letter to print all the way up to the letter in the position of the second number, exclusive."
   ]
  },
  {
   "cell_type": "code",
   "execution_count": 5,
   "metadata": {},
   "outputs": [
    {
     "name": "stdout",
     "output_type": "stream",
     "text": [
      "Let us get the first 5 letters\n"
     ]
    },
    {
     "ename": "NameError",
     "evalue": "name 'someString' is not defined",
     "output_type": "error",
     "traceback": [
      "\u001b[0;31m---------------------------------------------------------------------------\u001b[0m",
      "\u001b[0;31mNameError\u001b[0m                                 Traceback (most recent call last)",
      "\u001b[0;32m<ipython-input-5-35dc8eeba6f2>\u001b[0m in \u001b[0;36m<module>\u001b[0;34m()\u001b[0m\n\u001b[1;32m      1\u001b[0m \u001b[0;32mprint\u001b[0m \u001b[0;34m'Let us get the first 5 letters'\u001b[0m\u001b[0;34m\u001b[0m\u001b[0m\n\u001b[0;32m----> 2\u001b[0;31m \u001b[0;32mprint\u001b[0m \u001b[0msomeString\u001b[0m\u001b[0;34m[\u001b[0m\u001b[0;36m0\u001b[0m\u001b[0;34m:\u001b[0m\u001b[0;36m5\u001b[0m\u001b[0;34m]\u001b[0m\u001b[0;34m\u001b[0m\u001b[0m\n\u001b[0m",
      "\u001b[0;31mNameError\u001b[0m: name 'someString' is not defined"
     ]
    }
   ],
   "source": [
    "print 'Let us get the first 5 letters'\n",
    "print someString[0:5]"
   ]
  },
  {
   "cell_type": "markdown",
   "metadata": {},
   "source": [
    "#FOR NEXT YEAR\n",
    "\n",
    "- include reverse [::-1]"
   ]
  },
  {
   "cell_type": "markdown",
   "metadata": {},
   "source": [
    "\n",
    "## Special Characters\n",
    "There are special characters than can be used in strings to do some interesting things. They're generally indicated with a backslash and some letter. The most common ones for string formatting I've seen are \\t and \\n, which correspond to tabs and newlines"
   ]
  },
  {
   "cell_type": "code",
   "execution_count": null,
   "metadata": {},
   "outputs": [],
   "source": [
    "s = 'some\\thing is missing'\n",
    "print s\n",
    "s2 = \"somethi\\ng is broken\"\n",
    "print s2\n",
    "s3 = '''something th\\at will drive you b\\an\\an\\as'''\n",
    "print s3"
   ]
  },
  {
   "cell_type": "code",
   "execution_count": null,
   "metadata": {},
   "outputs": [],
   "source": [
    "s4 = r'\\a solu\\tio\\n'\n",
    "print s4\n",
    " \n",
    "s5 = '\\\\another solu\\\\tio\\\\n'\n",
    "print s5"
   ]
  },
  {
   "cell_type": "markdown",
   "metadata": {},
   "source": [
    "This ugly (and possibly loud, if your sound is working properly) mess is caused by escape characters. In python strings, several special characters (full list here: https://docs.python.org/2/reference/lexical_analysis.html#string-literals) can be preceded by a backslash (\\) to produce special output, such as a tab (\\t) newline (\\n) or even a bell noise (\\a).\n",
    "This is handy, since it means you can liberally pepper your strings with tabs and line breaks. In fact, lots of the data that we use are conveniently stored in files that are delimited by such tabs and line breaks. This might be a problem, however, say if you wanted to use a backslash in your string. Python offers two ways around this: the safest is to escape your special character, using a second backslash (see s5 above, '\\'). A fancier way involves a special kind of string, the raw string.\n",
    "Raw strings start with r' and end with ' will treat every character between as exactly what it looks like, with the exception of the single quote (which ends the string). \n",
    "\n",
    "If you do use raw strings, watch out for two catches:\n",
    "* You must still escape single quotes you want to appear inside the string.\n",
    "* The last character of the string cannot be a backslash, since this will escape the closing quote.\n",
    "Color coding from synthax highlighting will help you notice the problems:"
   ]
  },
  {
   "cell_type": "code",
   "execution_count": null,
   "metadata": {
    "collapsed": true
   },
   "outputs": [],
   "source": [
    "s6 = r'don't do this'\n",
    "s6 = r'but there ain\\'t a problem with this'\n",
    "print s6\n",
    " \n",
    "s7 = r'this is bad\\'\n",
    "s7 = r'but this is okay\\ '\n",
    "print s7"
   ]
  },
  {
   "cell_type": "markdown",
   "metadata": {},
   "source": [
    "## Formatting\n",
    "We've learned about strings and variables, but how can we put them together? This is where formatting comes into play, where we can combine them together on a line. To format strings or, in other words, to be able to place variables within a string, just place curly braces {} where you'd like variables to appear; then use .format() and type in a list of variables to input. Variables that are not strings will be coerced to string type.\n",
    "\n",
    "If you put too many variables in the .format() list, the excess will not be included in the string."
   ]
  },
  {
   "cell_type": "code",
   "execution_count": null,
   "metadata": {},
   "outputs": [],
   "source": [
    "pet = 'cat'\n",
    "howMany = 13\n",
    "\n",
    "print 'I have a {}, {} of them. Does this make me a hoarder?' .format(pet, howMany)"
   ]
  },
  {
   "cell_type": "markdown",
   "metadata": {},
   "source": [
    "You can also reference the same variables more than once by their index in the parentheses."
   ]
  },
  {
   "cell_type": "code",
   "execution_count": null,
   "metadata": {},
   "outputs": [],
   "source": [
    "t = 'THE'\n",
    "n = 'IN'\n",
    "sentence = '''With string formatting, you can use indexes to plug {1} {0} same variables\n",
    "           multiple times, and {1} any order you wish.'''\n",
    "print sentence.format(t, n)"
   ]
  },
  {
   "cell_type": "markdown",
   "metadata": {},
   "source": [
    "String formatting is useful when you're processing data and you want to generate output where each line has a set of tab separated values. The following is a slightly more complex example to get the point across"
   ]
  },
  {
   "cell_type": "code",
   "execution_count": null,
   "metadata": {},
   "outputs": [],
   "source": [
    "# Let's see if numbers from 0 to 10 are even or odd\n",
    "# Spit out the number, whether or not it's even or odd\n",
    "# Let's also see if it's square is even or odd\n",
    "for i in range(1,11):\n",
    "    isOdd = ''\n",
    "    if i%2 == 0:\n",
    "        isOdd = 'even'\n",
    "    else:\n",
    "        isOdd = 'odd'\n",
    "    \n",
    "    square = ''\n",
    "    if i**2%2 == 0:\n",
    "        square = 'even'\n",
    "    else:\n",
    "        square = 'odd'\n",
    "        \n",
    "    print '{}\\t{}\\t{}'.format(i, isOdd, square)"
   ]
  },
  {
   "cell_type": "markdown",
   "metadata": {},
   "source": [
    "## Input\n",
    "This will seem random, but it's something fun to be able to do at this stage of coding. It basically will make it so that your python script will print a message that will require you to type something in and then storing it as a string. This sounds more complicated than it really is. The following shows the format of how it's done."
   ]
  },
  {
   "cell_type": "code",
   "execution_count": null,
   "metadata": {
    "collapsed": true
   },
   "outputs": [],
   "source": [
    "name = raw_input(\"what's your name? \")\n",
    "print name"
   ]
  },
  {
   "cell_type": "markdown",
   "metadata": {},
   "source": [
    "Notice that everything is read in as a string, even numbers. Remember that if you want numbers to be an int or a float, just use coercion with int() and float() functions"
   ]
  },
  {
   "cell_type": "code",
   "execution_count": null,
   "metadata": {},
   "outputs": [],
   "source": [
    "age = raw_input(\"How old are you? \")\n",
    "print age\n",
    "print type(age)"
   ]
  },
  {
   "cell_type": "markdown",
   "metadata": {},
   "source": [
    "## Exercises"
   ]
  },
  {
   "cell_type": "markdown",
   "metadata": {},
   "source": [
    "###1) Age\n",
    "Write a script that will ask for someone's age and print out the year they're born in. The final output should be in the format: You are \"age\" years old, so you were born in \"year\""
   ]
  },
  {
   "cell_type": "markdown",
   "metadata": {},
   "source": [
    "###2) Haiku formatting\n",
    "A haiku consists of 3 lines that have 5 syllables in the first line, 7 in the second, and 5 in the last. Here's a sample haiku:\n",
    "\n",
    "   The light of the moon It moves west, flowers' shadows, They all creep eastward.\n",
    "\n",
    "\n",
    "Turn this haiku into a string and add new line characters to transform it into a proper haiku"
   ]
  },
  {
   "cell_type": "markdown",
   "metadata": {},
   "source": [
    "###3) Haiku slicing\n",
    "Write a code that will ask 2 questions. Each question will ask for a number between 0 and 70. Index the haiku in question 2 with the smaller number being the start position and the larger number being the end position. What is the result?"
   ]
  },
  {
   "cell_type": "markdown",
   "metadata": {},
   "source": [
    "###4) Budget\n",
    "Write a code that asks for how much money you have and also how much something costs (e.g. a pencil). Calculate how many of these things you can buy and how much money you would have left over."
   ]
  },
  {
   "cell_type": "markdown",
   "metadata": {},
   "source": [
    "### 5) Ratio\n",
    "\n",
    "  Read two numbers in (user input).\n",
    "  Print out their ratio."
   ]
  },
  {
   "cell_type": "markdown",
   "metadata": {},
   "source": [
    "###6) Sum and Mean\n",
    "\n",
    "  Read five numbers in. Print out their sum and mean."
   ]
  },
  {
   "cell_type": "markdown",
   "metadata": {},
   "source": [
    "### CHALLENGES!\n",
    "\n",
    "### 7) Index-tastic\n",
    "\n",
    "  Ask the user to specify a number of digits (e.g. 1-digit numbers, 2-digit numbers, etc.).\n",
    "  Ask the user to supply five numbers of that many digits separated by spaces.\n",
    "  Parse these numbers out, and calculate sum and mean as in Exercise #6.\n",
    "  \n",
    "Try also doing this without using any additional variables! (Use only the one that contains the string that you read in.)"
   ]
  },
  {
   "cell_type": "markdown",
   "metadata": {},
   "source": [
    "###8) Escape!\n",
    "\n",
    "  Reproduce the triple-quoted string from earlier:"
   ]
  },
  {
   "cell_type": "code",
   "execution_count": null,
   "metadata": {},
   "outputs": [],
   "source": [
    "s = '''hello \"world\", if that is your real name.\n",
    "That's World, to you'''\n",
    "print s"
   ]
  },
  {
   "cell_type": "markdown",
   "metadata": {},
   "source": [
    "in just one string using single or double quotes. Make sure you have the line break and all the quotes and apostrophes in there!"
   ]
  }
 ],
 "metadata": {
  "anaconda-cloud": {},
  "kernelspec": {
   "display_name": "Python 2",
   "language": "python",
   "name": "python2"
  },
  "language_info": {
   "codemirror_mode": {
    "name": "ipython",
    "version": 2
   },
   "file_extension": ".py",
   "mimetype": "text/x-python",
   "name": "python",
   "nbconvert_exporter": "python",
   "pygments_lexer": "ipython2",
   "version": "2.7.13"
  }
 },
 "nbformat": 4,
 "nbformat_minor": 1
}
