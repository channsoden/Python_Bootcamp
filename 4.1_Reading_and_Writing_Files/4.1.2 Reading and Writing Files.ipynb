{
 "cells": [
  {
   "cell_type": "markdown",
   "metadata": {},
   "source": [
    "# Reading and Writing Files\n",
    "\n",
    "Now that we can process text, all we need is... more text. And odds are, that text is going to come in the form of a file, so it's high time that we start using them.\n",
    "\n",
    "## Opening Filehandles\n",
    "\n",
    "A filehandle is an object that controls the stream of information between your program and a file stored somewhere on the computer. Filehandles are not filenames, and they are not the files themselves. Like variables, filehandles contain the address of the file on the hard drive or other storage media. But unlike variables, filehandles also keep track of your current read position in the file. Imagine your file is like a book in a library. The filehandle tells Python where that book is, and keeps a bookmark in the book for where you currently are. Because filehandles are not the files themeselves deleting a filehandle in your script using the **del** command does nothing to the file that handle refers to.\n",
    "\n",
    "We create filehandles in the simplest sense with the **open()** command:\n",
    "\n",
    "```python\n",
    "fh = open('some_file')\n",
    "```\n",
    "\n",
    "where some_file is the path to a file (i.e. the filename) on your filesystem. In general, it is good practice to use absolute path nomenclature (e.g. /Users/aaron/some_file or /home/aaron/some_file), but you can be lazy if you know the file you want is going to be in the same directory as your program."
   ]
  },
  {
   "cell_type": "code",
   "execution_count": 1,
   "metadata": {},
   "outputs": [
    {
     "name": "stdout",
     "output_type": "stream",
     "text": [
      "THIS IS A TEXT FILE\n",
      "THAT I AM USING AS AN EXAMPLE\n",
      "AND WE ARE CURRENTLY\n",
      "READING FROM IT.\n"
     ]
    }
   ],
   "source": [
    "fh = open('hello.txt')\n",
    "contents = fh.read()\n",
    "print contents\n",
    "fh.close()"
   ]
  },
  {
   "cell_type": "markdown",
   "metadata": {},
   "source": [
    "As you can see, the **read()** method of the filehandle just sucks in the whole file in a single string, newlines and all! This is quick and easy, for sure, but it's not necessarily the most orderly way to deal with the contents of a file."
   ]
  },
  {
   "cell_type": "markdown",
   "metadata": {},
   "source": [
    "### *readline()*, *readlines()*, and *strip()*\n",
    "Using any text editor, copy the contents of the following snippet to a text file in your directory for this session, and save the file as gff_head.\n",
    "\n",
    "```\n",
    "##gff-version 3   \n",
    "# feature-ontology so.obo   \n",
    "# attribute-ontology gff3_attributes.obo   \n",
    "##sequence-region NcraOR74A_Chr21 1 64840   \n",
    "##sequence-region NcraOR74A_LGI 1 9798893   \n",
    "```\n",
    "\n",
    "Then try the following:"
   ]
  },
  {
   "cell_type": "code",
   "execution_count": 2,
   "metadata": {},
   "outputs": [
    {
     "name": "stdout",
     "output_type": "stream",
     "text": [
      "##gff-version 3   \n",
      "\n",
      "# feature-ontology so.obo   \n",
      "\n",
      "['# attribute-ontology gff3_attributes.obo   \\n', '##sequence-region NcraOR74A_Chr21 1 64840   \\n', '##sequence-region NcraOR74A_LGI 1 9798893']\n"
     ]
    }
   ],
   "source": [
    "filename = 'gff_head'\n",
    "fh = open(filename, 'r')\n",
    "# the 'r' is for 'read-only', which will keep us from being able to alter\n",
    "# this file with the filehandle we just created\n",
    "\n",
    "print fh.readline()\n",
    "print fh.readline()\n",
    "\n",
    "lines = fh.readlines()\n",
    "\n",
    "fh.close()\n",
    "\n",
    "print lines"
   ]
  },
  {
   "cell_type": "markdown",
   "metadata": {},
   "source": [
    "While this is a bit of a mess, a few things should become apparent:\n",
    "1. **readline()** takes in one line (and since **print()** also supplies a newline, we've got an extra linebreak after each of the first two **print** statements.\n",
    "2. **readlines()** (plural!) takes the entire file, from the current read position all the way to the end, giving back a list of lines (again, with newlines intact).\n",
    "3. This file has a bunch of whitespace cluttering things up at the end of each line.\n",
    "\n",
    "All of these complications are easily resolved with the use of the **strip()** method whenever we actually make use of the lines we read:"
   ]
  },
  {
   "cell_type": "code",
   "execution_count": 5,
   "metadata": {},
   "outputs": [
    {
     "name": "stdout",
     "output_type": "stream",
     "text": [
      " \t what a mess!\t         \n",
      "   \n",
      "what a mess!\n"
     ]
    }
   ],
   "source": [
    "uglystring = ' \\t what a mess!\\t         \\n   '\n",
    "print uglystring\n",
    "print uglystring.strip()"
   ]
  },
  {
   "cell_type": "code",
   "execution_count": 4,
   "metadata": {},
   "outputs": [
    {
     "name": "stdout",
     "output_type": "stream",
     "text": [
      "##gff-version 3\n",
      "# feature-ontology so.obo\n",
      "['# attribute-ontology gff3_attributes.obo', '##sequence-region NcraOR74A_Chr21 1 64840   \\n', '##sequence-region NcraOR74A_LGI 1 9798893']\n"
     ]
    }
   ],
   "source": [
    "filename = 'gff_head'\n",
    "fh = open(filename, 'r')\n",
    " \n",
    "print fh.readline().strip()\n",
    "print fh.readline().strip()\n",
    " \n",
    "lines = fh.readlines()\n",
    " \n",
    "fh.close()\n",
    " \n",
    "lines[0] = lines[0].strip()\n",
    " \n",
    "print lines"
   ]
  },
  {
   "cell_type": "markdown",
   "metadata": {},
   "source": [
    "Now the spaces and newlines are gone from the first two lines, and from the 0th element of the list I printed in the last print statement (since I only bothered to **strip()** and put back the 0th element).\n",
    "\n",
    "One crucially important concept of file input in Python is that each time you read something by any of the three methods I've described you advance your position in the file, which means that you never get the same character or characters twice (unless of course they're in the file twice!)\n",
    "\n",
    "This is why reading from the filehandle with **readline()** twice in a row gave two different values; as soon as the line is read, the filehandle has moved to the next line, awaiting another read request. This is because filehandles are **iterable**.\n",
    "\n",
    "We first introduced **iterables** as objects that can be looped over with **for**, as they contain or produce other objects. Filehandles are of this second type, they know how to produce a string and advance themselves in anticipation of the next request. That means that to get back to the beginning of the file, you must either close the file with the **close()** method of the filehandle and reopen it, or use the **seek()** method of the filehandle (which we don't have time to go into -- Google is your friend!)\n",
    "\n",
    "Aside from this potenitally odd behavior, the **iterable** quality of filehandles also means that they can be treated logically like a sequence of lines, as we will see below."
   ]
  },
  {
   "cell_type": "markdown",
   "metadata": {},
   "source": [
    "### Reading Files In a Loop\n",
    "Certainly one of the most common contexts in which you'll encounter **for** loops is in working your way through a file. You can just put together two things we've already seen to get to where we need to be:"
   ]
  },
  {
   "cell_type": "code",
   "execution_count": 9,
   "metadata": {},
   "outputs": [
    {
     "name": "stdout",
     "output_type": "stream",
     "text": [
      "['gff-version', '3']\n",
      "['feature-ontology', 'so.obo']\n",
      "['attribute-ontology', 'gff3_attributes.obo']\n",
      "['sequence-region', 'NcraOR74A_Chr21', '1', '64840']\n",
      "['sequence-region', 'NcraOR74A_LGI', '1', '9798893']\n"
     ]
    }
   ],
   "source": [
    "fh = open('gff_head')\n",
    "#lines = fh.readlines()\n",
    "for line in fh:\n",
    "    line = line.strip('#').strip()\n",
    "    fields = line.split()\n",
    "    print fields"
   ]
  },
  {
   "cell_type": "markdown",
   "metadata": {},
   "source": [
    "This is starting to get a little fancier, but we're only doing things you've seen before: read all the lines in a file into a list, then iterate over the list of lines. For each line, strip off the leading hash symbols, strip off leading and trailing whitespace, split the line into a list, then print the resulting list.\n",
    "\n",
    "We can simplify this one more step using the fact that filehandles are *iterable*, and know what's being asked of them. So we can replace this:\n",
    "\n",
    "```python\n",
    "lines = fh.readlines()\n",
    "for line in lines:\n",
    "    ...\n",
    "    ...\n",
    "```\n",
    "with:\n",
    "```python\n",
    "for line in fh:\n",
    "    ...\n",
    "    ...\n",
    "```\n",
    "to exactly the same end."
   ]
  },
  {
   "cell_type": "markdown",
   "metadata": {},
   "source": [
    "### Writing to Files\n",
    "Writing output is sorta like doing the dishes. You just did all this work to cook up a fancy program and analyze some data, and the last thing you want to do is put all your answers away into clean little output files. Fortunately, we'll learn about pickle files later, but for now, we'd best make sure you know how to write output to a file.\n",
    "\n",
    "The default behavior of the filehandle is to open the file supplied in read mode. However, by giving an additional argument, you can either add lines to the bottom of the specified file, or overwrite it entirely:"
   ]
  },
  {
   "cell_type": "code",
   "execution_count": 10,
   "metadata": {
    "collapsed": true
   },
   "outputs": [],
   "source": [
    "filename = 'bands.txt'\n",
    "# 'w' flag means \"writeable\"\n",
    "fh = open(filename, 'w')\n",
    "\n",
    "\n",
    "# note that we have to add the '\\n' if we want it at the end of the line;\n",
    "# this is in contrast to the print command's behavior.\n",
    "fh.write('The Beatles were')\n",
    "fh.write(' the best band.\\n')\n",
    "\n",
    "    \n",
    "fh.close()"
   ]
  },
  {
   "cell_type": "code",
   "execution_count": 12,
   "metadata": {
    "collapsed": true
   },
   "outputs": [],
   "source": [
    "# we are reoppening the file as \"writeable\", so we will OVERWRITE it\n",
    "fh = open(filename, 'w')\n",
    "\n",
    "fh.write ('The Grateful Dead were\\n')\n",
    "fh.write (' the best band.\\n')\n",
    " \n",
    "fh.close()"
   ]
  },
  {
   "cell_type": "code",
   "execution_count": 13,
   "metadata": {
    "collapsed": true
   },
   "outputs": [],
   "source": [
    "# 'a' flag means \"append\"\n",
    "fh = open(filename, 'a')\n",
    "\n",
    "fh.write(\"The Beatles weren't even close.\\n\")\n",
    " \n",
    "fh.close()"
   ]
  },
  {
   "cell_type": "markdown",
   "metadata": {},
   "source": [
    "While this script doesn't print anything to the screen, if you run it and look at the contents of *bands.txt* you should see the second two sentences. Remember how filehandles track your position in the file? Well, when you open a file with the 'w' argument the position starts at the beginning of the file, so you will *overwrite* the file, while if you open a file with the 'a' argument the position starts at the end of the file, so when you write the data will be appended to the end.\n",
    "\n",
    "When reading files, the **close()** method is a good thing to keep in mind, but if you forget it, python will close the file at the end of the program's execution. With writing files, however, python may not make the changes you stipulate right away, so if you plan to evaluate the contents of the file you're writing in the same script (or for instance use that file for something else during the run of that script) it is wise to close the filehandle to ensure that all the write operations you've requested are performed.\n",
    "\n",
    "However, while we're on the subject, it is almost never a good idea to write to a file then read from it in the same script. When your data is in the form of Python objects those objects are stored in memory, and accessing data stored in *memory is 6 to 100,000 times faster than a hard disk*.\n",
    "\n",
    "While python has no writeline() method, the other two read methods are mirrored for writing to files. The first, **write()** you've already seen. It takes a string and puts it in a file. The only difference between this and **writelines()** is that **writelines()** takes a list of strings and writes them all (But beware! If you want those strings to appear on separate lines, they had best all end with a '\\n'!)"
   ]
  },
  {
   "cell_type": "code",
   "execution_count": 10,
   "metadata": {
    "collapsed": true
   },
   "outputs": [],
   "source": [
    "#!/usr/bin/env python\n",
    " \n",
    "filename = 'bands.txt'\n",
    "fh = open(filename, 'a') # Appending to our previous file.\n",
    " \n",
    "lines = ['To be fair, both the Beatles and \\n',\n",
    "         'the Grateful Dead made fantastic music.\\n'\n",
    "         ]\n",
    "lines.extend(['Everyone has their own musical taste,\\n',\n",
    "              \"no sense in fighting about it.\\n\"\n",
    "              ])\n",
    " \n",
    "fh.writelines(lines)\n",
    " \n",
    "fh.close()"
   ]
  },
  {
   "cell_type": "markdown",
   "metadata": {},
   "source": [
    "And check out the contents of *bands.txt* to see your many-line-writing machine in action!"
   ]
  }
 ],
 "metadata": {
  "kernelspec": {
   "display_name": "Python 2",
   "language": "python",
   "name": "python2"
  },
  "language_info": {
   "codemirror_mode": {
    "name": "ipython",
    "version": 2
   },
   "file_extension": ".py",
   "mimetype": "text/x-python",
   "name": "python",
   "nbconvert_exporter": "python",
   "pygments_lexer": "ipython2",
   "version": "2.7.13"
  }
 },
 "nbformat": 4,
 "nbformat_minor": 1
}
