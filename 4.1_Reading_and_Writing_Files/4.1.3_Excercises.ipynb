{
 "cells": [
  {
   "cell_type": "markdown",
   "metadata": {},
   "source": [
    "### 1. Pile of basic split drills:\n",
    "- Turn 'Humpty Dumpty sat on a wall' into ['Humpty','Dumpty','sat','on','a', 'wall']\n",
    "- Turn 'Humpty Dumpty had a great fall' into ['Humpty Dumpty had a ', ' fall']\n",
    "- Turn \"All the King's horses\" into [\"All the King's hor\",'e',''] (note: there is still an \"s\" at the end of \"King's\")\n",
    "- Turn \"and all the King's men\" into ['and a','',\" the King's men\"] (note: there is a space at the beginning of \" the King's men\")\n",
    "- Turn \"couldn't put Humpty together again\" into 'again' (using one line)"
   ]
  },
  {
   "cell_type": "markdown",
   "metadata": {},
   "source": [
    "### 2. Pile of basic join drills\n",
    " - Put ['H', 'u', 'm', 'p', 't', 'y', ' ', 'D', 'u', 'm', 'p', 't', 'y'] together again.\n",
    " - Turn ['Homo', 'sapiens'] into 'Homo sapiens'\n",
    " - Join ['It was the best of times', 'it was the worst of times', 'it was the age of wisdom', 'it was the age of foolishness. . .'] with commas and spaces so that it looks right.\n",
    " - Turn ['ID', 'Taxon', 'Collection Date', 'Location'] into an appropriately formated CSV header (i.e. '\"ID\",\"Taxon\",\"Collection Date\",\"Location\"').\n",
    " - Use chr() to turn [114, 105, 103, 104, 116, 32, 104, 101, 114, 101, 46, 32, 82, 85, 78, 33] into a list of characters, then join them into a sentence."
   ]
  },
  {
   "cell_type": "markdown",
   "metadata": {},
   "source": [
    "### 3. Pile of basic replacement drills\n",
    " - Starting with the sentence, 'In Hidden Fortress, directed by Akira Kurosawa, two bumbling peasants lead a samurai to rescue a princess trapped in a hidden fortress.':\n",
    "   - Replace 'peasants' with 'droids'\n",
    "   - Replace 'samurai' with 'jedi'\n",
    "   - Replace 'Akira Kurosawa' with 'George Lucas'\n",
    "   - Replace 'Hidden Fortress' with 'Star Wars'\n",
    " - capitalize 'ACttggggaacctaTCCggTC'\n",
    " - un-capitalize 'GGGCNNNNNGUUCCUANNNAAA'\n",
    " - give 'uc bERKELEY' the correct capitalization\n",
    " - In the rhyme, \"There was a croOKed man, and he walked a crooked mile.;He found a cROOKed sixpence upon a crooked stile.;He bought a crOoked cat, which caught a CROoked mouse,;And they all lived together in a little crooKEd house.\":\n",
    "   - Remove all commas and replace semi-colons with line-breaks\n",
    "   - Make all instances of the word \"crooked\" capitalized, and everything else lower-case"
   ]
  },
  {
   "cell_type": "markdown",
   "metadata": {},
   "source": [
    "### 4. A Pile of White Space\n",
    "For each of the following strings, turn the string into ['Taxonomy', 'Flux', 'Gelatin (gal)', 'Tachyon (BPM)']:\n",
    " - ' Taxonomy-Flux-Gelatin (gal)-Tachyon (BPM)\\n'\n",
    " - '\\tTaxonomy\\tFlux\\tGelatin (gal)\\tTachyon (BPM)'\n",
    " - '\"Taxonomy\", \"Flux\", \"Gelatin (gal)\", \"Tachyon (BPM)\"'\n",
    " - '   \\t Taxonomy\\n \\t Flux\\n   Gelatin (gal)\\t\\t\\n Tachyon (BPM) \\n      '"
   ]
  },
  {
   "cell_type": "markdown",
   "metadata": {},
   "source": [
    "### 5. Coming Together\n",
    "- turn ' James DeboraSumayah Gunjan\\n' into 'David\\tChrisJames\\tDat'\n",
    "- turn ['David', 'James', 'Debora', 'Chris'] into 'DAVID\\tJAMES\\tDEBORA\\tCHRIS'"
   ]
  },
  {
   "cell_type": "markdown",
   "metadata": {},
   "source": [
    "### 6. What's in this file anyway?\n",
    "Using only Python, open the file '.secret_message' in the '4.1_Reading_and_Writing_Files' directory and figure out what's in it."
   ]
  },
  {
   "cell_type": "markdown",
   "metadata": {},
   "source": [
    "### 7. Pairwise Combinations\n",
    "Write a function that takes a list of names (say, the names of the instructors and TA's: James, David, Chris, Debora, Sumayah, Dat, Gunjan), write each possible pair of names, separated by hyphens '-----', to a file, like below:  \n",
    "James-----David  \n",
    "James-----Chris"
   ]
  },
  {
   "cell_type": "markdown",
   "metadata": {},
   "source": [
    "### 8. String Mutations\n",
    "Write a function that takes the last output file, reads it in, then write the lines back out (to a new file) in reverse order, in all capital letters."
   ]
  },
  {
   "cell_type": "markdown",
   "metadata": {},
   "source": [
    "### 9. Parse a FASTA file\n",
    "Using any text editor, copy the text below into a text file and save it as *seq.fasta*\n",
    "\n",
    "```\n",
    ">gene1\n",
    "ATGAGACGTAGTGCCAGTAGCGCGATGTAGCG\n",
    "ATGACGCATGACGCGCGACGCGCGAGTGAGCC\n",
    "ATACGCACGCATTGGCA\n",
    ">gene2\n",
    "ATGTTCGACGCATACGACGCGCAGTACCAGCA\n",
    "ATGACGCACCGGGATACACGACGCGGATTTTT\n",
    "ACGCACCGAGATAGCATAAAAGACCATTAG\n",
    ">gene3\n",
    "TTATGGCACCCACTAGAGCCAGATTATTTTAAA\n",
    "```\n",
    "\n",
    "Write a function that will open the fasta file, read the lines, and return the data as a dictionary keyed by gene with the sequences as values. Make sure the sequences are contiguous (i.e. contain no endline ('\\n') characters), and make sure to remove the > from the names of the genes."
   ]
  }
 ],
 "metadata": {
  "anaconda-cloud": {},
  "kernelspec": {
   "display_name": "Python 2",
   "language": "python",
   "name": "python2"
  },
  "language_info": {
   "codemirror_mode": {
    "name": "ipython",
    "version": 2
   },
   "file_extension": ".py",
   "mimetype": "text/x-python",
   "name": "python",
   "nbconvert_exporter": "python",
   "pygments_lexer": "ipython2",
   "version": "2.7.13"
  }
 },
 "nbformat": 4,
 "nbformat_minor": 1
}
