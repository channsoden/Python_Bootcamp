{
 "cells": [
  {
   "cell_type": "markdown",
   "metadata": {},
   "source": [
    "### 1. Pile of basic split drills:\n",
    "- Turn 'Humpty Dumpty sat on a wall' into ['Humpty','Dumpty','sat','on','a', 'wall']\n",
    "- Turn 'Humpty Dumpty had a great fall' into ['Humpty Dumpty had a ', ' fall']\n",
    "- Turn \"All the King's horses\" into [\"All the King's hor\",'e',''] (note: there is still an \"s\" at the end of \"King's\")\n",
    "- Turn \"and all the King's men\" into ['and a','',\" the King's men\"] (note: there is a space at the beginning of \" the King's men\")\n",
    "- Turn \"couldn't put Humpty together again\" into 'again' (using one line)"
   ]
  },
  {
   "cell_type": "code",
   "execution_count": 2,
   "metadata": {
    "collapsed": false
   },
   "outputs": [
    {
     "name": "stdout",
     "output_type": "stream",
     "text": [
      "['Humpty', 'Dumpty', 'sat', 'on', 'a', 'wall']\n",
      "['Humpty Dumpty had a ', ' fall']\n",
      "[\"All the King's hor\", 'e', '']\n",
      "['and a', '', \" the King's men\"]\n",
      "again\n"
     ]
    }
   ],
   "source": [
    "print 'Humpty Dumpty sat on a wall'.split() # ['Humpty','Dumpty','sat','on','a', 'wall']\n",
    "print 'Humpty Dumpty had a great fall'.split('great') # ['Humpty Dumpty had a ', ' fall']\n",
    "print \"All the King's horses\".rsplit('s', 2) # [\"All the King's hor\",'e','']\n",
    "print \"and all the King's men\".split('l') # ['and a','',\" the King's men\"]\n",
    "print \"couldn't put Humpty together again\".split()[-1] # 'again'"
   ]
  },
  {
   "cell_type": "markdown",
   "metadata": {},
   "source": [
    "### 2. Pile of basic join drills\n",
    " - Put ['H', 'u', 'm', 'p', 't', 'y', ' ', 'D', 'u', 'm', 'p', 't', 'y'] together again.\n",
    " - Turn ['Homo', 'sapiens'] into 'Homo sapiens'\n",
    " - Join ['It was the best of times', 'it was the worst of times', 'it was the age of wisdom', 'it was the age of foolishness. . .'] with commas and spaces so that it looks right.\n",
    " - Turn ['ID', 'Taxon', 'Collection Date', 'Location'] into an appropriately formated CSV header (i.e. '\"ID\",\"Taxon\",\"Collection Date\",\"Location\"').\n",
    " - Use chr() to turn [114, 105, 103, 104, 116, 32, 104, 101, 114, 101, 46, 32, 82, 85, 78, 33] into a list of characters, then join them into a sentence."
   ]
  },
  {
   "cell_type": "code",
   "execution_count": 2,
   "metadata": {
    "collapsed": false
   },
   "outputs": [
    {
     "name": "stdout",
     "output_type": "stream",
     "text": [
      "Humpty Dumpty\n",
      "Homo sapiens\n",
      "It was the best of times, it was the worst of times, it was the age of wisdom, it was the age of foolishness. . .\n",
      "\"ID\", \"Taxon\", \"Collection Date\", \"Location\"\n",
      "right here. RUN!\n"
     ]
    }
   ],
   "source": [
    "humpty = ['H', 'u', 'm', 'p', 't', 'y', ' ', 'D', 'u', 'm', 'p', 't', 'y']\n",
    "print ''.join(humpty)\n",
    "\n",
    "print ' '.join(['Homo', 'sapiens'])\n",
    "\n",
    "two_cities = ['It was the best of times',\n",
    "              'it was the worst of times',\n",
    "              'it was the age of wisdom',\n",
    "              'it was the age of foolishness. . .']\n",
    "print ', '.join(two_cities)\n",
    "\n",
    "csv = ['ID', 'Taxon', 'Collection Date', 'Location']\n",
    "print '\"' + '\", \"'.join(csv) + '\"'\n",
    "\n",
    "message = [114, 105, 103, 104, 116, 32, 104, 101,\n",
    "           114, 101, 46, 32, 82, 85, 78, 33]\n",
    "print ''.join([chr(c) for c in message])"
   ]
  },
  {
   "cell_type": "markdown",
   "metadata": {},
   "source": [
    "### 3. Pile of basic replacement drills\n",
    " - Starting with the sentence, 'In Hidden Fortress, directed by Akira Kurosawa, two bumbling peasants lead a samurai to rescue a princess trapped in a hidden fortress.':\n",
    "   - Replace 'peasants' with 'droids'\n",
    "   - Replace 'samurai' with 'jedi'\n",
    "   - Replace 'Akira Kurosawa' with 'George Lucas'\n",
    "   - Replace 'Hidden Fortress' with 'Star Wars'"
   ]
  },
  {
   "cell_type": "code",
   "execution_count": 7,
   "metadata": {
    "collapsed": false
   },
   "outputs": [
    {
     "name": "stdout",
     "output_type": "stream",
     "text": [
      "In Star Wars, directed by George Lucas, two bumbling droids lead a jedi to rescue a princess trapped in a hidden fortress.\n"
     ]
    }
   ],
   "source": [
    "plot = ('In Hidden Fortress, directed by Akira Kurosawa, ' +\n",
    "        'two bumbling peasants lead a samurai to rescue ' +\n",
    "        'a princess trapped in a hidden fortress.')\n",
    "\n",
    "plot = plot.replace('peasants', 'droids')\n",
    "plot = plot.replace('samurai', 'jedi')\n",
    "plot = plot.replace('Akira Kurosawa', 'George Lucas').replace('Hidden Fortress', 'Star Wars')\n",
    "print plot"
   ]
  },
  {
   "cell_type": "markdown",
   "metadata": {},
   "source": [
    " - capitalize 'ACttggggaacctaTCCggTC'\n",
    " - un-capitalize 'GGGCNNNNNGUUCCUANNNAAA'\n",
    " - give 'uc bERKELEY' the correct capitalization"
   ]
  },
  {
   "cell_type": "code",
   "execution_count": 8,
   "metadata": {
    "collapsed": false
   },
   "outputs": [
    {
     "name": "stdout",
     "output_type": "stream",
     "text": [
      "ACTTGGGGAACCTATCCGGTC\n",
      "gggcnnnnnguuccuannnaaa\n",
      "UC Berkeley\n"
     ]
    }
   ],
   "source": [
    "print 'ACttggggaacctaTCCggTC'.upper()\n",
    "print 'GGGCNNNNNGUUCCUANNNAAA'.lower()\n",
    "print 'uc bERKELEY'.swapcase()"
   ]
  },
  {
   "cell_type": "markdown",
   "metadata": {},
   "source": [
    " - In the rhyme, \"There was a croOKed man, and he walked a crooked mile.;He found a cROOKed sixpence upon a crooked stile.;He bought a crOoked cat, which caught a CROoked mouse,;And they all lived together in a little crooKEd house.\":\n",
    "   - Remove all commas and replace semi-colons with line-breaks\n",
    "   - Make all instances of the word \"crooked\" capitalized, and everything else lower-case"
   ]
  },
  {
   "cell_type": "code",
   "execution_count": 12,
   "metadata": {
    "collapsed": false
   },
   "outputs": [
    {
     "name": "stdout",
     "output_type": "stream",
     "text": [
      "there was a CROOKED man and he walked a CROOKED mile.\n",
      "he found a CROOKED sixpence upon a CROOKED stile.\n",
      "he bought a CROOKED cat which caught a CROOKED mouse\n",
      "and they all lived together in a little CROOKED house.\n"
     ]
    }
   ],
   "source": [
    "rhyme = ('There was a croOKed man, and he walked a crooked mile.;'+\n",
    "         'He found a cROOKed sixpence upon a crooked stile.;'+\n",
    "         'He bought a crOoked cat, which caught a CROoked mouse,;'+\n",
    "         'And they all lived together in a little crooKEd house.')\n",
    "         \n",
    "rhyme = rhyme.replace(',', '').replace(';', '\\n')\n",
    "rhyme = rhyme.lower().replace('crooked', 'CROOKED')\n",
    "print rhyme"
   ]
  },
  {
   "cell_type": "markdown",
   "metadata": {},
   "source": [
    "### 4. A Pile of White Space\n",
    "For each of the following strings, turn the string into ['Taxonomy', 'Flux', 'Gelatin (gal)', 'Tachyon (BPM)']:\n",
    " - ' Taxonomy-Flux-Gelatin (gal)-Tachyon (BPM)\\n'\n",
    " - '\\tTaxonomy\\tFlux\\tGelatin (gal)\\tTachyon (BPM)'\n",
    " - '\"Taxonomy\", \"Flux\", \"Gelatin (gal)\", \"Tachyon (BPM)\"'\n",
    " - '   \\t Taxonomy\\n \\t Flux\\n   Gelatin (gal)\\t\\t\\n Tachyon (BPM) \\n      '"
   ]
  },
  {
   "cell_type": "code",
   "execution_count": 14,
   "metadata": {
    "collapsed": false
   },
   "outputs": [
    {
     "name": "stdout",
     "output_type": "stream",
     "text": [
      "['Taxonomy', 'Flux', 'Gelatin (gal)', 'Tachyon (BPM)']\n",
      "['Taxonomy', 'Flux', 'Gelatin (gal)', 'Tachyon (BPM)']\n",
      "['Taxonomy', 'Flux', 'Gelatin (gal)', 'Tachyon (BPM)']\n",
      "\n",
      "['Taxonomy', 'Flux', 'Gelatin_(gal)', 'Tachyon_(BPM)']\n",
      "['Taxonomy', 'Flux', 'Gelatin (gal)', 'Tachyon (BPM)']\n"
     ]
    }
   ],
   "source": [
    "print ' Taxonomy-Flux-Gelatin (gal)-Tachyon (BPM)\\n'.strip().split('-')\n",
    "print '\\tTaxonomy\\tFlux\\tGelatin (gal)\\tTachyon (BPM)'.strip().split('\\t')\n",
    "print '\"Taxonomy\", \"Flux\", \"Gelatin (gal)\", \"Tachyon (BPM)\"'.strip('\"').split('\", \"')\n",
    "print\n",
    "fields = '   \\t Taxonomy\\n \\t Flux\\n   Gelatin (gal)\\t\\t\\n Tachyon (BPM) \\n      '.replace(' (', '_(').split()\n",
    "print fields\n",
    "print [field.replace('_', ' ') for field in fields]"
   ]
  },
  {
   "cell_type": "markdown",
   "metadata": {},
   "source": [
    "### 5. Coming Together\n",
    "- turn ' James DeboraSumayah Gunjan\\n' into 'David\\tChrisJames\\tDat'\n",
    "- turn ['David', 'James', 'Debora', 'Chris'] into 'DAVID\\tJAMES\\tDEBORA\\tCHRIS'"
   ]
  },
  {
   "cell_type": "code",
   "execution_count": 15,
   "metadata": {
    "collapsed": false,
    "scrolled": true
   },
   "outputs": [
    {
     "name": "stdout",
     "output_type": "stream",
     "text": [
      "David\tChrisJames\tDat\n",
      "DAVID\tJAMES\tDEBORA\tCHRIS\n"
     ]
    }
   ],
   "source": [
    "s = 'James DeboraSumayah Gunjan\\n'.strip().replace(' ', '\\t')\n",
    "s = s.replace('James', 'David')\n",
    "s = s.replace('Debora', 'Chris')\n",
    "s = s.replace('Sumayah', 'James') # This line must come after James->David, otherwise both James will get replaced\n",
    "s = s.replace('Gunjan', 'Dat')\n",
    "print s \n",
    "\n",
    "partB = ['David', 'James', 'Debora', 'Chris']\n",
    "print '\\t'.join(partB).upper() # 'DAVID\\tJAMES\\tMEL\\tCHRIS'"
   ]
  },
  {
   "cell_type": "markdown",
   "metadata": {},
   "source": [
    "### 6. What's in this file anyway?\n",
    "Using only Python, open the file '.secret_message' in the '4.1_Reading_and_Writing_Files' directory and figure out what's in it."
   ]
  },
  {
   "cell_type": "code",
   "execution_count": 16,
   "metadata": {
    "collapsed": false
   },
   "outputs": [
    {
     "name": "stdout",
     "output_type": "stream",
     "text": [
      "```````````````````````````````````````````````````````````````````` ```````    `\n",
      "`.`````````````````````````````````````....```````````````````````` ```````````     `\n",
      ".````.``````````````````````````..,,,..;'+';:,,..`````````````````````````````` ` ` `\n",
      "``.`..````````.````````````````.:;''+'+''''+#+#+';..``````````````````````````````` `\n",
      "````.```````````````````````.`,;''+;#++''+''''''++'',..```.`````````````````````````\n",
      "````````````````.```````````.;++++'++++''''''+++'+#++;:....`````````````````````````\n",
      "`.````````.```````````````..;++++';;;::::;;;;;'';;'+###;:..```````````````````````````\n",
      ".``.```.`..``````````````.:++#'':,,;,,,,,:::::;'''+++##++:..``````````````````````````\n",
      ".`.````.....```````````.`:###;:,....,.,..,.,,,::'''''+##+';`...````````````````` `````\n",
      "``````.```````````.```.,'+++;:,,.`.........,,,,,;'''#####+#;,.````````````````````````\n",
      ".``.....````````````..:;++#;:,,...``````....,,,,:;++####@#++':.```````````````````````\n",
      "...`......`..```````.,'+#+',,..```.````````....,,:''+#@#@@##+',..`````````````````````\n",
      "...`.......````..``..,+##':,..```````````````...,,:'+####@@##+:..`````````````````````\n",
      ".............`..`....'##+:,.```````   ` ``````...,:'+++#####@#'.``````````````````````\n",
      ".........`..........,+##':,.``` ` `    `   ` ``..,,:''''+##@###,..````````````````````\n",
      "....................'+##:,.```  `         `  ````.,,;'++'+#+@##'..``.`````````````````\n",
      "...................:'##+:,.``                ````.,,;+++++##@@#+:..``````..```````````\n",
      "...................''+#':.``                 ````..,:''+++###@#'',.`.`..`.`.`.````````\n",
      ",........,.........++##:,..`                `````..,:''######@@+''.....`.``.....```..`\n",
      "........,,.,......,'+#+:,.``             ```````..,,:'#+##@@@@@#++,...........````.```\n",
      "........,,,.....,:'###':,.````` ``````` `````````.,,:;##+##@#@@##++;,.............``.`\n",
      ".......,,,,,.,.:'#+###':..``````````````````````.,:::;+####@#@@@##+'':,,..............\n",
      "......,,,,,,,,,;''####;:,...```````````````````..,:;:;'+##@@+#@@@@@#++',,,............\n",
      ".,...,.,.,.,,:;+#+####;::...``````.````````````..,:;:;+++##@#@@@@@##+'++;:............\n",
      "..,...,.,.,,:'++++##@#;:,,.....`................,,;;:'#+#@@@#@#@@@@@@##++::,..........\n",
      ",.,,..,,,,,,'+'+##+@##;::,,,,........,.,.,.,,,,.,:;::'##@#@@##@##@@@##+#++:,,....,....\n",
      ",,,,,.,.,,,:+++++##@##;;::,,,,,.,,,,,,,:,;::,,,,,:;:;'####@@##@@@@@@@@###+;,,,...,,,,.\n",
      ",,,,,,,,,,,;'++++###@+';+++';;:,,:::;;'+++++';:::;:;;'##@##@@@##@@@@@@@@##;',,,...,,..\n",
      ",,,,,,,,,,,;''+####@@++++####';::;;'+##@###+++';;;;;;'+####@@##@@@@@@@@@@@++;,,,,,,..,\n",
      ",,,,:,,,,,,'';++##@@#+'#+;;'##';::'+##+;::;+''+';;;;;'++###@###@@@@@@@@@@#@#':,,,,,,,,\n",
      ",,,:,,,,,,:'++#####@#'++;;+''#+::;'++;;:,,,;+''';::;;'+####@###@@@@@@@@@@###':,,,,,,,,\n",
      ",,,,,,,,,,:'+####@#@@++'###@##+..,'';;+'#@@+''+';:;;'+####+@@##@@@@@@@@@@@@@+;;:,,,,,,\n",
      "::,:,,,:,:;++#####@@@++#:+##'#+..:':'#:,#@@+##';,,:;'####+++@@##+#@@@@@@@@@#+;;:,,,,,,\n",
      ":::::::,::''++######@#'+:,:,;':..;;..:::'#+'+',.,,::+#########@####@@@@@@@###';:,,,:,,\n",
      ",::::::::;'++####@#@@#'''''';;..,::,.,:,.,'+''...,:;##++#+#@@@@@#@##@@@@@@@@#+:::::,,,\n",
      ":::::::::;;++#########;;;;::::..:::,...,::::;,..,::;#####@@@@@####@@@@@@@@@@#+;::::,::\n",
      "::::::::::;'+###@##+@#;,,...,.`,:::,,...,,,,,..,,::;+###@@@@+@@#@@@@@@@@@@@@@#';:::,,:\n",
      "::::;:::::;:;#####@###;,,...:..::::,...........,,,:;'###@@@+'#@@@@@@@@@@@@@@#@+'::::,:\n",
      ":::::::::::;:+####+###;,,.,,:.,::::,...``.`...,,,:;;+##@@@+''@@@@@@@@@@@@@@#@#+;::::::\n",
      ";::;::::::;;'+########;,,,,,,`,:::,..........,,,:;:'+++#+;;;+@@@@@@@@@@@@@@@@#':::::::\n",
      ":;;::::;:;::;++##++#@#;:,,::.`,::::,....,,,,,,:::;'+#++#+'''#@@@@@@@@@@@@#@@#+':::::::\n",
      ":::;:::::;;;;'++######;::,::``,;:::',.,.,,,:::;:;;'+#++##',+##@@@@@@@@@@@@@##+;:;;::;;\n",
      "::;;;;:;:;;;:;'+++##@@';::::,.:;++;+,.,,,,::;::;;;'#+###@@#@+#@@@@@@@@@@@@@#+':::::;;;\n",
      ";;;;;;;;;;;:::;;'#+#@@';::::';+@##+#:,,,,,:::;;;';+#+###@+'#++#@@#@@@@@@@@##';:::::;;;\n",
      ";:;;;;;;;;:;:;:;++#@@@#';::;+######':,.,,,::;;;;''++##@@@###+++@#@@@@@@@@@#+'::;::::;;\n",
      ";;;;;;;:;;:;:;::'+###@@+;:;'####@@+;:,,,,:,:;;;;'+#+##@@####;'+#@@@@@@@@@####;;:;;;;;;\n",
      ";;;;;;;;;;;;:::;';+###@++''++#######;::,::::;;;;'+###@#@+##;::'+@@@@@@@@@@@@#';;;;;;;;\n",
      ";;:;;;;;;;;:;::;''++#@###+###+''#####';::::;;;;'+#####@#+++,::'+##@@@@@@@@@@#+;;;;;;;;\n",
      ";;;;;;;;;;;;;;:;;;'++@#@@@@##+::'+#@@##+;'::;;;''####@#+++',,:;''@@@@@@@@@@#++;;;;;;;;\n",
      ";;;;;;;;;;;;;;;;;;;''##@@#####+'#+''##@#+':::;'+++#@@@@+'+..,,:;;+@@@@@@@@@#''';;;;;;;\n",
      ";;;;;;;;;;;;;;;:;:;;++##@#+;##@##++#+###';::;'++##@@#@@+'',..,:::'@@@@@@@@###';;;';';'\n",
      ";;;;;;;;;;;;;;;;:;;;;++#@#';+:,:..::,.:;:::;;+####@@#@+'+...,.,,,;+#@@@@@@##++';;;;;';\n",
      ";;;;;;;;;;;;;:;;;;;;;;;#@#+'+#'';';;,:::::;''++###@@@#+',`..,,,,,:;+@@@@@@##'';;;;';''\n",
      ";;;;;;;;;;;;;;;;::;:;;;+##+''+###+':;::;:;:'++#####@@+',``....,.,,:'@#@@#@#+';''';'';;\n",
      ";;;;;;;;;;;;';;;;;;:;;;'##+''''';+;::;;;;'++####@#@@+',````..,,.,,,;+#@##+++'';;;';;;'\n",
      ";;;;;;;;';;;;;;;;;;;;;;'###'+;:;,,::::;''+####@@@##+':``````.....,.:'###++++''';';''''\n",
      ";;;';';;;;;;;;;;;;;;;;;'#@##+';;:::;;;'++##+##@##@+',``````....,.,.,;##+++''';''';''';\n",
      ";;;;;;;;;;;;;;;;;;;;;;;'+###+';;;'';;'++####@##@#+',````````...,.,.,##'';'''''''';''';\n",
      ";;;;;;';'';;;;;;;;;;;;;;'##@#+++''''++++#@#@@@@#+',`````````........@@#';';'''''';;'''\n",
      ";;;;;';';';;;;;;;;;;;;::;+#@##+++'++######@##@#'',``````````.`..``.`@@@@#';;;'''''''';\n",
      ";;;;;;;';';;';;;;;;;;':::;######++++#####@@@@#'',`````````````.....:@@@@@#+;;'''''''''\n",
      "';;';';';;';';;;;;;;;,,,,:#@@####+###@@#@@@@+;;.```````````.``.``.`@@@@@@@##''''''''''\n",
      ";;'';';';;'';;;;;;;;;..,::;+#@@######@@@@@#+':.``` ```````.``.```.`@@@@@@@@@#+'';'''''\n",
      ";;;;';;'';;;;;;;;';',..,,,:'#@@#####@@@@@#+;,.`````````````..`````#@@@@@@@@@@#+'''''''\n",
      "';;';;'''''';;;;''@;..,,.,,:##@@@@@@@@@#;:;,```   ````````.`````..@@@@@@@@@@@@##''''''\n",
      ";;;;;'';'';;;;;'#@@,..,,....;#@@@@@@@#',,,.``` ` ``````````````..@@@@@@@@@@@@@#@#'''''\n",
      ";;;;;';;;'''''+@@@#.....,...,:#####@#;,:.`` ```````````````````.+@@@@@@@@@@@@@@@@@''''\n",
      ";;;;'';';;+#'#@@@@',.......``.:'###,.,,.``    ``` `````````.```:@@@@@@@@@@@####@@#@@''\n",
      ";;;;;''''##+@#@@#@,.....`.````.';.....```    `````````````````:@@@@@@@@@@@@@@@@@@@@###\n",
      ";;;;;;;'++#@#@@@@@,.....`.`` ``:.``.````      `````````.`````:@@@@@@@@@@@@@@@@@@@@@@@@\n",
      ";;;;;'####@#@@@@##...`.....````,:`.``        `````````..``.`;@@@##@@@@@@@@@@@@@@@@@@@@\n",
      ";;;;;##@#@@###@@@;......````` `.;```     `````````````.`.``+@@@###@@##@@#@@@@@@#####@@\n",
      ";;;'++@++#@@##@#@,..`.,``#@@+ `.;,`  `  ```````````......`#@@@@@@#@@+#@##@#@@+#@@@@@@@\n",
      ";;;'#+@#@#@#@####,:....;@@@@@...'. `.,``@;`````.```.....`@#@@@@##@@+#@##@#@#+#@@@@@@@@\n",
      "';'####+@@@@#@#@:,:@@@@#@@@@@`#.,#@@@+`@@@@;,.``.`......@#@@##@##@++@@#@@@#+#@@###@#@@\n",
      ";;###@@@@@@@####@@@#@@@@@@@@#+@;@@@@@',@@@@@@@......`.,@#@@@####@#+#@#@@@+#@@####@#@@@\n",
      "'#@#@@@@@@@@@##@#@@@@#####@#:@#####@#:+@@@@@@#@.,.,..:@##@#++####+###@#@+@@##+@#@####@\n",
      "@###@#@@#@@##@##########+@+@:@#@###@#;@@@@@@@@@@`...,@###@++###@++@###@++@@+##@@+@#@##\n",
      "@#@#@#@@@#@@###+######@##+#+@@+@@@@##+@@@@@@@@@@@'..@@####+##+#######@'+@#########@@+#\n",
      "###@@#@@#@#####@########@+#,#+#@##@#@##@@#@@@@@@@@@@#@++#++@###+####@++@#@+####@@+#@@@\n",
      "#@##@@@@#@@#+#########@####@#'@###@###+@@@@@#@@#@@@###'##'##+#+#++#@#+#@######@++@@@#@\n",
      "@####@@#@####+#########+#+:#@#@###@#@#:@################+##+##+#+#+#'+@###++##'+@@@#+#\n",
      "@@#@##@#@###+##+#+#+#@#####+@@@#@@@+@#:#######++###########+###++##+'#@##@##';#@@+####\n",
      "##@###@#@@###@@+#+#+#+###;@+#+#@@##+@#:######++#++########+####+#+#+@##+##@;'@@@#+'+##\n",
      "##@@#@@@@#@@@###+#+#####+:+#'@##+@####+####+++##'#######+##+##+#+#+'@@#++#+'@@@###++##\n"
     ]
    }
   ],
   "source": [
    "fh = open('.secret_message', 'r')\n",
    "\n",
    "max_line_width = 86 # some displays may not be wide enough to see the image\n",
    "\n",
    "for line in fh:\n",
    "    print line.strip()[:max_line_width]"
   ]
  },
  {
   "cell_type": "markdown",
   "metadata": {},
   "source": [
    "### 7. Pairwise Combinations\n",
    "Write a function that takes a list of names (say, the names of the instructors and TA's: James, David, Chris, Debora, Sumayah, Dat, Gunjan), write each possible pair of names, separated by hyphens '-----', to a file, like below:  \n",
    "James-----David  \n",
    "James-----Chris"
   ]
  },
  {
   "cell_type": "code",
   "execution_count": 17,
   "metadata": {
    "collapsed": false
   },
   "outputs": [],
   "source": [
    "def TA_name_writer(TA_list, fname):\n",
    "\n",
    "    f = open(fname, 'w')\n",
    "\n",
    "    # Use TA_list[:-1] since the last TA will\n",
    "    # already have been paired with all other TAs.\n",
    "    # Use enumerate to keep track of which TA\n",
    "    # we are on to avoid duplicates.\n",
    "    for i, TA in enumerate(TA_list[:-1]):\n",
    "        # TAs <= i have already been paired\n",
    "        # with all TAs >= i+1.\n",
    "        for TA2 in TA_list[i+1:]:\n",
    "            f.write('{}-----{}\\n'.format(TA, TA2))\n",
    "\n",
    "    f.close()\n",
    "    \n",
    "TAs = ['James', 'David', 'Chris', 'Debora', 'Dat', 'Sumayah', 'Gunjan']\n",
    "file_name = 'TA_names.txt'\n",
    "TA_name_writer(TAs, file_name)"
   ]
  },
  {
   "cell_type": "markdown",
   "metadata": {},
   "source": [
    "### 8. String Mutations\n",
    "Write a function that takes the last output file, reads it in, then write the lines back out (to a new file) in reverse order, in all capital letters."
   ]
  },
  {
   "cell_type": "code",
   "execution_count": 18,
   "metadata": {
    "collapsed": false
   },
   "outputs": [],
   "source": [
    "def reverse_TA_names(infile, outfile):\n",
    "    infh = open(infile, 'r')\n",
    "    outfh = open(outfile, 'w')\n",
    "\n",
    "    for line in infh:\n",
    "        line = line.upper()\n",
    "        # We need to strip the \\n before reversing,\n",
    "        # otherwise the \\n will come at the beginning of the line.\n",
    "        line = line.strip()[::-1] # remember that with slicing [x,y,s], s is the step\n",
    "        outfh.write(line+'\\n')\n",
    "\n",
    "    infh.close()\n",
    "    outfh.close()\n",
    "\n",
    "input_file = 'TA_names.txt'\n",
    "output_file = 'TA_names_reversed.txt'\n",
    "reverse_TA_names(input_file, output_file)"
   ]
  },
  {
   "cell_type": "markdown",
   "metadata": {},
   "source": [
    "### 9. Parse a FASTA file\n",
    "Using any text editor, copy the text below into a text file and save it as *seq.fasta*\n",
    "\n",
    "```\n",
    ">gene1\n",
    "ATGAGACGTAGTGCCAGTAGCGCGATGTAGCG\n",
    "ATGACGCATGACGCGCGACGCGCGAGTGAGCC\n",
    "ATACGCACGCATTGGCA\n",
    ">gene2\n",
    "ATGTTCGACGCATACGACGCGCAGTACCAGCA\n",
    "ATGACGCACCGGGATACACGACGCGGATTTTT\n",
    "ACGCACCGAGATAGCATAAAAGACCATTAG\n",
    ">gene3\n",
    "TTATGGCACCCACTAGAGCCAGATTATTTTAAA\n",
    "```\n",
    "\n",
    "Write a function that will open the fasta file, read the lines, and return the data as a dictionary keyed by gene with the sequences as values. Make sure the sequences are contiguous (i.e. contain no endline ('\\n') characters), and make sure to remove the > from the names of the genes."
   ]
  },
  {
   "cell_type": "code",
   "execution_count": 14,
   "metadata": {
    "collapsed": false
   },
   "outputs": [
    {
     "name": "stdout",
     "output_type": "stream",
     "text": [
      "{'gene1': 'ATGAGACGTAGTGCCAGTAGCGCGATGTAGCGATGACGCATGACGCGCGACGCGCGAGTGAGCCATACGCACGCATTGGCA', 'gene2': 'ATGTTCGACGCATACGACGCGCAGTACCAGCAATGACGCACCGGGATACACGACGCGGATTTTTACGCACCGAGATAGCATAAAAGACCATTAG', 'gene3': 'TTATGGCACCCACTAGAGCCAGATTATTTTAAA'}\n",
      "{'gene1': 'ATGAGACGTAGTGCCAGTAGCGCGATGTAGCGATGACGCATGACGCGCGACGCGCGAGTGAGCCATACGCACGCATTGGCA', 'gene2': 'ATGTTCGACGCATACGACGCGCAGTACCAGCAATGACGCACCGGGATACACGACGCGGATTTTTACGCACCGAGATAGCATAAAAGACCATTAG', 'gene3': 'TTATGGCACCCACTAGAGCCAGATTATTTTAAA'}\n"
     ]
    }
   ],
   "source": [
    "def parse_fasta(infile):\n",
    "    fh = open(infile, 'r')\n",
    "\n",
    "    # First instantiate a dictionary to fill with your data\n",
    "    genes = {}\n",
    "\n",
    "    for line in fh:\n",
    "        line = line.strip()\n",
    "        if line.startswith('>'):\n",
    "            ID = line[1:] # removes the '>'\n",
    "            genes[ID] = '' # create an empty entry in your dictionary\n",
    "        else:\n",
    "            genes[ID] += line # append to the last entry\n",
    "\n",
    "    return genes\n",
    "\n",
    "\n",
    "# Alternate solution - this version works much faster than the previous!\n",
    "def parse_fasta_fast(infile):\n",
    "    fh = open(infile, 'r')\n",
    "\n",
    "    genes = {}\n",
    "\n",
    "    # Appending to a list is much, much faster than concatenating strings.\n",
    "    for line in fh:\n",
    "        line = line.strip()\n",
    "        if line.startswith('>'):\n",
    "            ID = line[1:]\n",
    "            genes[ID] = []\n",
    "        else:\n",
    "            # append vs concatenation\n",
    "            genes[ID].append(line)\n",
    "            \n",
    "    # Turn the dictionary of lists into a dictionary of strings with the join method.\n",
    "    for gene in genes:\n",
    "        genes[gene] = ''.join(genes[gene])\n",
    "    return genes\n",
    "\n",
    "fasta_file = 'seq.fasta'\n",
    "fasta_dict = parse_fasta(fasta_file)\n",
    "print fasta_dict\n",
    "fasta_dict = parse_fasta_fast(fasta_file)\n",
    "print fasta_dict"
   ]
  },
  {
   "cell_type": "code",
   "execution_count": 16,
   "metadata": {
    "collapsed": false
   },
   "outputs": [
    {
     "name": "stdout",
     "output_type": "stream",
     "text": [
      "17\n",
      "576874\n",
      "CPU times: user 9.24 s, sys: 2.49 s, total: 11.7 s\n",
      "Wall time: 11.8 s\n"
     ]
    }
   ],
   "source": [
    "%%time\n",
    "## The magic function %%time will tell you how long a given cell takes to run\n",
    "\n",
    "##lets try these on a large file!\n",
    "large_fasta = '../1.1_Why_We_Program/Yeast_Genome.fasta'\n",
    "\n",
    "test = parse_fasta(large_fasta)\n",
    "print len(test.keys())\n",
    "print len(test[test.keys()[0]])"
   ]
  },
  {
   "cell_type": "code",
   "execution_count": 17,
   "metadata": {
    "collapsed": false
   },
   "outputs": [
    {
     "name": "stdout",
     "output_type": "stream",
     "text": [
      "17\n",
      "576874\n",
      "CPU times: user 144 ms, sys: 8 ms, total: 152 ms\n",
      "Wall time: 170 ms\n"
     ]
    }
   ],
   "source": [
    "%%time\n",
    "test = parse_fasta_fast(large_fasta)\n",
    "print len(test.keys())\n",
    "print len(test[test.keys()[0]])"
   ]
  },
  {
   "cell_type": "code",
   "execution_count": null,
   "metadata": {
    "collapsed": true
   },
   "outputs": [],
   "source": []
  }
 ],
 "metadata": {
  "anaconda-cloud": {},
  "kernelspec": {
   "display_name": "Python [default]",
   "language": "python",
   "name": "python2"
  },
  "language_info": {
   "codemirror_mode": {
    "name": "ipython",
    "version": 2
   },
   "file_extension": ".py",
   "mimetype": "text/x-python",
   "name": "python",
   "nbconvert_exporter": "python",
   "pygments_lexer": "ipython2",
   "version": "2.7.12"
  }
 },
 "nbformat": 4,
 "nbformat_minor": 0
}
