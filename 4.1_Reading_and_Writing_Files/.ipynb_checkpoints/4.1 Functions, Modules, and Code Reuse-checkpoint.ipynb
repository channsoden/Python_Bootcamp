{
 "cells": [
  {
   "cell_type": "markdown",
   "metadata": {},
   "source": [
    "# Functions and Modules\n",
    "\n",
    "## Topics:\n",
    "- Function definitions\n",
    "- Function documentation\n",
    "- Functions within functions\n",
    "- Modules\n",
    "- Modules of Interest: sys, math, collections\n",
    "- Making your own libraries\n",
    "\n",
    "## Introduction\n",
    "\n",
    "This afternoon we'll concentrate on our last fundamental programming concept for the course. To date, we've been writing all of our program logic in the main body of our scripts. And we've seen how built-in python __functions__ like __raw_input()__ are used to operate on variables and their values. In this session, we'll learn how to write __functions__ of our own, how to properly document them for ourselves and other users, and how to collect them into __modules__, and make our own local repositories, or __libraries__.\n",
    "\n",
    "If you properly leverage a well-designed function, writing the main logic of your programs becomes almost-too-easy. Instead of writing out meticulous logical statements and loops for every task, you just call forth your previously-crafted logic, which you've vested in well-made __functions__.\n",
    "\n",
    "## Functions\n",
    "\n",
    "Functions are the basic means to manage complexity in your programs, allowing you to avoid nesting and repeating large chunks of code that could otherwise make your tasks unmanageable. They allow you to bundle code with a defined input and output into single lines, and you should use them frequently from now on."
   ]
  },
  {
   "cell_type": "code",
   "execution_count": 1,
   "metadata": {
    "collapsed": false
   },
   "outputs": [
    {
     "name": "stdout",
     "output_type": "stream",
     "text": [
      "Hello Zaphod Beeblebrox!\n"
     ]
    }
   ],
   "source": [
    "#!/usr/bin/env python\n",
    " \n",
    "# define the function\n",
    "def hello(name):\n",
    " greeting = \"Hello %s!\" % (name)\n",
    " return greeting\n",
    " \n",
    "# use the function\n",
    "functionInput = 'Zaphod Beeblebrox'\n",
    "functionOutput = hello(functionInput)\n",
    "print functionOutput"
   ]
  },
  {
   "cell_type": "markdown",
   "metadata": {},
   "source": [
    "To define a function, you use the keyword __def__. Then comes the function name, in this case __hello__, with parentheses containing any input __arguments__ the function might need. In this case, we need a name to form a proper greeting, so we're giving the __hello()__ function a variable __argument__ called __name__. After that, the function does its thing, executing the indented block of code immediately below. In this case, it creates a greeting _Hello \"name\"!_. The last thing that it does is return that greeting to the rest of the program.\n",
    "\n",
    "Technically speaking, a function does not need to explicitly return something, although it's uncommon that you'll write any that don't. If you don't return something explicitly, Python will nevertheless return the special object None. None is logically false (for if statements), and printing None will result in nothing being printed (although None is not the empty string). It's easy to forget to return a value, so this is an easy first thing to check in case your functions don't work as expected."
   ]
  },
  {
   "cell_type": "code",
   "execution_count": 2,
   "metadata": {
    "collapsed": false
   },
   "outputs": [
    {
     "name": "stdout",
     "output_type": "stream",
     "text": [
      "None\n"
     ]
    }
   ],
   "source": [
    "#!/usr/bin/env python\n",
    " \n",
    "# define the function\n",
    "def hello(name):\n",
    " greeting = \"Hello %s!\" % (name)\n",
    " ##return greeting\n",
    " \n",
    "# use the function\n",
    "functionInput = 'Zaphod Beeblebrox'\n",
    "functionOutput = hello(functionInput)\n",
    "print functionOutput"
   ]
  },
  {
   "cell_type": "markdown",
   "metadata": {},
   "source": [
    "Note that the variable names are different on the inside and the outside of the function: I give it __functionInput__, although it takes __name__, and it returns __greeting__, although that return value is fed into __functionOutput__. I did this on purpose, as I want to emphasize that the function only knows to expect something, which it internally refers to as __name__, and then to give something else back. In fact, there is some insulation against the outside world, as you can see in this example:"
   ]
  },
  {
   "cell_type": "code",
   "execution_count": 4,
   "metadata": {
    "collapsed": false
   },
   "outputs": [
    {
     "name": "stdout",
     "output_type": "stream",
     "text": [
      "Inside of the function: The hotel room is a mess, there's a chicken hangin'\n",
      "                   out, somebody's baby is in the closet, there's a\n",
      "                   tiger in the bathroom that Mike Tyson wants back, Stu\n",
      "                   lost a tooth and eloped, and Doug is missing.\n",
      "Outside of the function: What happens in Vegas stays in Vegas.\n"
     ]
    }
   ],
   "source": [
    "#!/usr/bin/env python\n",
    " \n",
    "def hello(name):\n",
    " greeting = \"Hello %s!\" % (name)\n",
    " testVariable = \"\"\"The hotel room is a mess, there's a chicken hangin'\n",
    "                   out, somebody's baby is in the closet, there's a\n",
    "                   tiger in the bathroom that Mike Tyson wants back, Stu\n",
    "                   lost a tooth and eloped, and Doug is missing.\"\"\"\n",
    " print 'Inside of the function:', testVariable\n",
    " return greeting\n",
    " \n",
    "testVariable = \"What happens in Vegas stays in Vegas.\"\n",
    "grt = hello(\"Stu Price\")\n",
    "print 'Outside of the function:', testVariable"
   ]
  },
  {
   "cell_type": "markdown",
   "metadata": {},
   "source": [
    "Even though the epic story of a bachelor party gone horrifically awry was assigned to a variable called __testVariable__ inside the function, nothing happened to that variable outside the function. Variables created inside a function occupy their own __namespace__ in memory distinct from variables outside of the function, and so reusing names between the two can be done without you having to keep track of it. (Refer to the article http://bytebaker.com/2008/07/30/python-namespaces/ about __namespace__ for more information.) That means you can use functions written by other people without having to keep track of what variables those functions are using internally. Just like a sleazy town in Nevada, what happens in the function stays in the function. (An important exception lies with lists and dictionaries, which you will examine in the exercises.)\n",
    "\n",
    "What happens if you try to print testVariable outside of the function and you don't assign anything to it?\n",
    "\n",
    "Let's have another example, returning to a more pressing subject:"
   ]
  },
  {
   "cell_type": "code",
   "execution_count": 6,
   "metadata": {
    "collapsed": false
   },
   "outputs": [
    {
     "name": "stdout",
     "output_type": "stream",
     "text": [
      "good ramen\n"
     ]
    }
   ],
   "source": [
    "#!/usr/bin/env python\n",
    " \n",
    "def whichFood(balance):\n",
    "    if balance < 10:\n",
    "        return 'ramen'\n",
    "    elif balance < 100:\n",
    "        return 'good ramen'\n",
    "    elif balance < 200:\n",
    "        return 'better ramen'\n",
    "    else:\n",
    "        return 'ramen that is truly profound in its goodness'\n",
    " \n",
    "print whichFood(14)"
   ]
  },
  {
   "cell_type": "markdown",
   "metadata": {},
   "source": [
    "Here we've made a slightly more complicated function-- it contains some control statements, and there is more than one way for it to __return__. We also never explicitly create an input variable (as we did with __functionInput__ in the first example), and we don't store the output to a variable either (as we did with __functionOutput__).\n",
    "\n",
    "Here are a few more examples of the syntax used with functions:"
   ]
  },
  {
   "cell_type": "code",
   "execution_count": 7,
   "metadata": {
    "collapsed": false
   },
   "outputs": [
    {
     "name": "stdout",
     "output_type": "stream",
     "text": [
      "What was the point of that?\n",
      "\n",
      "0\n",
      "1\n",
      "2\n",
      "3\n",
      "4\n",
      "5\n",
      "6\n",
      "7\n",
      "8\n",
      "9\n",
      "\n",
      "Call function within function\n",
      "Let's use the function useless()\n",
      "What was the point of that?\n",
      "\n"
     ]
    }
   ],
   "source": [
    "#!/usr/bin/env python\n",
    " \n",
    "# functions can do their thing without taking input or returning output\n",
    " \n",
    "def useless():\n",
    "    print 'What was the point of that?'\n",
    "    print\n",
    " \n",
    "useless()\n",
    " \n",
    "def countToTen():\n",
    "    for i in range(10):\n",
    "        print i\n",
    " \n",
    "countToTen()\n",
    "print\n",
    " \n",
    "print \"Call function within function\"\n",
    "def calluseless():\n",
    "    print \"Let's use the function useless()\"\n",
    "    useless()\n",
    " \n",
    "calluseless()"
   ]
  },
  {
   "cell_type": "markdown",
   "metadata": {},
   "source": [
    "Notice that what you print inside the function gets printed if you call on the function, even if you don't return anything. However, it won't print anything inside the function unless you call on the function. Finally, you can call on functions from inside functions!\n",
    "\n",
    "We've shown examples with one input variable and one return value, but functions can accept zero input variables, one input variable, or multiple input variables, and functions don't necessarily need to return variables back to the program, but they are also capable of returning multiple variables.\n",
    "\n",
    "Here's an example with multiple input variables and multiple output variables.\n"
   ]
  },
  {
   "cell_type": "code",
   "execution_count": 8,
   "metadata": {
    "collapsed": false
   },
   "outputs": [
    {
     "name": "stdout",
     "output_type": "stream",
     "text": [
      "Starting amount of Tide: 5\n",
      "Let's do some laundry!\n",
      "Amount of Tide left: 2\n",
      "['socks', 'shirts', 'pants']\n"
     ]
    }
   ],
   "source": [
    "#!/usr/bin/env python\n",
    " \n",
    "# functions can also take multiple items in and return multiple items out\n",
    " \n",
    "def doLaundry(amtDetergent, dirtyClothes):\n",
    "    cleanClothes = []\n",
    "    for load in dirtyClothes:\n",
    "        amtDetergent -= 1\n",
    "        cleanClothes.append(load)\n",
    "    return (amtDetergent, cleanClothes)\n",
    " \n",
    "amtTide = 5\n",
    "print \"Starting amount of Tide:\",amtTide\n",
    "print \"Let's do some laundry!\"\n",
    "dirtyLaundry = ['socks','shirts','pants']\n",
    "(amtTide, cleanLaundry) = doLaundry(amtTide, dirtyLaundry)\n",
    "print \"Amount of Tide left:\", amtTide\n",
    "print cleanLaundry\n",
    " \n",
    "#What happens if you only give this function one argument, or more than two arguments?\n",
    "#What happens when you output to just one variable, rather than a tuple of two variables?\n",
    " \n",
    " "
   ]
  },
  {
   "cell_type": "markdown",
   "metadata": {},
   "source": [
    "Above, in __doLaundry()__, I returned a __tuple__ of the two variables enclosed in parenthesis. You could also return a __list__, which works much the same way. You could return other objects as well, like __dictionaries__. Below is an example where we return a list."
   ]
  },
  {
   "cell_type": "code",
   "execution_count": 9,
   "metadata": {
    "collapsed": false
   },
   "outputs": [
    {
     "name": "stdout",
     "output_type": "stream",
     "text": [
      "<type 'list'>\n",
      ">Gene1\n",
      "ATGGTGGG\n",
      ">Gene1\n",
      "ATGGTGGG\n",
      "['>Gene1', 'ATGGTGGG']\n",
      "{'Gene1': 'ATGGTGGG'}\n"
     ]
    }
   ],
   "source": [
    "#!/usr/bin/env python\n",
    " \n",
    "def returnStuff():\n",
    "    a = '>Gene1'\n",
    "    b = 'ATGGTGGG'\n",
    "    return [a,b] # returns the output as a list\n",
    " \n",
    "print type(returnStuff())\n",
    "# We can index the output the same as any list\n",
    "print returnStuff()[0]\n",
    "print returnStuff()[1]\n",
    " \n",
    "(name, seq) = returnStuff()\n",
    "# stores output to the variables name & seq, so you can access name and seq directly\n",
    "print name\n",
    "print seq\n",
    " \n",
    "both = returnStuff()\n",
    "# stores the output to the variable both which will be a list\n",
    "print both\n",
    " \n",
    "dictOfStuff = {}\n",
    "dictOfStuff[returnStuff()[0][1:]] = returnStuff()[1]\n",
    "print dictOfStuff"
   ]
  },
  {
   "cell_type": "markdown",
   "metadata": {},
   "source": [
    "Let's take a short break!\n",
    "\n",
    "\n",
    "So how do functions make our lives easier? We can exploit functions to break difficult tasks into a number of easier tasks, and then these easier tasks into ones easier still, and so on. Large code blocks, with a few function calls, are only tens of lines long, and many functions are only a handful of lines. This allows us to program in large, structural sweeps, rather than getting lost in the details. This makes programs both easier to write and easier to read:"
   ]
  },
  {
   "cell_type": "code",
   "execution_count": null,
   "metadata": {
    "collapsed": true
   },
   "outputs": [],
   "source": [
    "##Don't copy this into a script!\n",
    " \n",
    "def publishAPaper(authors,topic,journal):\n",
    " data = doWork(topic)\n",
    " figures = analyze(data)\n",
    " paper = writePaper(data,figures)\n",
    " submit(authors,paper,journal)"
   ]
  },
  {
   "cell_type": "markdown",
   "metadata": {},
   "source": [
    "And, a big part of that ease comes with the use of:\n",
    "\n",
    "## Modules\n",
    "\n",
    "In all of the examples above, we defined our functions right above the code that we hoped to execute. If you have many functions, you can see how this would get messy in a hurry. Furthermore, part of the benefit of functions is that you can call them multiple times within a program to execute the same operations without tiresomely writing them all out again. But wouldn't it be nice to share functions across programs, too? For example, working with genomic data means lots of time getting sequence out of FASTA files, and shuttling that sequence from program to program. Many of the programs we work with overlap to a significant degree, as they need to parse FASTA files, calculate evolutionary rates, and interface with our lab servers, for example -- all of which means that many of them share functions. And if the same function exists in two or more different programs, we hit the same problems that we hit before: complex debugging, decreased readability, and, of course, too much typing.\n",
    "\n",
    "__Modules__ solve these problems. In short, they're collections of functions and variables (and often objects, which we'll get to towards the end of the course) that are kept together in a single file that can be read and imported by any number of programs.\n",
    "\n",
    "### Using a module: the basics\n",
    "\n",
    "To illustrate the basics, we'll go through the use of two modules, __sys__ and __math__, one of which we use almost all the time. In fact, it's a very rare program indeed that doesn't use the __sys__ module. __sys__ contains a lot of really esoteric functions, but it also contains a simple, everyday thing -- what you typed on the command line.\n",
    "\n",
    "Copy the following into testmodules.py"
   ]
  },
  {
   "cell_type": "code",
   "execution_count": 11,
   "metadata": {
    "collapsed": false
   },
   "outputs": [
    {
     "name": "stdout",
     "output_type": "stream",
     "text": [
      "['/Library/Frameworks/Python.framework/Versions/2.7/lib/python2.7/site-packages/ipykernel/__main__.py', '-f', '/Users/mel/Library/Jupyter/runtime/kernel-fba1c82b-0f6b-44fb-aafb-2f9a1bd251ab.json']\n"
     ]
    }
   ],
   "source": [
    "#!/usr/bin/env python\n",
    " \n",
    "import sys # gaining access to the module\n",
    " \n",
    "# you can access variables stored in the module by using a dot\n",
    "# to get at the variable 'argv' which is stored in 'sys', type:\n",
    " \n",
    "commandLine = sys.argv\n",
    " \n",
    "print commandLine"
   ]
  },
  {
   "cell_type": "markdown",
   "metadata": {},
   "source": [
    "The __sys__ module contains a variable __argv__, which is a list of strings composed of what was written into the command line, where each of the different strings are separated by whitespaces. We can access this list __argv__ from our program by importing the module sys and calling __sys.argv__.\n",
    "\n",
    "Above, we accessed a variable. We can also access functions stored inside modules. To demonstrate this, I'll use the module __math__.\n"
   ]
  },
  {
   "cell_type": "code",
   "execution_count": null,
   "metadata": {
    "collapsed": true
   },
   "outputs": [],
   "source": [
    "#!/usr/bin/env python\n",
    " \n",
    "import sys\n",
    "import math\n",
    " \n",
    "# sys.argv contains only strings, even if you type integers.\n",
    "# And, remember, the first element is the command itself-- usually\n",
    "# not very useful.\n",
    " \n",
    "x = float(sys.argv[1]) # argv stores the command line arguments as\n",
    "                       # strings, but python isn't especially clever,\n",
    "                       # so we can't do math with strings\n",
    "logX = math.log(x)\n",
    " \n",
    "print logX"
   ]
  },
  {
   "cell_type": "markdown",
   "metadata": {},
   "source": [
    "Great! Not so hard.\n",
    "\n",
    "### Modules have more than just functions: The collections module\n",
    "\n",
    "We already knew this: sys.argv is a list. Another thing that modules often contain is datatypes. Just as Python has some built-in datatypes (like int, list, str, and dict), it's also possible (although outside the scope of this course) to create full-fledged data types of your own.\n",
    "\n",
    "One of the more useful of these is the collections module. It has a bunch of new data types that are, as you might guess from the name, collections of other things. There are two of them that I use with some regularity: Counter and defaultdict. Let's start with Counter, which counts things."
   ]
  },
  {
   "cell_type": "code",
   "execution_count": 13,
   "metadata": {
    "collapsed": false
   },
   "outputs": [
    {
     "name": "stdout",
     "output_type": "stream",
     "text": [
      "Counter({'Lactobacillus': 3, 'Oryza': 2, 'Drosophila': 1, 'Escherichia': 1, 'Rattus': 1, 'Wolbachia': 1, 'Helicobacter': 1})\n",
      "Counter({'Lactobacillus': 3, 'Oryza': 2, 'Drosophila': 1, 'Escherichia': 1, 'Rattus': 1, 'Wolbachia': 1, 'Helicobacter': 1})\n"
     ]
    }
   ],
   "source": [
    "#!/usr/bin/env python\n",
    " \n",
    "import collections\n",
    " \n",
    "my_genera = ['Helicobacter', 'Escherichia', 'Lactobacillus', 'Lactobacillus', 'Oryza',\n",
    " 'Wolbachia', 'Oryza', 'Rattus', 'Lactobacillus', 'Drosophila']\n",
    " \n",
    "c = collections.Counter(my_genera)\n",
    "print c\n",
    "##Note that placing the list into Counter() immediately gets you the count.\n",
    " \n",
    "d = collections.Counter()\n",
    "for genus in my_genera:\n",
    "    d[genus] += 1\n",
    " \n",
    "print d\n",
    "##Here, a Counter is initialized, but each of the keys in Counter do not need to be initialized as well before adding to its value.\n",
    " \n",
    " "
   ]
  },
  {
   "cell_type": "markdown",
   "metadata": {},
   "source": [
    "The collections module gives us a new data type, __Counter__, that counts things. It is essentially a dictionary where the key is some element we are recording and the value is the count of how often it appears. Remember that list of amino acids we got the count for in the exercises in Section 2.1? There, we created a __dictionary__ where every key was initialized with a value of zero, and then proceeded to add one for each observance. Here, we can just use the __Counter__ data type to get the count of each unique element in the list.\n"
   ]
  },
  {
   "cell_type": "code",
   "execution_count": 14,
   "metadata": {
    "collapsed": false
   },
   "outputs": [
    {
     "name": "stdout",
     "output_type": "stream",
     "text": [
      "The dictionary {'Lactobacillus': 3, 'Oryza': 2, 'Drosophila': 1, 'Escherichia': 1, 'Rattus': 1, 'Wolbachia': 1, 'Helicobacter': 1}\n"
     ]
    }
   ],
   "source": [
    "##This is how we did a count in a dictionary. Many more lines of code!\n",
    "e = {}\n",
    " \n",
    "for genus in my_genera:\n",
    "    if genus not in e:\n",
    "        e[genus] = 0\n",
    "    e[genus] += 1\n",
    " \n",
    "print \"The dictionary\", e"
   ]
  },
  {
   "cell_type": "markdown",
   "metadata": {},
   "source": [
    "Using a Counter is faster to write and makes it more obvious that we are counting, as opposed to a dictionary, which could be used for almost anything. Another big advantage of the Counter type is that it makes it really easy to sort by frequency:"
   ]
  },
  {
   "cell_type": "code",
   "execution_count": 15,
   "metadata": {
    "collapsed": false
   },
   "outputs": [
    {
     "name": "stdout",
     "output_type": "stream",
     "text": [
      "Counter({'Lactobacillus': 3, 'Oryza': 2, 'Drosophila': 1, 'Escherichia': 1, 'Rattus': 1, 'Wolbachia': 1, 'Helicobacter': 1})\n",
      "[('Lactobacillus', 3), ('Oryza', 2), ('Drosophila', 1), ('Escherichia', 1), ('Rattus', 1), ('Wolbachia', 1), ('Helicobacter', 1)]\n"
     ]
    }
   ],
   "source": [
    "c = collections.Counter(my_genera)\n",
    " \n",
    "print c\n",
    "print c.most_common()"
   ]
  },
  {
   "cell_type": "markdown",
   "metadata": {},
   "source": [
    "__most_common()__ outputs a list of tuples, sorted in order by highest count to lowest count.\n",
    "\n",
    "The other collections type I really like is the __defaultdict__, which is also like a dictionary, but has a default type for a key that we haven't seen before (with a normal dictionary, if you try to read something where the key isn't in the dict, then you get an error). Let's think about how we'd make a dictionary where each key is a genus, and the value is a list of species in that genus:"
   ]
  },
  {
   "cell_type": "code",
   "execution_count": 17,
   "metadata": {
    "collapsed": false
   },
   "outputs": [
    {
     "name": "stdout",
     "output_type": "stream",
     "text": [
      "normal dictionary --  {'Lactobacillus': ['helveticus', 'acidophilus', 'casei'], 'Oryza': ['sativa', 'glabberima'], 'Drosophila': ['melanogaster'], 'Escherichia': ['coli'], 'Rattus': ['norvegicus'], 'Wolbachia': ['pipientis'], 'Helicobacter': ['pylori']}\n"
     ]
    }
   ],
   "source": [
    "import collections\n",
    " \n",
    "my_species_list = [('Helicobacter','pylori'), ('Escherichia','coli'),\n",
    "              ('Lactobacillus', 'helveticus'), ('Lactobacillus', 'acidophilus'),\n",
    "              ('Oryza', 'sativa'), ('Wolbachia', 'pipientis'), ('Oryza', 'glabberima'),\n",
    "              ('Rattus', 'norvegicus'), ('Lactobacillus','casei'),\n",
    "              ('Drosophila','melanogaster')]\n",
    " \n",
    "##Below, we put the list into a normal dictionary, with genera as keys and species as values\n",
    "d1 = {}\n",
    "for genus, species in my_species_list:\n",
    "    if genus not in d1:\n",
    "        d1[genus] = []\n",
    "    d1[genus].append(species)\n",
    " \n",
    "print \"normal dictionary -- \", d1"
   ]
  },
  {
   "cell_type": "markdown",
   "metadata": {},
   "source": [
    "With a defaultdict, we can once again save the line in the for loop where we check for a non-existent key:"
   ]
  },
  {
   "cell_type": "code",
   "execution_count": 18,
   "metadata": {
    "collapsed": false
   },
   "outputs": [
    {
     "name": "stdout",
     "output_type": "stream",
     "text": [
      "\n",
      "default dict --  defaultdict(<type 'list'>, {'Lactobacillus': ['helveticus', 'acidophilus', 'casei'], 'Oryza': ['sativa', 'glabberima'], 'Drosophila': ['melanogaster'], 'Escherichia': ['coli'], 'Rattus': ['norvegicus'], 'Wolbachia': ['pipientis'], 'Helicobacter': ['pylori']})\n"
     ]
    }
   ],
   "source": [
    "d2 = collections.defaultdict(list)\n",
    " \n",
    "for genus, species in my_species_list:\n",
    "    d2[genus].append(species)\n",
    " \n",
    "print\n",
    "print \"default dict -- \", d2"
   ]
  },
  {
   "cell_type": "markdown",
   "metadata": {},
   "source": [
    "One thing to look at is the line where we actually declare the defaultdict: here we've given it another type, and if we use a key that's not in the dictionary already, it will initialize it to be an empty variable of that type. Most often, this will be a list, but you could imagine uses for other types, like a string, an integer (here \"empty\" actually would mean 0), or even another dict. It's possible to even have a defaultdict of defaultdicts!\n",
    "\n",
    "It turns out that it's easy to write our own modules too:\n",
    "\n",
    "## Making a module\n",
    "\n",
    "Any file of python code with a _.py_ extension can be imported as a module from your script. When you invoke an import operation from a program, all the statements in the imported module are executed immediately. The program also gains access to names assigned in the file (names can be functions, variables, classes, etc.), which can be invoked in the program using the syntax __module.name__. Go ahead and make your first module by pasting the following code into your text editor and saving as _greeting_module.py_:"
   ]
  },
  {
   "cell_type": "code",
   "execution_count": 19,
   "metadata": {
    "collapsed": false
   },
   "outputs": [
    {
     "name": "stdout",
     "output_type": "stream",
     "text": [
      "The top of the greeting_module has been read.\n",
      "The bottom of the greeting_module has been read.\n"
     ]
    }
   ],
   "source": [
    "#!/usr/bin/env python\n",
    " \n",
    "print 'The top of the greeting_module has been read.'\n",
    " \n",
    "def hello(name):\n",
    " greeting = \"Hello %s!\" % name\n",
    " return greeting\n",
    " \n",
    "def ahoy(name):\n",
    " greeting = \"Ahoy-hoy %s!\" % name\n",
    " return greeting\n",
    " \n",
    "x = 5\n",
    " \n",
    "print 'The bottom of the greeting_module has been read.'\n",
    " "
   ]
  },
  {
   "cell_type": "markdown",
   "metadata": {},
   "source": [
    "Now make a new program called _test.py_ with the following code and include your first name as an argument in the Terminal command line when you execute it:"
   ]
  },
  {
   "cell_type": "code",
   "execution_count": null,
   "metadata": {
    "collapsed": true
   },
   "outputs": [],
   "source": [
    "#!/usr/bin/env python\n",
    " \n",
    "import greeting_module\n",
    " \n",
    "hi = greeting_module.hello('person')\n",
    "print hi\n",
    "print greeting_module.x\n",
    " \n",
    "# What happens if you try 'print x' here?\n",
    " \n",
    "# Remember how to access argv?\n",
    " \n",
    "import sys\n",
    " \n",
    "print greeting_module.hello(sys.argv[1])\n",
    "# This will take your Terminal argument as input for the greeting\n",
    "# module's hello function"
   ]
  },
  {
   "cell_type": "markdown",
   "metadata": {},
   "source": [
    "Notice that it runs through all of greeting module first, so anything that is printed out in _greeting_module.py_ is also printed out before anything in test.py is run.\n",
    "\n",
    "And that's it! See-- no more messy function declarations at the beginning of your script. Now if you need any other program to say hi to you, all you need to do is import the greeting module.\n",
    "\n",
    "Using modules: slightly more than just 'import'\n",
    "\n",
    "Although creating a basic module is easy, sometimes you want more than just the basics. And although using a module in the most basic manner is easy, it's best to get a more thorough picture of how modules behave.\n",
    "\n",
    "First, what if you only want one function from a given module? Let's say, as an Alexander Graham Bell loyalist, you really only dealt in 'ahoys' rather than 'hellos.' We need to use a modified syntax for retrieving _only_ the __ahoy__ function from the module, without cluttering things up by loading the newfangled __hello__ function preferred by T.A. Edison's entourage.\n",
    "\n",
    "Comment out the code in _test.py_ and copy in the following code:"
   ]
  },
  {
   "cell_type": "code",
   "execution_count": null,
   "metadata": {
    "collapsed": true
   },
   "outputs": [],
   "source": [
    "from greeting_module import ahoy\n",
    " \n",
    "hi = ahoy('everybody')\n",
    "# if you grab a function from a module with a 'from' statement,\n",
    "# you don't need to use the <module>.<function> syntax\n",
    "print hi"
   ]
  },
  {
   "cell_type": "markdown",
   "metadata": {},
   "source": [
    "We see that we can now write __ahoy('everybody')__ directly, instead of having to write __greeting_module.ahoy('everybody')__. And if we wanted to access both functions this way, we could import them both in one statement by changing the import line in _test.py_ to the following:"
   ]
  },
  {
   "cell_type": "code",
   "execution_count": null,
   "metadata": {
    "collapsed": true
   },
   "outputs": [],
   "source": [
    "#!/usr/bin/env python\n",
    "from greeting_module import ahoy, hello"
   ]
  },
  {
   "cell_type": "markdown",
   "metadata": {},
   "source": [
    "Or, what if there were a lot of functions from the __greeting_module__ we wanted to use, but didn't want to write out the full name? Rather than writing out all of the function names to import individually (there could be a lot of them), we can use the asterisk wildcard (*) symbol to refer to them."
   ]
  },
  {
   "cell_type": "code",
   "execution_count": null,
   "metadata": {
    "collapsed": true
   },
   "outputs": [],
   "source": [
    "#!/usr/bin/env python\n",
    "from greeting_module import *\n",
    " \n",
    "hi = ahoy('everybody')\n",
    "hi2 = hello('everybody')\n",
    " \n",
    "print hi\n",
    "print hi2"
   ]
  },
  {
   "cell_type": "markdown",
   "metadata": {},
   "source": [
    "While this may be useful if we are familiar with the contents of the __module__, including all of the __names__ inside, there are a few reasons to be careful about using the __from modulename import *__ syntax. First, if the module contains a lot of variables that we don't need to use, we will needlessly allocate memory to storing the information. Second, and perhaps more importantly, if the module being imported contains variables with the same names as those inside your program, you will lose access to the original values of those variables.\n",
    "\n",
    "For example, would might have a problem if both _yourprogram.py_ and _yourmodule.py_ each define distinct functions called __hello()__. If instead you use the syntax __import yourmodule__, then you can call the function in _yourprogram.py_ using __hello()__ and you can call the function in _yourmodule.py_ using __yourmodule.hello()__. If you want to import a whole module, but don't want to type out it's full name every time, you can use the syntax: __import a_long_module_name as mname__.\n",
    "\n",
    "Finally, you can also import variables from modules and assign them new names in your program using the syntax __from modulename import variablename as newvariablename__.\n",
    "\n",
    "## Where to Store Your Modules: using PYTHONPATH\n",
    "\n",
    "Over time, you'll end up accumulating lots of these modules, and they'll tend to fall together in meaningful collections. For example, you might have a module for all your functions related to reading and parsing files, called _files_tools.py_. You might have another for common sequence-related tasks, called _sequence_tools.py_. Python keeps its modules installed in a system directory that you may or may not have access to on a remote server. Therefore, it's useful and simpler to just create your own python modules directory and then let your operating system environment know about it. Here, I accomplish this by placing my modules in ~/pylib (~ is a shortcut to your own full home path, which you can find by typing pwd in your home folder) and then adding a few lines to my *.bash_profile* file in my home directory with the following terminal commands:\n",
    "\n",
    "echo 'PYTHONPATH=$PYTHONPATH:/Users/your_name/PythonCourse/pylib' >> ~/.bash_profile\n",
    "\n",
    "echo 'export PYTHONPATH' >> ~/.bash_profile\n",
    "\n",
    "source ~/.bash_profile__\n",
    "\n",
    "\n",
    "NOTE: *.bash_profile* vs. _.bashrc_: In Linux, *.bash_profile* is run upon login while _.bashrc_ is run each time a new terminal is open. Thus, if you are using Linux and it isn't working, try inputting the following commands and see if it works. This link http://www.joshstaiger.org/archives/2005/07/bash_profile_vs.html gives a pretty good summary of the difference in the two hidden files.\n",
    "\n",
    "echo 'PYTHONPATH='~/PythonCourse/pylib' >> ~/.bashrc\n",
    "\n",
    "echo 'export PYTHONPATH' >> ~/.bashrc\n",
    "\n",
    "source ~/.bashrc\n",
    "\n",
    "And with that, any file that ends up in this directory will be treated as a module by Python. And though this is a good final resting place for your polished modules, you can also prototype them by simply saving them in your current working directory, and moving them over when you're happy with them.\n",
    "\n"
   ]
  },
  {
   "cell_type": "markdown",
   "metadata": {},
   "source": [
    "## Exercises:\n",
    "\n",
    "__1. Practice with functions__\n",
    "\n",
    "Make a function that:\n",
    "\n",
    "A) Takes an integer x as input and prints x * 2.\n",
    "\n",
    "B) Takes integers x and y as input and prints x * y.\n",
    "\n",
    "C) Takes a list xs as input and prints xs[0] * xs[1].\n",
    "\n",
    "D) Modify the above programs so that the function returns the result instead of printing it, then the output is printed from program that called the function.\n",
    "\n",
    "\n",
    "__2. What happens in functions doesn't always stay in functions__\n",
    "\n",
    "As promised, most things that happen in functions stay in the functions, but there are important exceptions. Make the following functions, which should illustrate this property:\n",
    "\n",
    "A) The function takes an integer as input and increments the integer by one using the '+=' operator. Print the value of the integer before and after the function is called.\n",
    "\n",
    "B) The function takes a list as input and changes the first element of the list to the string 'x'. Print the value of the list before and after the function is called.\n",
    "\n",
    "C) The function takes a dictionary as input and adds the key 'x' with value 'y' to this dictionary. Print the dictionary before and after the function is called.\n",
    "\n",
    "\n",
    "__3. Reverse Complement__\n",
    "\n",
    "A) Write a function that takes a DNA sequence as an argument, ensures that it the sequence is in capital letters, and then returns the reverse complement of the sequence.\n",
    "\n",
    "B) Modify the function to ensure that only the characters A, T, G, C and N (for unknown nucleotide) are in the input sequence.\n",
    "\n",
    "\n",
    "__4. Making a module__\n",
    "\n",
    "If you haven't done so already during the lecture, create a directory in your PythonCourse directory called pylib, then add it to your PYTHONPATH. Create a module in this directory called exercises.py. Put your functions from Exercise 1, part D, into this module. Put the reverse complement function from Exercise 3 into this module. Add a print statement saying \"This is the exercises module\". Now write two programs (as described in part A and B) that import and call all of the functions in the module:\n",
    "\n",
    "A) A program that uses the line __import exercises__.\n",
    "\n",
    "B) A program that uses the line __from exercises import *__. What happens when you have print statements in _exercises.py_? Are they printed when you use the from statement?\n",
    "\n",
    "__5. Make a FASTA parser__\n",
    "\n",
    "Copy the _seq.FASTA_ fasta file and the read_fasta.py script from Section 3.2 into your Section 4.1 folder. Modify the script and make the function fastaparser() that takes a filename as input, reads through the file using open(), distinguishes between ID-containing lines and sequence-containing lines, and returns a dictionary with gene IDs as keys and sequences as values. Put this function along with your reverse complement function into a sequence_tools.py module and place it in your modules folder.\n",
    "\n",
    "Using the *sequence_tools.py* module, write a program that prints the reverse complement of the sequence for gene3 in _seq.FASTA_.\n",
    "\n",
    "__6. (Bonus) Create an ORF finder__\n",
    "\n",
    "For our purposes, we will define an open reading frame (ORF) as a start codon followed at some distance by a stop codon in the same frame. This program should take a dictionary from a parsed FASTA file (see exercise 5) as input and then output a dictionary of gene name:ORF(s) as the key:value pairs.\n",
    "\n",
    "HINT: Remember that an ORF is made of codons, so the number of nucleotides is divisible by three. Use ATG as the start codon and TAG, TAA, and TGA as potential stop codons.\n",
    "\n",
    "__7. Collections__\n",
    "\n",
    "Go back to exercise 4 of Section 2.1. Remember where you counted the number of each type of amino acid in this program? Look over the code you copied in for the exercise and see if you now understand it. Rewrite the section where you counted amino acids using the collections module.\n",
    "\n",
    "__8. For This and Giggles.__\n",
    "\n",
    "Try out the following code:"
   ]
  },
  {
   "cell_type": "code",
   "execution_count": null,
   "metadata": {
    "collapsed": true
   },
   "outputs": [],
   "source": [
    "#!/usr/bin/env python\n",
    " \n",
    "import this"
   ]
  },
  {
   "cell_type": "code",
   "execution_count": 22,
   "metadata": {
    "collapsed": true
   },
   "outputs": [],
   "source": [
    "#!/usr/bin/env python\n",
    " \n",
    "import antigravity"
   ]
  },
  {
   "cell_type": "code",
   "execution_count": null,
   "metadata": {
    "collapsed": true
   },
   "outputs": [],
   "source": []
  }
 ],
 "metadata": {
  "kernelspec": {
   "display_name": "Python 2",
   "language": "python",
   "name": "python2"
  },
  "language_info": {
   "codemirror_mode": {
    "name": "ipython",
    "version": 2
   },
   "file_extension": ".py",
   "mimetype": "text/x-python",
   "name": "python",
   "nbconvert_exporter": "python",
   "pygments_lexer": "ipython2",
   "version": "2.7.11"
  }
 },
 "nbformat": 4,
 "nbformat_minor": 0
}
