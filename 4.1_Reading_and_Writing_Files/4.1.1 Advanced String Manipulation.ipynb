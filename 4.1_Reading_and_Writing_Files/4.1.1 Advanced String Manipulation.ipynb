{
 "cells": [
  {
   "cell_type": "markdown",
   "metadata": {
    "collapsed": true
   },
   "source": [
    "# Manipulating Files and Processing Text\n",
    "\n",
    "\n",
    "## Topics\n",
    "- Basic text processing with **split()**, **join()**, and **strip()**\n",
    "- Text testing with **endswith()**, **startswith()**, **find()**, and **in**\n",
    "- Text conversion with **swapcase()**, **replace()**, **upper()**, and **lower()**\n",
    "- Opening and closing filehandles\n",
    "- Reading from the filehandle with **read()**, **readline()**, and **readlines()**\n",
    "- Reading from the filehandle iterable\n",
    "- Writing or appending to a file with **write()** and **writelines()**\n",
    "\n",
    "---"
   ]
  },
  {
   "cell_type": "markdown",
   "metadata": {},
   "source": [
    "## Introduction\n",
    "We've learned so far how we can write programs to make many, many decisions with an ordered logic to process information. What we've lacked thus far is how to input and output large tomes of data. In addition to manipulating large amounts of data with functions that open, read, write, and close files, we'll also benefit from learning about Python's marvelously powerful abilities to process text. Not to malign the now-dead king of text-processing languages, Perl (The King is Dead! Long Live the King!), Python really cleans house with it's unparalleled text-processing abilities with respect to both speed and ease of use."
   ]
  },
  {
   "cell_type": "markdown",
   "metadata": {},
   "source": [
    "## Basic Text Processing\n",
    "Systematically manipulating large text files is one of the most common tasks you will encounter. The most basic tools for this task are the built-in Python string methods. These allow us to convert between strings and lists, test the properties of strings, and modify strings.\n",
    "\n",
    "---\n",
    "## Brief Review: methods vs. functions\n",
    "\n",
    "We've learned about writing our own *functions* to process information. Many types of objects have special built-in functions. We call these functions *methods*, and in a broader discussion of objected-oriented programming practice and theory, we would have much, much more to say about them. However, we're not getting into the object-oriented universe or philosophy here, so you'll have to take as explanation simply that some objects are so routinely manipulated with the same sorts of operations that it pays to have functions dedicated to their processing. In the case of strings and files today, we'll see the *methods* that routinely operate on these types.\n",
    "\n",
    "Whereas a *function* is written to accept *arguments* and process those *arguments*, a *method* processes the object to which it belongs and is *called* differently. Whereas a *function* such as **sorted** is called by typing **sort(list_variable)**, etc, a *method* is called by typing a period and the name of the *method* at the end of the object. For example, if *print* were a *method*, it would be called like this:\n",
    "```python\n",
    "'Hello, World!'.print() \n",
    "```\n",
    "Notice that there are still **()** at the end of the name of the *method*, and *methods* can accept *arguments* just like *functions*. \n",
    "\n",
    "---\n",
    "\n",
    "### *split()*\n",
    "\n",
    "Let's consider the task of converting a character string of a sentence into a list of words separated by spaces and punctuation marks:"
   ]
  },
  {
   "cell_type": "code",
   "execution_count": 3,
   "metadata": {},
   "outputs": [
    {
     "name": "stdout",
     "output_type": "stream",
     "text": [
      "['I am a well-written sentence', ' and so I dependably have punctuation.']\n"
     ]
    }
   ],
   "source": [
    "delimiter = \",\"\n",
    "sentence_string = \"I am a well-written sentence, and so I dependably have punctuation.\"\n",
    "\n",
    "list_from_string = sentence_string.split(delimiter)\n",
    "\n",
    "print list_from_string"
   ]
  },
  {
   "cell_type": "markdown",
   "metadata": {},
   "source": [
    "Note that as we've split with a comma, the comma doesn't appear in our list. We can try out what happens with different arguments to split()."
   ]
  },
  {
   "cell_type": "code",
   "execution_count": 4,
   "metadata": {},
   "outputs": [
    {
     "name": "stdout",
     "output_type": "stream",
     "text": [
      "['I', 'am', 'a', 'well-written', 'sentence,', 'and', 'so', 'I', 'dependably', 'have', 'punctuation.']\n",
      "I\n",
      "am\n",
      "a\n",
      "well-written\n",
      "sentence,\n",
      "and\n",
      "so\n",
      "I\n",
      "dependably\n",
      "have\n",
      "punctuation.\n"
     ]
    }
   ],
   "source": [
    "# we don't need to specify the delimiter in a different variable\n",
    " \n",
    "list_A = sentence_string.split(' ')\n",
    "print list_A\n",
    "for word in list_A:\n",
    "     print word"
   ]
  },
  {
   "cell_type": "code",
   "execution_count": 5,
   "metadata": {},
   "outputs": [
    {
     "name": "stdout",
     "output_type": "stream",
     "text": [
      "['I ', 'm ', ' well-written sentence, ', 'nd so I depend', 'bly h', 've punctu', 'tion.']\n",
      "I \n",
      "m \n",
      " well-written sentence, \n",
      "nd so I depend\n",
      "bly h\n",
      "ve punctu\n",
      "tion.\n"
     ]
    }
   ],
   "source": [
    "list_B = sentence_string.split('a')\n",
    "print list_B\n",
    "for vowel_handicapped_lump in list_B:\n",
    "     print vowel_handicapped_lump"
   ]
  },
  {
   "cell_type": "markdown",
   "metadata": {},
   "source": [
    "You might also want to take a string and turn it letter-by-letter into a list. Although this isn't done by **split()**, it fits nicely here:"
   ]
  },
  {
   "cell_type": "code",
   "execution_count": 6,
   "metadata": {},
   "outputs": [
    {
     "name": "stdout",
     "output_type": "stream",
     "text": [
      "['I', ' ', 'a', 'm', ' ', 'a', ' ', 'w', 'e', 'l', 'l', '-', 'w', 'r', 'i', 't', 't', 'e', 'n', ' ', 's', 'e', 'n', 't', 'e', 'n', 'c', 'e', ',', ' ', 'a', 'n', 'd', ' ', 's', 'o', ' ', 'I', ' ', 'd', 'e', 'p', 'e', 'n', 'd', 'a', 'b', 'l', 'y', ' ', 'h', 'a', 'v', 'e', ' ', 'p', 'u', 'n', 'c', 't', 'u', 'a', 't', 'i', 'o', 'n', '.']\n"
     ]
    }
   ],
   "source": [
    "list_C = list(sentence_string)\n",
    "print list_C"
   ]
  },
  {
   "cell_type": "markdown",
   "metadata": {},
   "source": [
    "**split()** also can take a second argument (see, as always, the [string methods documentation](https://docs.python.org/2/library/stdtypes.html#string-methods)): you can specify how many times you want to split."
   ]
  },
  {
   "cell_type": "code",
   "execution_count": 7,
   "metadata": {},
   "outputs": [
    {
     "name": "stdout",
     "output_type": "stream",
     "text": [
      "['I', 'am', 'a', 'well-written sentence, and so I dependably have punctuation.']\n",
      "I\n",
      "am\n",
      "a\n",
      "well-written sentence, and so I dependably have punctuation.\n"
     ]
    }
   ],
   "source": [
    "list_from_string = sentence_string.split(' ', 3)\n",
    "print list_from_string\n",
    "for item in list_from_string:\n",
    "     print item"
   ]
  },
  {
   "cell_type": "markdown",
   "metadata": {},
   "source": [
    "Now let's see what happens when two delimiters are next to each other:"
   ]
  },
  {
   "cell_type": "code",
   "execution_count": 12,
   "metadata": {},
   "outputs": [
    {
     "name": "stdout",
     "output_type": "stream",
     "text": [
      "I am a well-written sentence, and so I dependably have punctuation.\n",
      "['I am a well-wri', '', 'en sen', 'ence, and so I dependably have punc', 'ua', 'ion.']\n",
      "I am a well-wri\n",
      "\n",
      "en sen\n",
      "ence, and so I dependably have punc\n",
      "ua\n",
      "ion.\n"
     ]
    }
   ],
   "source": [
    "print sentence_string\n",
    "\n",
    "list_from_string = sentence_string.split('t')\n",
    "print list_from_string\n",
    "for consonant_crippled_lump in list_from_string:\n",
    "     print consonant_crippled_lump"
   ]
  },
  {
   "cell_type": "markdown",
   "metadata": {},
   "source": [
    "We can see that we have a blank space in our list: \"written,\" in particular, was split into three parts: [\"...wri\",\"\",\"en...\"]. If delimiters are adjacent to each other, it will find that empty string between them and give it to you at the appropriate spot. What's more, if a delimiter comes at the end of a string, **split()** will find the empty string at the end of the string and give it to you at the end, as you can see in our first example. The **split()** method is a very one-hand-clapping-in-a-forest sort of thing.\n",
    "\n",
    "However, there is an exception to this. If you glanced at the **split()** documentation, you might have noticed that all of its arguments are, in fact, in brackets. That means that it doesn't need arguments to run: it has a default behavior."
   ]
  },
  {
   "cell_type": "code",
   "execution_count": 13,
   "metadata": {},
   "outputs": [
    {
     "name": "stdout",
     "output_type": "stream",
     "text": [
      "I\n",
      "am\n",
      "a\n",
      "well-written\n",
      "sentence,\n",
      "and\n",
      "so\n",
      "I\n",
      "dependably\n",
      "have\n",
      "punctuation.\n"
     ]
    }
   ],
   "source": [
    "# this looks *almost* the same as splitting by spaces\n",
    "list_from_string = sentence_string.split()\n",
    "for item in list_from_string:\n",
    "     print item"
   ]
  },
  {
   "cell_type": "code",
   "execution_count": 15,
   "metadata": {},
   "outputs": [
    {
     "name": "stdout",
     "output_type": "stream",
     "text": [
      "this\n",
      "is\n",
      "a\n",
      "different\n",
      "string\n"
     ]
    }
   ],
   "source": [
    "# But it is not the same as splitting by spaces -- no empty items!\n",
    "sentence_string = \"   this      is    a   different                         string\"\n",
    "list_from_string = sentence_string.split()\n",
    "for item in list_from_string:\n",
    "     print item"
   ]
  },
  {
   "cell_type": "code",
   "execution_count": 16,
   "metadata": {},
   "outputs": [
    {
     "name": "stdout",
     "output_type": "stream",
     "text": [
      "complete\n",
      "whitespace\n",
      "chaos\n",
      "!!!!!!!!!!!\n"
     ]
    }
   ],
   "source": [
    "sentence_string = '''   complete\n",
    "\\t\\t whitespace                      chaos\n",
    "             !!!!!!!!!!!         '''\n",
    "list_from_string = sentence_string.split()\n",
    "for item in list_from_string:\n",
    "     print item"
   ]
  },
  {
   "cell_type": "markdown",
   "metadata": {},
   "source": [
    "We see that the default behavior of **split()** is to:\n",
    "1. Remove all kinds of whitespace from the beginning and end of the string.\n",
    "2. Condense all adjacent whitespaces to single space characters.\n",
    "3. Split on those spaces.\n",
    "\n",
    "This turns out to be really handy. For instance, if you're using someone else's table, and, as happens more often than you might want to think, they've done a poor job delimiting their fields systematically with whitespace, this cleans things up quickly and easily in just one line.\n",
    "\n",
    "The **split()** method being popular, it has a few hangers-on:"
   ]
  },
  {
   "cell_type": "code",
   "execution_count": 17,
   "metadata": {},
   "outputs": [
    {
     "name": "stdout",
     "output_type": "stream",
     "text": [
      "['went to the market', 'stayed home', 'had roast beef', 'had none', 'cried wee wee wee all the way home']\n",
      "this little piggy went to the market\n",
      "this little piggy stayed home\n",
      "this little piggy had roast beef\n",
      "this little piggy had none\n",
      "this little piggy cried wee wee wee all the way home\n"
     ]
    }
   ],
   "source": [
    "toes = '''went to the market\n",
    "stayed home\n",
    "had roast beef\n",
    "had none\n",
    "cried wee wee wee all the way home'''\n",
    " \n",
    "# splitlines splits on linebreaks\n",
    "list_from_string = toes.splitlines()\n",
    "print list_from_string\n",
    "for toe in list_from_string:\n",
    "     print \"this little piggy {}\".format(toe)"
   ]
  },
  {
   "cell_type": "code",
   "execution_count": 19,
   "metadata": {},
   "outputs": [
    {
     "name": "stdout",
     "output_type": "stream",
     "text": [
      "['and this little piggy went', 'wee', 'wee', 'wee', 'all', 'the', 'way', 'home']\n",
      "and this little piggy went\n",
      "wee\n",
      "wee\n",
      "wee\n",
      "all\n",
      "the\n",
      "way\n",
      "home\n"
     ]
    }
   ],
   "source": [
    "# from the end of the string\n",
    "last_toe = \"and this little piggy went wee wee wee all the way home\"\n",
    "# when given a second argument, reverse split counts from the end\n",
    "list_from_string = last_toe.rsplit(' ',7)\n",
    "print list_from_string\n",
    "for item in list_from_string:\n",
    "     print item"
   ]
  },
  {
   "cell_type": "markdown",
   "metadata": {},
   "source": [
    "### *join()*\n",
    "So now we're pretty good at splitting things up, but how do we put things together again? **join()** takes care of that: it turns lists into strings. Surprisingly enough, it's not a method of lists. It's a string method, and it relies on the delimiter to know how to put lists together. This little surprise renders the syntax of **join()** to be among the most unintuitive of all syntactic trifles, but we will persevere if we concentrate on the fact that just like **split()**, **join()** is a method of strings."
   ]
  },
  {
   "cell_type": "code",
   "execution_count": 21,
   "metadata": {},
   "outputs": [
    {
     "name": "stdout",
     "output_type": "stream",
     "text": [
      "Up--Down--Left--Right\n"
     ]
    }
   ],
   "source": [
    "join_str = \"--\"\n",
    "words = ['Up', 'Down', 'Left', 'Right']\n",
    "\n",
    "print join_str.join(words)"
   ]
  },
  {
   "cell_type": "code",
   "execution_count": 24,
   "metadata": {},
   "outputs": [
    {
     "name": "stdout",
     "output_type": "stream",
     "text": [
      "Up--Down--Left--Right\n"
     ]
    }
   ],
   "source": [
    "# Or we can just do it like this:\n",
    "\n",
    "print '--'.join(words)"
   ]
  },
  {
   "cell_type": "code",
   "execution_count": 22,
   "metadata": {},
   "outputs": [
    {
     "name": "stdout",
     "output_type": "stream",
     "text": [
      "hu...m...pty... du...mpty\n",
      "hu+++m+++pty+++ du+++mpty\n",
      "All the king's horses and all the king's men couldn't put Humpty together again\n"
     ]
    }
   ],
   "source": [
    "broken = ['hu','m','pty',' du','mpty']  # Poor humpty dumpty....\n",
    "\n",
    "# Can we rebuild him?\n",
    "all_the_kings_horses = '...'\n",
    "all_the_kings_men = '+++'\n",
    "\n",
    "first_try = all_the_kings_horses.join(broken)\n",
    "print first_try\n",
    "\n",
    "second_try = all_the_kings_men.join(broken)\n",
    "print second_try\n",
    "\n",
    "if (first_try == 'humpty dumpty') or (second_try =='humpty dumpty'):\n",
    "     print 'hooray!'\n",
    "else:\n",
    "     print '''All the king's horses and all the king's men couldn't put Humpty together again'''"
   ]
  },
  {
   "cell_type": "markdown",
   "metadata": {},
   "source": [
    "Like **split()**, **join()** can usefully use the empty string-- it glues the components of the list directly together."
   ]
  },
  {
   "cell_type": "code",
   "execution_count": 25,
   "metadata": {},
   "outputs": [
    {
     "name": "stdout",
     "output_type": "stream",
     "text": [
      "humpty dumpty\n"
     ]
    }
   ],
   "source": [
    "third_try = ''.join(broken)\n",
    "print third_try"
   ]
  },
  {
   "cell_type": "markdown",
   "metadata": {},
   "source": [
    "Paradoxically, 'nothing' can put poor Humpty together again. To summarize, the syntax of **join()** is\n",
    "\n",
    "```python\n",
    "'delimiter'.join(list_object)```\n",
    "\n",
    "This is in fact the usual way to use **join()** -- you don't need to declare a separate variable to act as the glue."
   ]
  },
  {
   "cell_type": "code",
   "execution_count": 26,
   "metadata": {},
   "outputs": [
    {
     "name": "stdout",
     "output_type": "stream",
     "text": [
      "witch--hair--rapunzel--hair--prince\n"
     ]
    }
   ],
   "source": [
    "fairy_tale_characters = ['witch','rapunzel','prince']\n",
    "plot = '--hair--'.join(fairy_tale_characters)\n",
    "print plot"
   ]
  },
  {
   "cell_type": "markdown",
   "metadata": {},
   "source": [
    "## Testing Text: *startswith()*, *endswith()*, *find()*, and *in*\n",
    "\n",
    "Some files can have multiple types of information in them designated by a change in formatting. For example, in FASTA files sequence names are designated by starting the line with the **>** character, and all other lines are sequence. Of course we could use an **if** statement to test for the presence of a formatting character, as we demonstrated by finding ORFs within a sequence in the section on **if** statements, but why go through the effort when someone else has already written a method for us? We will cover tests asking if a string begins with, ends with, or contains a substring of interest."
   ]
  },
  {
   "cell_type": "code",
   "execution_count": 27,
   "metadata": {},
   "outputs": [
    {
     "name": "stdout",
     "output_type": "stream",
     "text": [
      "This id starts with a 1.\n",
      "This id starts with a 1!\n",
      "This id number doesn't end with a 1 at all!\n",
      "This id number ends with either an 'a' or a '1'.\n"
     ]
    }
   ],
   "source": [
    "id_number = '1131431a'\n",
    " \n",
    "# let's see if the id_number string starts with the number one\n",
    "if id_number[0] == '1':\n",
    "    print \"This id starts with a 1.\"\n",
    "\n",
    "# now let's use the string method startswith()\n",
    "if id_number.startswith('1'):\n",
    "    print \"This id starts with a 1!\"\n",
    "else:\n",
    "    print \"This id doesn't start with a 1!\"\n",
    "\n",
    "# and here's the endswith() method\n",
    "if id_number.endswith('1'):\n",
    "    print \"This id number ends with a 1!\"\n",
    "else:\n",
    "    print \"This id number doesn't end with a 1 at all!\"\n",
    "\n",
    "# and these methods can get a little fancier by having multiple things to\n",
    "# test for if you provide a tuple of characters\n",
    "if id_number.endswith(('1', 'a')):\n",
    "    print \"This id number ends with either an 'a' or a '1'.\"\n",
    "else:\n",
    "    print \"This id number does not end with an 'a' or a '1'!\""
   ]
  },
  {
   "cell_type": "markdown",
   "metadata": {},
   "source": [
    "Or maybe we don't care what the string starts or ends with as long as it contains a substring of interest. For this, we can use the **find()** method, which will return the index of the substring."
   ]
  },
  {
   "cell_type": "code",
   "execution_count": 28,
   "metadata": {},
   "outputs": [
    {
     "name": "stdout",
     "output_type": "stream",
     "text": [
      "4\n"
     ]
    }
   ],
   "source": [
    "sequence = 'AAGGCGCGT'\n",
    "first_c = sequence.find('C')\n",
    "\n",
    "print first_c"
   ]
  },
  {
   "cell_type": "code",
   "execution_count": 30,
   "metadata": {},
   "outputs": [
    {
     "name": "stdout",
     "output_type": "stream",
     "text": [
      "-1\n"
     ]
    }
   ],
   "source": [
    "first_z = sequence.find('Z')\n",
    "\n",
    "print first_z"
   ]
  },
  {
   "cell_type": "markdown",
   "metadata": {},
   "source": [
    "But be careful when you write if tests using the **find()** method, as it returns the index of the substring only if the substring is found.\n",
    "*If the substring isn't found **find()** returns the integer -1, which is not a zero, and thus will pass the **if** test as **True**.*"
   ]
  },
  {
   "cell_type": "code",
   "execution_count": 32,
   "metadata": {},
   "outputs": [
    {
     "name": "stdout",
     "output_type": "stream",
     "text": [
      "Found Stuart! We've got a bassist.\n"
     ]
    }
   ],
   "source": [
    "beatles = \"john, paul, george, and ringo\"\n",
    " \n",
    "# the wrong way\n",
    "if beatles.find('stuart'):\n",
    "    print \"Found Stuart! We've got a bassist.\"\n",
    "else:\n",
    "    print \"Anyone here play bass?\""
   ]
  },
  {
   "cell_type": "code",
   "execution_count": 35,
   "metadata": {},
   "outputs": [
    {
     "name": "stdout",
     "output_type": "stream",
     "text": [
      "This band isn't working out. . .\n"
     ]
    }
   ],
   "source": [
    "# let's do a comparison for -1 instead\n",
    "if beatles.find('pete') != -1:\n",
    "    print \"Fount Pete! We've got a drummer!\"\n",
    "else:\n",
    "    print \"This band isn't working out. . .\""
   ]
  },
  {
   "cell_type": "markdown",
   "metadata": {},
   "source": [
    "As you can see, using **find()** for **if** testing is counter-intuitive, and that's because **find()** is not intended to be used for this. Instead, use the **in** keyword, which works exactly like you would think, and is more than twice as fast."
   ]
  },
  {
   "cell_type": "code",
   "execution_count": 37,
   "metadata": {},
   "outputs": [
    {
     "name": "stdout",
     "output_type": "stream",
     "text": [
      "start codon at position 18\n"
     ]
    }
   ],
   "source": [
    "seq = 'GAAGTCGGAACCGAGGGTATGTCTCGGTGGCCAG'\n",
    "#                        ^^^\n",
    "\n",
    "if 'ATG' in seq:\n",
    "    print 'start codon at position {}'.format(seq.find('ATG'))\n",
    "else:\n",
    "    print 'no ORF present'"
   ]
  },
  {
   "cell_type": "markdown",
   "metadata": {},
   "source": [
    "## Text Conversions\n",
    "Systematically replacing the instances of a substring with a replacement substring may be a familiar task of tedium. Python has several methods for systematically converting characters in strings. The most general is the method **replace()**."
   ]
  },
  {
   "cell_type": "code",
   "execution_count": 2,
   "metadata": {},
   "outputs": [
    {
     "name": "stdout",
     "output_type": "stream",
     "text": [
      "Jerry Bob Phil Bill Keith\n"
     ]
    }
   ],
   "source": [
    "dead = 'Jerry Bob Phil Bill Ron'\n",
    "\n",
    "dead = dead.replace('Ron', 'Keith')\n",
    "print dead\n",
    "\n",
    "# YES! Keith's in!"
   ]
  },
  {
   "cell_type": "code",
   "execution_count": 3,
   "metadata": {},
   "outputs": [
    {
     "name": "stdout",
     "output_type": "stream",
     "text": [
      "Jerry Bob Phil Bill Keith Mickey More Mickey!\n",
      "Jerry Bob Phil Bill Keith Donna More Donna!\n"
     ]
    }
   ],
   "source": [
    "dead = dead + ' Mickey More Mickey!'\n",
    "print dead\n",
    "\n",
    "print dead.replace('Mickey', 'Donna')"
   ]
  },
  {
   "cell_type": "code",
   "execution_count": 4,
   "metadata": {},
   "outputs": [
    {
     "name": "stdout",
     "output_type": "stream",
     "text": [
      "Jerry Bob Phil Bill Keith Mickey More Mickey!\n",
      "Jerry Bob Phil Bill Keith Donna More Mickey!\n"
     ]
    }
   ],
   "source": [
    "# And we can tell replace how many replacements to make, starting at the beginning\n",
    "print dead\n",
    "print dead.replace('Mickey', 'Donna', 1)"
   ]
  },
  {
   "cell_type": "markdown",
   "metadata": {},
   "source": [
    "Notice that **replace()** does not change the string in place. Rembember that strings are immutable, so you have to reassign the variable to refer to the new string object that **replace()** returns.\n",
    "\n",
    "Since Python is case sensitive, as are most UNIX-based bioinformatics programs you'll be interested in using, you may also find yourself wishing that all the text in your data was the same case. There are methods for both testing and converting cases."
   ]
  },
  {
   "cell_type": "code",
   "execution_count": 43,
   "metadata": {},
   "outputs": [
    {
     "name": "stdout",
     "output_type": "stream",
     "text": [
      "ACTGTCAGTACGTAGCATCGAAAATCGATCGACTGAATACGATCG\n"
     ]
    }
   ],
   "source": [
    "blast_hit = 'ACTGTCAGTACGTAGCATCGAaaatCGATCGACTGAatacgatCG'\n",
    " \n",
    "if blast_hit.isupper():\n",
    "    pass\n",
    "else:\n",
    "    print blast_hit.upper()"
   ]
  },
  {
   "cell_type": "code",
   "execution_count": 44,
   "metadata": {},
   "outputs": [
    {
     "name": "stdout",
     "output_type": "stream",
     "text": [
      "actgtcagtacgtagcatcgaaaatcgatcgactgaatacgatcg\n"
     ]
    }
   ],
   "source": [
    "# or if you prefer lower case\n",
    "print blast_hit.lower()"
   ]
  },
  {
   "cell_type": "code",
   "execution_count": 45,
   "metadata": {},
   "outputs": [
    {
     "name": "stdout",
     "output_type": "stream",
     "text": [
      "actgtcagtacgtagcatcgaAAATcgatcgactgaATACGATcg\n"
     ]
    }
   ],
   "source": [
    "# or if you are (or the program you're writing is) indecisive\n",
    "print blast_hit.swapcase()"
   ]
  },
  {
   "cell_type": "code",
   "execution_count": 46,
   "metadata": {},
   "outputs": [
    {
     "name": "stdout",
     "output_type": "stream",
     "text": [
      "we got all letters here\n"
     ]
    }
   ],
   "source": [
    "# and we might also be interested in this method\n",
    "if blast_hit.isalpha():\n",
    "    print \"we got all letters here\"\n",
    "else:\n",
    "    print \"whoa, something doesn't look like nucleotides!\""
   ]
  }
 ],
 "metadata": {
  "anaconda-cloud": {},
  "kernelspec": {
   "display_name": "Python 2",
   "language": "python",
   "name": "python2"
  },
  "language_info": {
   "codemirror_mode": {
    "name": "ipython",
    "version": 2
   },
   "file_extension": ".py",
   "mimetype": "text/x-python",
   "name": "python",
   "nbconvert_exporter": "python",
   "pygments_lexer": "ipython2",
   "version": "2.7.13"
  }
 },
 "nbformat": 4,
 "nbformat_minor": 1
}
