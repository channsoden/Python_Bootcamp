{
 "cells": [
  {
   "cell_type": "markdown",
   "metadata": {},
   "source": [
    "__EXTRA: back to Index-tastic__\n",
    "\n",
    "Let's try to solve that ugly Index-tastic exercise a bit more elegantly, using a loop!\n",
    "\n",
    "Again:\n",
    "\n",
    "  - Ask the user to specify a number of digits (e.g. 1-digit numbers, 2-digit numbers, etc.).\n",
    "  \n",
    "  - Ask the user to supply **any number of ** numbers with that many digits separated by spaces.\n",
    "  \n",
    "  - Parse these numbers out, and calculate their sum and mean.\n",
    "\n",
    "*It's possible to solve it with only 4 variables and 9 lines of code! (And probably less than that)*"
   ]
  }
 ],
 "metadata": {
  "kernelspec": {
   "display_name": "Python 2",
   "language": "python",
   "name": "python2"
  },
  "language_info": {
   "codemirror_mode": {
    "name": "ipython",
    "version": 2
   },
   "file_extension": ".py",
   "mimetype": "text/x-python",
   "name": "python",
   "nbconvert_exporter": "python",
   "pygments_lexer": "ipython2",
   "version": "2.7.13"
  }
 },
 "nbformat": 4,
 "nbformat_minor": 2
}
