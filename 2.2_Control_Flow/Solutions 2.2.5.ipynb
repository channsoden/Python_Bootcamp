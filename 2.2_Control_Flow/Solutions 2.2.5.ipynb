{
 "cells": [
  {
   "cell_type": "code",
   "execution_count": 1,
   "metadata": {},
   "outputs": [
    {
     "name": "stdout",
     "output_type": "stream",
     "text": [
      "Please enter a digit length and press return\n",
      "3\n",
      "Please enter integers of the length you specified separating each by a space.\n",
      "100 200 300 400 500 600 700 800 900\n",
      "4500.0\n",
      "500.0\n"
     ]
    }
   ],
   "source": [
    "# get number of digits\n",
    "numdig = int(raw_input(\"Please enter a digit length and press return\\n\"))\n",
    "\n",
    "# get our numbers\n",
    "numstr = raw_input(\"Please enter integers of the length you specified separating each by a space.\\n\")\n",
    "\n",
    "# create variable that will store the sum\n",
    "total = 0.0\n",
    "# create variable that counts number of numbers provided by user\n",
    "n = 0\n",
    "# while we can slice the string,\n",
    "while numstr[n*numdig+n:(n+1)*numdig+n]:\n",
    "    # extract number as integer and add it up to previous ones\n",
    "    total = total + int(numstr[n*numdig+n:(n+1)*numdig+n])\n",
    "    # add one to the count of numbers\n",
    "    n = n+1\n",
    "\n",
    "# print sum and mean\n",
    "print total\n",
    "print total/n"
   ]
  }
 ],
 "metadata": {
  "kernelspec": {
   "display_name": "Python 2",
   "language": "python",
   "name": "python2"
  },
  "language_info": {
   "codemirror_mode": {
    "name": "ipython",
    "version": 2
   },
   "file_extension": ".py",
   "mimetype": "text/x-python",
   "name": "python",
   "nbconvert_exporter": "python",
   "pygments_lexer": "ipython2",
   "version": "2.7.13"
  }
 },
 "nbformat": 4,
 "nbformat_minor": 2
}
